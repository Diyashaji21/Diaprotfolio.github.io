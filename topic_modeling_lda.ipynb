{
  "nbformat": 4,
  "nbformat_minor": 0,
  "metadata": {
    "colab": {
      "provenance": [],
      "authorship_tag": "ABX9TyPkBhJaZriGdTwHYNWfj4Ri",
      "include_colab_link": true
    },
    "kernelspec": {
      "name": "python3",
      "display_name": "Python 3"
    },
    "language_info": {
      "name": "python"
    }
  },
  "cells": [
    {
      "cell_type": "markdown",
      "metadata": {
        "id": "view-in-github",
        "colab_type": "text"
      },
      "source": [
        "<a href=\"https://colab.research.google.com/github/Diyashaji21/Diaprotfolio.github.io/blob/main/topic_modeling_lda.ipynb\" target=\"_parent\"><img src=\"https://colab.research.google.com/assets/colab-badge.svg\" alt=\"Open In Colab\"/></a>"
      ]
    },
    {
      "cell_type": "code",
      "source": [
        "!pip install pyLDAvis"
      ],
      "metadata": {
        "colab": {
          "base_uri": "https://localhost:8080/"
        },
        "id": "9Gd5U_F0lr_Q",
        "outputId": "1af6811f-3594-4c09-a38b-7fdb06d58e43"
      },
      "execution_count": 2,
      "outputs": [
        {
          "output_type": "stream",
          "name": "stdout",
          "text": [
            "Requirement already satisfied: pyLDAvis in /usr/local/lib/python3.10/dist-packages (3.4.1)\n",
            "Requirement already satisfied: numpy>=1.24.2 in /usr/local/lib/python3.10/dist-packages (from pyLDAvis) (1.26.4)\n",
            "Requirement already satisfied: scipy in /usr/local/lib/python3.10/dist-packages (from pyLDAvis) (1.13.1)\n",
            "Requirement already satisfied: pandas>=2.0.0 in /usr/local/lib/python3.10/dist-packages (from pyLDAvis) (2.1.4)\n",
            "Requirement already satisfied: joblib>=1.2.0 in /usr/local/lib/python3.10/dist-packages (from pyLDAvis) (1.4.2)\n",
            "Requirement already satisfied: jinja2 in /usr/local/lib/python3.10/dist-packages (from pyLDAvis) (3.1.4)\n",
            "Requirement already satisfied: numexpr in /usr/local/lib/python3.10/dist-packages (from pyLDAvis) (2.10.1)\n",
            "Requirement already satisfied: funcy in /usr/local/lib/python3.10/dist-packages (from pyLDAvis) (2.0)\n",
            "Requirement already satisfied: scikit-learn>=1.0.0 in /usr/local/lib/python3.10/dist-packages (from pyLDAvis) (1.3.2)\n",
            "Requirement already satisfied: gensim in /usr/local/lib/python3.10/dist-packages (from pyLDAvis) (4.3.3)\n",
            "Requirement already satisfied: setuptools in /usr/local/lib/python3.10/dist-packages (from pyLDAvis) (71.0.4)\n",
            "Requirement already satisfied: python-dateutil>=2.8.2 in /usr/local/lib/python3.10/dist-packages (from pandas>=2.0.0->pyLDAvis) (2.8.2)\n",
            "Requirement already satisfied: pytz>=2020.1 in /usr/local/lib/python3.10/dist-packages (from pandas>=2.0.0->pyLDAvis) (2024.1)\n",
            "Requirement already satisfied: tzdata>=2022.1 in /usr/local/lib/python3.10/dist-packages (from pandas>=2.0.0->pyLDAvis) (2024.1)\n",
            "Requirement already satisfied: threadpoolctl>=2.0.0 in /usr/local/lib/python3.10/dist-packages (from scikit-learn>=1.0.0->pyLDAvis) (3.5.0)\n",
            "Requirement already satisfied: smart-open>=1.8.1 in /usr/local/lib/python3.10/dist-packages (from gensim->pyLDAvis) (7.0.4)\n",
            "Requirement already satisfied: MarkupSafe>=2.0 in /usr/local/lib/python3.10/dist-packages (from jinja2->pyLDAvis) (2.1.5)\n",
            "Requirement already satisfied: six>=1.5 in /usr/local/lib/python3.10/dist-packages (from python-dateutil>=2.8.2->pandas>=2.0.0->pyLDAvis) (1.16.0)\n",
            "Requirement already satisfied: wrapt in /usr/local/lib/python3.10/dist-packages (from smart-open>=1.8.1->gensim->pyLDAvis) (1.16.0)\n"
          ]
        }
      ]
    },
    {
      "cell_type": "code",
      "source": [
        "!pip install scikit-learn"
      ],
      "metadata": {
        "colab": {
          "base_uri": "https://localhost:8080/"
        },
        "id": "hlVRIWGOlyMr",
        "outputId": "3de9880b-9a41-4474-a5d8-b206f2655a53"
      },
      "execution_count": 3,
      "outputs": [
        {
          "output_type": "stream",
          "name": "stdout",
          "text": [
            "Requirement already satisfied: scikit-learn in /usr/local/lib/python3.10/dist-packages (1.3.2)\n",
            "Requirement already satisfied: numpy<2.0,>=1.17.3 in /usr/local/lib/python3.10/dist-packages (from scikit-learn) (1.26.4)\n",
            "Requirement already satisfied: scipy>=1.5.0 in /usr/local/lib/python3.10/dist-packages (from scikit-learn) (1.13.1)\n",
            "Requirement already satisfied: joblib>=1.1.1 in /usr/local/lib/python3.10/dist-packages (from scikit-learn) (1.4.2)\n",
            "Requirement already satisfied: threadpoolctl>=2.0.0 in /usr/local/lib/python3.10/dist-packages (from scikit-learn) (3.5.0)\n"
          ]
        }
      ]
    },
    {
      "cell_type": "code",
      "source": [
        "!pip install nltk"
      ],
      "metadata": {
        "colab": {
          "base_uri": "https://localhost:8080/"
        },
        "id": "3q0bpo_al5ak",
        "outputId": "799ab830-c17f-4f6e-f85f-e3d6ef3a4d09"
      },
      "execution_count": 4,
      "outputs": [
        {
          "output_type": "stream",
          "name": "stdout",
          "text": [
            "Requirement already satisfied: nltk in /usr/local/lib/python3.10/dist-packages (3.8.1)\n",
            "Requirement already satisfied: click in /usr/local/lib/python3.10/dist-packages (from nltk) (8.1.7)\n",
            "Requirement already satisfied: joblib in /usr/local/lib/python3.10/dist-packages (from nltk) (1.4.2)\n",
            "Requirement already satisfied: regex>=2021.8.3 in /usr/local/lib/python3.10/dist-packages (from nltk) (2024.5.15)\n",
            "Requirement already satisfied: tqdm in /usr/local/lib/python3.10/dist-packages (from nltk) (4.66.5)\n"
          ]
        }
      ]
    },
    {
      "cell_type": "code",
      "source": [
        "from sklearn.datasets import fetch_20newsgroups\n",
        "from sklearn.feature_extraction.text import CountVectorizer, TfidfVectorizer\n",
        "from sklearn.decomposition import LatentDirichletAllocation, TruncatedSVD\n",
        "from sklearn.metrics.pairwise import cosine_similarity\n",
        "import pyLDAvis.sklearn\n",
        "import matplotlib.pyplot as plt\n",
        "import re\n",
        "from nltk.corpus import stopwords\n",
        "from nltk.tokenize import word_tokenize\n",
        "from nltk.stem import PorterStemmer\n",
        "import nltk\n",
        "\n",
        "# Download necessary NLTK data\n",
        "nltk.download('punkt')\n",
        "nltk.download('stopwords')\n"
      ],
      "metadata": {
        "colab": {
          "base_uri": "https://localhost:8080/"
        },
        "id": "MN325we7l_P_",
        "outputId": "74a5244c-330e-4352-f50e-3c09b6ae2e16"
      },
      "execution_count": 3,
      "outputs": [
        {
          "output_type": "stream",
          "name": "stderr",
          "text": [
            "/usr/local/lib/python3.10/dist-packages/ipykernel/ipkernel.py:283: DeprecationWarning: `should_run_async` will not call `transform_cell` automatically in the future. Please pass the result to `transformed_cell` argument and any exception that happen during thetransform in `preprocessing_exc_tuple` in IPython 7.17 and above.\n",
            "  and should_run_async(code)\n",
            "[nltk_data] Downloading package punkt to /root/nltk_data...\n",
            "[nltk_data]   Unzipping tokenizers/punkt.zip.\n",
            "[nltk_data] Downloading package stopwords to /root/nltk_data...\n",
            "[nltk_data]   Unzipping corpora/stopwords.zip.\n"
          ]
        },
        {
          "output_type": "execute_result",
          "data": {
            "text/plain": [
              "True"
            ]
          },
          "metadata": {},
          "execution_count": 3
        }
      ]
    },
    {
      "cell_type": "code",
      "source": [],
      "metadata": {
        "id": "BBG8bPG2nNBb"
      },
      "execution_count": null,
      "outputs": []
    },
    {
      "cell_type": "code",
      "source": [
        "!pip install pyLDAvis==3.4.0\n"
      ],
      "metadata": {
        "colab": {
          "base_uri": "https://localhost:8080/",
          "height": 654
        },
        "id": "CC8FQGp9mwiW",
        "outputId": "9fb0e5cb-7d2d-470c-afe2-754b9975ba79"
      },
      "execution_count": 6,
      "outputs": [
        {
          "output_type": "stream",
          "name": "stderr",
          "text": [
            "/usr/local/lib/python3.10/dist-packages/ipykernel/ipkernel.py:283: DeprecationWarning: `should_run_async` will not call `transform_cell` automatically in the future. Please pass the result to `transformed_cell` argument and any exception that happen during thetransform in `preprocessing_exc_tuple` in IPython 7.17 and above.\n",
            "  and should_run_async(code)\n"
          ]
        },
        {
          "output_type": "stream",
          "name": "stdout",
          "text": [
            "Collecting pyLDAvis==3.4.0\n",
            "  Downloading pyLDAvis-3.4.0-py3-none-any.whl.metadata (4.2 kB)\n",
            "Requirement already satisfied: numpy>=1.22.0 in /usr/local/lib/python3.10/dist-packages (from pyLDAvis==3.4.0) (1.26.4)\n",
            "Requirement already satisfied: scipy in /usr/local/lib/python3.10/dist-packages (from pyLDAvis==3.4.0) (1.13.1)\n",
            "Requirement already satisfied: pandas>=1.3.4 in /usr/local/lib/python3.10/dist-packages (from pyLDAvis==3.4.0) (2.1.4)\n",
            "Requirement already satisfied: joblib>=1.2.0 in /usr/local/lib/python3.10/dist-packages (from pyLDAvis==3.4.0) (1.4.2)\n",
            "Requirement already satisfied: jinja2 in /usr/local/lib/python3.10/dist-packages (from pyLDAvis==3.4.0) (3.1.4)\n",
            "Requirement already satisfied: numexpr in /usr/local/lib/python3.10/dist-packages (from pyLDAvis==3.4.0) (2.10.1)\n",
            "Requirement already satisfied: funcy in /usr/local/lib/python3.10/dist-packages (from pyLDAvis==3.4.0) (2.0)\n",
            "Requirement already satisfied: scikit-learn>=1.0.0 in /usr/local/lib/python3.10/dist-packages (from pyLDAvis==3.4.0) (1.3.2)\n",
            "Requirement already satisfied: gensim in /usr/local/lib/python3.10/dist-packages (from pyLDAvis==3.4.0) (4.3.3)\n",
            "Requirement already satisfied: setuptools in /usr/local/lib/python3.10/dist-packages (from pyLDAvis==3.4.0) (71.0.4)\n",
            "Requirement already satisfied: python-dateutil>=2.8.2 in /usr/local/lib/python3.10/dist-packages (from pandas>=1.3.4->pyLDAvis==3.4.0) (2.8.2)\n",
            "Requirement already satisfied: pytz>=2020.1 in /usr/local/lib/python3.10/dist-packages (from pandas>=1.3.4->pyLDAvis==3.4.0) (2024.1)\n",
            "Requirement already satisfied: tzdata>=2022.1 in /usr/local/lib/python3.10/dist-packages (from pandas>=1.3.4->pyLDAvis==3.4.0) (2024.1)\n",
            "Requirement already satisfied: threadpoolctl>=2.0.0 in /usr/local/lib/python3.10/dist-packages (from scikit-learn>=1.0.0->pyLDAvis==3.4.0) (3.5.0)\n",
            "Requirement already satisfied: smart-open>=1.8.1 in /usr/local/lib/python3.10/dist-packages (from gensim->pyLDAvis==3.4.0) (7.0.4)\n",
            "Requirement already satisfied: MarkupSafe>=2.0 in /usr/local/lib/python3.10/dist-packages (from jinja2->pyLDAvis==3.4.0) (2.1.5)\n",
            "Requirement already satisfied: six>=1.5 in /usr/local/lib/python3.10/dist-packages (from python-dateutil>=2.8.2->pandas>=1.3.4->pyLDAvis==3.4.0) (1.16.0)\n",
            "Requirement already satisfied: wrapt in /usr/local/lib/python3.10/dist-packages (from smart-open>=1.8.1->gensim->pyLDAvis==3.4.0) (1.16.0)\n",
            "Downloading pyLDAvis-3.4.0-py3-none-any.whl (2.6 MB)\n",
            "\u001b[2K   \u001b[90m━━━━━━━━━━━━━━━━━━━━━━━━━━━━━━━━━━━━━━━━\u001b[0m \u001b[32m2.6/2.6 MB\u001b[0m \u001b[31m36.0 MB/s\u001b[0m eta \u001b[36m0:00:00\u001b[0m\n",
            "\u001b[?25hInstalling collected packages: pyLDAvis\n",
            "  Attempting uninstall: pyLDAvis\n",
            "    Found existing installation: pyLDAvis 3.4.1\n",
            "    Uninstalling pyLDAvis-3.4.1:\n",
            "      Successfully uninstalled pyLDAvis-3.4.1\n",
            "Successfully installed pyLDAvis-3.4.0\n"
          ]
        },
        {
          "output_type": "display_data",
          "data": {
            "application/vnd.colab-display-data+json": {
              "pip_warning": {
                "packages": [
                  "pyLDAvis"
                ]
              },
              "id": "9c0aed4ec0c946f6845d0470ba63a89e"
            }
          },
          "metadata": {}
        }
      ]
    },
    {
      "cell_type": "code",
      "source": [
        "import pyLDAvis.gensim_models as gensimvis"
      ],
      "metadata": {
        "id": "gT7PW9qlm93u"
      },
      "execution_count": 1,
      "outputs": []
    },
    {
      "cell_type": "code",
      "source": [
        "import pyLDAvis.sklearn as sklearnvis"
      ],
      "metadata": {
        "colab": {
          "base_uri": "https://localhost:8080/"
        },
        "id": "w5QdB_GSnEqg",
        "outputId": "b1481d64-7cfc-404f-ef09-52b78050d12f"
      },
      "execution_count": 2,
      "outputs": [
        {
          "output_type": "stream",
          "name": "stderr",
          "text": [
            "/usr/local/lib/python3.10/dist-packages/ipykernel/ipkernel.py:283: DeprecationWarning: `should_run_async` will not call `transform_cell` automatically in the future. Please pass the result to `transformed_cell` argument and any exception that happen during thetransform in `preprocessing_exc_tuple` in IPython 7.17 and above.\n",
            "  and should_run_async(code)\n"
          ]
        }
      ]
    },
    {
      "cell_type": "code",
      "source": [
        "# Load dataset\n",
        "newsgroups = fetch_20newsgroups(subset='all')\n",
        "documents = newsgroups.data\n"
      ],
      "metadata": {
        "colab": {
          "base_uri": "https://localhost:8080/"
        },
        "id": "g8AmqHBfnQKr",
        "outputId": "0ff1b656-480e-4a97-dcdb-67db6e11c131"
      },
      "execution_count": 4,
      "outputs": [
        {
          "output_type": "stream",
          "name": "stderr",
          "text": [
            "/usr/local/lib/python3.10/dist-packages/ipykernel/ipkernel.py:283: DeprecationWarning: `should_run_async` will not call `transform_cell` automatically in the future. Please pass the result to `transformed_cell` argument and any exception that happen during thetransform in `preprocessing_exc_tuple` in IPython 7.17 and above.\n",
            "  and should_run_async(code)\n"
          ]
        }
      ]
    },
    {
      "cell_type": "code",
      "source": [
        "# Initialize stop words and stemmer\n",
        "stop_words = set(stopwords.words('english'))\n",
        "stemmer = PorterStemmer()\n",
        "\n",
        "def preprocess_text(text):\n",
        "    # Remove punctuation and convert to lowercase\n",
        "    text = re.sub(r'\\W', ' ', text)\n",
        "    text = text.lower()\n",
        "    # Tokenize\n",
        "    tokens = word_tokenize(text)\n",
        "    # Remove stop words and stem\n",
        "    tokens = [stemmer.stem(word) for word in tokens if word not in stop_words]\n",
        "    return ' '.join(tokens)\n",
        "\n",
        "# Apply preprocessing to the dataset\n",
        "processed_docs = [preprocess_text(doc) for doc in documents]\n"
      ],
      "metadata": {
        "colab": {
          "base_uri": "https://localhost:8080/"
        },
        "id": "iBZEQvTWnYGA",
        "outputId": "de93c4c4-0588-47a6-89c1-360d433bcc41"
      },
      "execution_count": 5,
      "outputs": [
        {
          "output_type": "stream",
          "name": "stderr",
          "text": [
            "/usr/local/lib/python3.10/dist-packages/ipykernel/ipkernel.py:283: DeprecationWarning: `should_run_async` will not call `transform_cell` automatically in the future. Please pass the result to `transformed_cell` argument and any exception that happen during thetransform in `preprocessing_exc_tuple` in IPython 7.17 and above.\n",
            "  and should_run_async(code)\n"
          ]
        }
      ]
    },
    {
      "cell_type": "code",
      "source": [
        "# Vectorize text data\n",
        "vectorizer = CountVectorizer()\n",
        "X = vectorizer.fit_transform(processed_docs)\n",
        "\n",
        "# Apply LDA\n",
        "lda = LatentDirichletAllocation(n_components=10, random_state=42)\n",
        "lda.fit(X)\n",
        "\n",
        "# Visualize topics\n",
        "lda_display = pyLDAvis.sklearn.prepare(lda, X, vectorizer)\n",
        "pyLDAvis.display(lda_display)  # Use this to display the visualization in Colab\n",
        "\n",
        "# Display the top words in each topic\n",
        "def print_top_words(model, feature_names, n_words=10):\n",
        "    for topic_idx, topic in enumerate(model.components_):\n",
        "        print(f\"Topic #{topic_idx}:\")\n",
        "        print(\" \".join([feature_names[i] for i in topic.argsort()[:-n_words - 1:-1]]))\n",
        "    print()\n",
        "\n",
        "print_top_words(lda, vectorizer.get_feature_names_out())\n"
      ],
      "metadata": {
        "colab": {
          "base_uri": "https://localhost:8080/",
          "height": 411
        },
        "id": "q2ejv_6Rn5-K",
        "outputId": "73e33bf0-bfe4-451c-a476-e2e6e083baae"
      },
      "execution_count": 9,
      "outputs": [
        {
          "output_type": "stream",
          "name": "stderr",
          "text": [
            "/usr/local/lib/python3.10/dist-packages/ipykernel/ipkernel.py:283: DeprecationWarning: `should_run_async` will not call `transform_cell` automatically in the future. Please pass the result to `transformed_cell` argument and any exception that happen during thetransform in `preprocessing_exc_tuple` in IPython 7.17 and above.\n",
            "  and should_run_async(code)\n"
          ]
        },
        {
          "output_type": "error",
          "ename": "AttributeError",
          "evalue": "'CountVectorizer' object has no attribute 'get_feature_names'",
          "traceback": [
            "\u001b[0;31m---------------------------------------------------------------------------\u001b[0m",
            "\u001b[0;31mAttributeError\u001b[0m                            Traceback (most recent call last)",
            "\u001b[0;32m<ipython-input-9-473e35729511>\u001b[0m in \u001b[0;36m<cell line: 10>\u001b[0;34m()\u001b[0m\n\u001b[1;32m      8\u001b[0m \u001b[0;34m\u001b[0m\u001b[0m\n\u001b[1;32m      9\u001b[0m \u001b[0;31m# Visualize topics\u001b[0m\u001b[0;34m\u001b[0m\u001b[0;34m\u001b[0m\u001b[0m\n\u001b[0;32m---> 10\u001b[0;31m \u001b[0mlda_display\u001b[0m \u001b[0;34m=\u001b[0m \u001b[0mpyLDAvis\u001b[0m\u001b[0;34m.\u001b[0m\u001b[0msklearn\u001b[0m\u001b[0;34m.\u001b[0m\u001b[0mprepare\u001b[0m\u001b[0;34m(\u001b[0m\u001b[0mlda\u001b[0m\u001b[0;34m,\u001b[0m \u001b[0mX\u001b[0m\u001b[0;34m,\u001b[0m \u001b[0mvectorizer\u001b[0m\u001b[0;34m)\u001b[0m\u001b[0;34m\u001b[0m\u001b[0;34m\u001b[0m\u001b[0m\n\u001b[0m\u001b[1;32m     11\u001b[0m \u001b[0mpyLDAvis\u001b[0m\u001b[0;34m.\u001b[0m\u001b[0mdisplay\u001b[0m\u001b[0;34m(\u001b[0m\u001b[0mlda_display\u001b[0m\u001b[0;34m)\u001b[0m  \u001b[0;31m# Use this to display the visualization in Colab\u001b[0m\u001b[0;34m\u001b[0m\u001b[0;34m\u001b[0m\u001b[0m\n\u001b[1;32m     12\u001b[0m \u001b[0;34m\u001b[0m\u001b[0m\n",
            "\u001b[0;32m/usr/local/lib/python3.10/dist-packages/pyLDAvis/sklearn.py\u001b[0m in \u001b[0;36mprepare\u001b[0;34m(lda_model, dtm, vectorizer, **kwargs)\u001b[0m\n\u001b[1;32m     92\u001b[0m     \u001b[0mSee\u001b[0m\u001b[0;31m \u001b[0m\u001b[0;31m`\u001b[0m\u001b[0mpyLDAvis\u001b[0m\u001b[0;34m.\u001b[0m\u001b[0mprepare\u001b[0m\u001b[0;31m`\u001b[0m \u001b[0;32mfor\u001b[0m \u001b[0;34m**\u001b[0m\u001b[0mkwargs\u001b[0m\u001b[0;34m.\u001b[0m\u001b[0;34m\u001b[0m\u001b[0;34m\u001b[0m\u001b[0m\n\u001b[1;32m     93\u001b[0m     \"\"\"\n\u001b[0;32m---> 94\u001b[0;31m     \u001b[0mopts\u001b[0m \u001b[0;34m=\u001b[0m \u001b[0mfp\u001b[0m\u001b[0;34m.\u001b[0m\u001b[0mmerge\u001b[0m\u001b[0;34m(\u001b[0m\u001b[0m_extract_data\u001b[0m\u001b[0;34m(\u001b[0m\u001b[0mlda_model\u001b[0m\u001b[0;34m,\u001b[0m \u001b[0mdtm\u001b[0m\u001b[0;34m,\u001b[0m \u001b[0mvectorizer\u001b[0m\u001b[0;34m)\u001b[0m\u001b[0;34m,\u001b[0m \u001b[0mkwargs\u001b[0m\u001b[0;34m)\u001b[0m\u001b[0;34m\u001b[0m\u001b[0;34m\u001b[0m\u001b[0m\n\u001b[0m\u001b[1;32m     95\u001b[0m     \u001b[0;32mreturn\u001b[0m \u001b[0mpyLDAvis\u001b[0m\u001b[0;34m.\u001b[0m\u001b[0mprepare\u001b[0m\u001b[0;34m(\u001b[0m\u001b[0;34m**\u001b[0m\u001b[0mopts\u001b[0m\u001b[0;34m)\u001b[0m\u001b[0;34m\u001b[0m\u001b[0;34m\u001b[0m\u001b[0m\n",
            "\u001b[0;32m/usr/local/lib/python3.10/dist-packages/pyLDAvis/sklearn.py\u001b[0m in \u001b[0;36m_extract_data\u001b[0;34m(lda_model, dtm, vectorizer)\u001b[0m\n\u001b[1;32m     36\u001b[0m \u001b[0;34m\u001b[0m\u001b[0m\n\u001b[1;32m     37\u001b[0m \u001b[0;32mdef\u001b[0m \u001b[0m_extract_data\u001b[0m\u001b[0;34m(\u001b[0m\u001b[0mlda_model\u001b[0m\u001b[0;34m,\u001b[0m \u001b[0mdtm\u001b[0m\u001b[0;34m,\u001b[0m \u001b[0mvectorizer\u001b[0m\u001b[0;34m)\u001b[0m\u001b[0;34m:\u001b[0m\u001b[0;34m\u001b[0m\u001b[0;34m\u001b[0m\u001b[0m\n\u001b[0;32m---> 38\u001b[0;31m     \u001b[0mvocab\u001b[0m \u001b[0;34m=\u001b[0m \u001b[0m_get_vocab\u001b[0m\u001b[0;34m(\u001b[0m\u001b[0mvectorizer\u001b[0m\u001b[0;34m)\u001b[0m\u001b[0;34m\u001b[0m\u001b[0;34m\u001b[0m\u001b[0m\n\u001b[0m\u001b[1;32m     39\u001b[0m     \u001b[0mdoc_lengths\u001b[0m \u001b[0;34m=\u001b[0m \u001b[0m_get_doc_lengths\u001b[0m\u001b[0;34m(\u001b[0m\u001b[0mdtm\u001b[0m\u001b[0;34m)\u001b[0m\u001b[0;34m\u001b[0m\u001b[0;34m\u001b[0m\u001b[0m\n\u001b[1;32m     40\u001b[0m     \u001b[0mterm_freqs\u001b[0m \u001b[0;34m=\u001b[0m \u001b[0m_get_term_freqs\u001b[0m\u001b[0;34m(\u001b[0m\u001b[0mdtm\u001b[0m\u001b[0;34m)\u001b[0m\u001b[0;34m\u001b[0m\u001b[0;34m\u001b[0m\u001b[0m\n",
            "\u001b[0;32m/usr/local/lib/python3.10/dist-packages/pyLDAvis/sklearn.py\u001b[0m in \u001b[0;36m_get_vocab\u001b[0;34m(vectorizer)\u001b[0m\n\u001b[1;32m     18\u001b[0m \u001b[0;34m\u001b[0m\u001b[0m\n\u001b[1;32m     19\u001b[0m \u001b[0;32mdef\u001b[0m \u001b[0m_get_vocab\u001b[0m\u001b[0;34m(\u001b[0m\u001b[0mvectorizer\u001b[0m\u001b[0;34m)\u001b[0m\u001b[0;34m:\u001b[0m\u001b[0;34m\u001b[0m\u001b[0;34m\u001b[0m\u001b[0m\n\u001b[0;32m---> 20\u001b[0;31m     \u001b[0;32mreturn\u001b[0m \u001b[0mvectorizer\u001b[0m\u001b[0;34m.\u001b[0m\u001b[0mget_feature_names\u001b[0m\u001b[0;34m(\u001b[0m\u001b[0;34m)\u001b[0m\u001b[0;34m\u001b[0m\u001b[0;34m\u001b[0m\u001b[0m\n\u001b[0m\u001b[1;32m     21\u001b[0m \u001b[0;34m\u001b[0m\u001b[0m\n\u001b[1;32m     22\u001b[0m \u001b[0;34m\u001b[0m\u001b[0m\n",
            "\u001b[0;31mAttributeError\u001b[0m: 'CountVectorizer' object has no attribute 'get_feature_names'"
          ]
        }
      ]
    },
    {
      "cell_type": "code",
      "source": [
        "def print_top_words(model, feature_names, n_words=10):\n",
        "    for topic_idx, topic in enumerate(model.components_):\n",
        "        print(f\"Topic #{topic_idx}:\")\n",
        "        print(\" \".join([feature_names[i] for i in topic.argsort()[:-n_words - 1:-1]]))\n",
        "    print()\n",
        "\n",
        "print_top_words(lda, vectorizer.get_feature_names_out())"
      ],
      "metadata": {
        "colab": {
          "base_uri": "https://localhost:8080/"
        },
        "id": "Fj_jCexiqn5V",
        "outputId": "45b990b9-7847-4d3a-a1b2-4862979f1426"
      },
      "execution_count": 10,
      "outputs": [
        {
          "output_type": "stream",
          "name": "stderr",
          "text": [
            "/usr/local/lib/python3.10/dist-packages/ipykernel/ipkernel.py:283: DeprecationWarning: `should_run_async` will not call `transform_cell` automatically in the future. Please pass the result to `transformed_cell` argument and any exception that happen during thetransform in `preprocessing_exc_tuple` in IPython 7.17 and above.\n",
            "  and should_run_async(code)\n"
          ]
        },
        {
          "output_type": "stream",
          "name": "stdout",
          "text": [
            "Topic #0:\n",
            "peopl would one state gun right go govern edu time\n",
            "Topic #1:\n",
            "use file window edu program line imag system subject do\n",
            "Topic #2:\n",
            "com key edu write line use organ subject articl post\n",
            "Topic #3:\n",
            "edu line organ subject univers 10 post com host nntp\n",
            "Topic #4:\n",
            "game edu team year line play organ player subject write\n",
            "Topic #5:\n",
            "ac com uk organ line subject nz cx articl car\n",
            "Topic #6:\n",
            "god edu one would peopl say christian write subject line\n",
            "Topic #7:\n",
            "com bike stratu dod ride ca sun motorcycl sw dog\n",
            "Topic #8:\n",
            "ax max g9v b8f a86 145 pl 0d 1d9 34u\n",
            "Topic #9:\n",
            "edu line subject organ com post write use articl nntp\n",
            "\n"
          ]
        }
      ]
    },
    {
      "cell_type": "code",
      "source": [
        "# Visualize topics using pyLDAvis\n",
        "lda_display = sklearnvis.prepare(lda, X, vectorizer)\n",
        "pyLDAvis.display(lda_display)  # Display the visualization in Colab\n"
      ],
      "metadata": {
        "colab": {
          "base_uri": "https://localhost:8080/",
          "height": 376
        },
        "id": "b_-QSpgDqxxR",
        "outputId": "24977abc-6c15-4089-9a87-68cd4008ea3d"
      },
      "execution_count": 11,
      "outputs": [
        {
          "output_type": "stream",
          "name": "stderr",
          "text": [
            "/usr/local/lib/python3.10/dist-packages/ipykernel/ipkernel.py:283: DeprecationWarning: `should_run_async` will not call `transform_cell` automatically in the future. Please pass the result to `transformed_cell` argument and any exception that happen during thetransform in `preprocessing_exc_tuple` in IPython 7.17 and above.\n",
            "  and should_run_async(code)\n"
          ]
        },
        {
          "output_type": "error",
          "ename": "AttributeError",
          "evalue": "'CountVectorizer' object has no attribute 'get_feature_names'",
          "traceback": [
            "\u001b[0;31m---------------------------------------------------------------------------\u001b[0m",
            "\u001b[0;31mAttributeError\u001b[0m                            Traceback (most recent call last)",
            "\u001b[0;32m<ipython-input-11-78d4de4f851a>\u001b[0m in \u001b[0;36m<cell line: 2>\u001b[0;34m()\u001b[0m\n\u001b[1;32m      1\u001b[0m \u001b[0;31m# Visualize topics using pyLDAvis\u001b[0m\u001b[0;34m\u001b[0m\u001b[0;34m\u001b[0m\u001b[0m\n\u001b[0;32m----> 2\u001b[0;31m \u001b[0mlda_display\u001b[0m \u001b[0;34m=\u001b[0m \u001b[0msklearnvis\u001b[0m\u001b[0;34m.\u001b[0m\u001b[0mprepare\u001b[0m\u001b[0;34m(\u001b[0m\u001b[0mlda\u001b[0m\u001b[0;34m,\u001b[0m \u001b[0mX\u001b[0m\u001b[0;34m,\u001b[0m \u001b[0mvectorizer\u001b[0m\u001b[0;34m)\u001b[0m\u001b[0;34m\u001b[0m\u001b[0;34m\u001b[0m\u001b[0m\n\u001b[0m\u001b[1;32m      3\u001b[0m \u001b[0mpyLDAvis\u001b[0m\u001b[0;34m.\u001b[0m\u001b[0mdisplay\u001b[0m\u001b[0;34m(\u001b[0m\u001b[0mlda_display\u001b[0m\u001b[0;34m)\u001b[0m  \u001b[0;31m# Display the visualization in Colab\u001b[0m\u001b[0;34m\u001b[0m\u001b[0;34m\u001b[0m\u001b[0m\n",
            "\u001b[0;32m/usr/local/lib/python3.10/dist-packages/pyLDAvis/sklearn.py\u001b[0m in \u001b[0;36mprepare\u001b[0;34m(lda_model, dtm, vectorizer, **kwargs)\u001b[0m\n\u001b[1;32m     92\u001b[0m     \u001b[0mSee\u001b[0m\u001b[0;31m \u001b[0m\u001b[0;31m`\u001b[0m\u001b[0mpyLDAvis\u001b[0m\u001b[0;34m.\u001b[0m\u001b[0mprepare\u001b[0m\u001b[0;31m`\u001b[0m \u001b[0;32mfor\u001b[0m \u001b[0;34m**\u001b[0m\u001b[0mkwargs\u001b[0m\u001b[0;34m.\u001b[0m\u001b[0;34m\u001b[0m\u001b[0;34m\u001b[0m\u001b[0m\n\u001b[1;32m     93\u001b[0m     \"\"\"\n\u001b[0;32m---> 94\u001b[0;31m     \u001b[0mopts\u001b[0m \u001b[0;34m=\u001b[0m \u001b[0mfp\u001b[0m\u001b[0;34m.\u001b[0m\u001b[0mmerge\u001b[0m\u001b[0;34m(\u001b[0m\u001b[0m_extract_data\u001b[0m\u001b[0;34m(\u001b[0m\u001b[0mlda_model\u001b[0m\u001b[0;34m,\u001b[0m \u001b[0mdtm\u001b[0m\u001b[0;34m,\u001b[0m \u001b[0mvectorizer\u001b[0m\u001b[0;34m)\u001b[0m\u001b[0;34m,\u001b[0m \u001b[0mkwargs\u001b[0m\u001b[0;34m)\u001b[0m\u001b[0;34m\u001b[0m\u001b[0;34m\u001b[0m\u001b[0m\n\u001b[0m\u001b[1;32m     95\u001b[0m     \u001b[0;32mreturn\u001b[0m \u001b[0mpyLDAvis\u001b[0m\u001b[0;34m.\u001b[0m\u001b[0mprepare\u001b[0m\u001b[0;34m(\u001b[0m\u001b[0;34m**\u001b[0m\u001b[0mopts\u001b[0m\u001b[0;34m)\u001b[0m\u001b[0;34m\u001b[0m\u001b[0;34m\u001b[0m\u001b[0m\n",
            "\u001b[0;32m/usr/local/lib/python3.10/dist-packages/pyLDAvis/sklearn.py\u001b[0m in \u001b[0;36m_extract_data\u001b[0;34m(lda_model, dtm, vectorizer)\u001b[0m\n\u001b[1;32m     36\u001b[0m \u001b[0;34m\u001b[0m\u001b[0m\n\u001b[1;32m     37\u001b[0m \u001b[0;32mdef\u001b[0m \u001b[0m_extract_data\u001b[0m\u001b[0;34m(\u001b[0m\u001b[0mlda_model\u001b[0m\u001b[0;34m,\u001b[0m \u001b[0mdtm\u001b[0m\u001b[0;34m,\u001b[0m \u001b[0mvectorizer\u001b[0m\u001b[0;34m)\u001b[0m\u001b[0;34m:\u001b[0m\u001b[0;34m\u001b[0m\u001b[0;34m\u001b[0m\u001b[0m\n\u001b[0;32m---> 38\u001b[0;31m     \u001b[0mvocab\u001b[0m \u001b[0;34m=\u001b[0m \u001b[0m_get_vocab\u001b[0m\u001b[0;34m(\u001b[0m\u001b[0mvectorizer\u001b[0m\u001b[0;34m)\u001b[0m\u001b[0;34m\u001b[0m\u001b[0;34m\u001b[0m\u001b[0m\n\u001b[0m\u001b[1;32m     39\u001b[0m     \u001b[0mdoc_lengths\u001b[0m \u001b[0;34m=\u001b[0m \u001b[0m_get_doc_lengths\u001b[0m\u001b[0;34m(\u001b[0m\u001b[0mdtm\u001b[0m\u001b[0;34m)\u001b[0m\u001b[0;34m\u001b[0m\u001b[0;34m\u001b[0m\u001b[0m\n\u001b[1;32m     40\u001b[0m     \u001b[0mterm_freqs\u001b[0m \u001b[0;34m=\u001b[0m \u001b[0m_get_term_freqs\u001b[0m\u001b[0;34m(\u001b[0m\u001b[0mdtm\u001b[0m\u001b[0;34m)\u001b[0m\u001b[0;34m\u001b[0m\u001b[0;34m\u001b[0m\u001b[0m\n",
            "\u001b[0;32m/usr/local/lib/python3.10/dist-packages/pyLDAvis/sklearn.py\u001b[0m in \u001b[0;36m_get_vocab\u001b[0;34m(vectorizer)\u001b[0m\n\u001b[1;32m     18\u001b[0m \u001b[0;34m\u001b[0m\u001b[0m\n\u001b[1;32m     19\u001b[0m \u001b[0;32mdef\u001b[0m \u001b[0m_get_vocab\u001b[0m\u001b[0;34m(\u001b[0m\u001b[0mvectorizer\u001b[0m\u001b[0;34m)\u001b[0m\u001b[0;34m:\u001b[0m\u001b[0;34m\u001b[0m\u001b[0;34m\u001b[0m\u001b[0m\n\u001b[0;32m---> 20\u001b[0;31m     \u001b[0;32mreturn\u001b[0m \u001b[0mvectorizer\u001b[0m\u001b[0;34m.\u001b[0m\u001b[0mget_feature_names\u001b[0m\u001b[0;34m(\u001b[0m\u001b[0;34m)\u001b[0m\u001b[0;34m\u001b[0m\u001b[0;34m\u001b[0m\u001b[0m\n\u001b[0m\u001b[1;32m     21\u001b[0m \u001b[0;34m\u001b[0m\u001b[0m\n\u001b[1;32m     22\u001b[0m \u001b[0;34m\u001b[0m\u001b[0m\n",
            "\u001b[0;31mAttributeError\u001b[0m: 'CountVectorizer' object has no attribute 'get_feature_names'"
          ]
        }
      ]
    },
    {
      "cell_type": "code",
      "source": [
        "import pyLDAvis\n",
        "import pyLDAvis.sklearn as sklearnvis\n",
        "\n",
        "print(pyLDAvis.__file__)\n"
      ],
      "metadata": {
        "colab": {
          "base_uri": "https://localhost:8080/"
        },
        "id": "stlY7hu6ppvL",
        "outputId": "30126040-32b8-4f8a-ff03-1e9ff1025467"
      },
      "execution_count": 1,
      "outputs": [
        {
          "output_type": "stream",
          "name": "stdout",
          "text": [
            "/usr/local/lib/python3.10/dist-packages/pyLDAvis/__init__.py\n"
          ]
        }
      ]
    },
    {
      "cell_type": "code",
      "source": [
        "!pip install pandas==1.3.5\n"
      ],
      "metadata": {
        "colab": {
          "base_uri": "https://localhost:8080/",
          "height": 567
        },
        "id": "kngscecwsj-s",
        "outputId": "9ad3123d-8961-42d7-b882-de4a3cce7fb4"
      },
      "execution_count": 13,
      "outputs": [
        {
          "output_type": "stream",
          "name": "stderr",
          "text": [
            "/usr/local/lib/python3.10/dist-packages/ipykernel/ipkernel.py:283: DeprecationWarning: `should_run_async` will not call `transform_cell` automatically in the future. Please pass the result to `transformed_cell` argument and any exception that happen during thetransform in `preprocessing_exc_tuple` in IPython 7.17 and above.\n",
            "  and should_run_async(code)\n"
          ]
        },
        {
          "output_type": "stream",
          "name": "stdout",
          "text": [
            "Collecting pandas==1.3.5\n",
            "  Downloading pandas-1.3.5-cp310-cp310-manylinux_2_17_x86_64.manylinux2014_x86_64.whl.metadata (12 kB)\n",
            "Requirement already satisfied: python-dateutil>=2.7.3 in /usr/local/lib/python3.10/dist-packages (from pandas==1.3.5) (2.8.2)\n",
            "Requirement already satisfied: pytz>=2017.3 in /usr/local/lib/python3.10/dist-packages (from pandas==1.3.5) (2024.1)\n",
            "Requirement already satisfied: numpy>=1.21.0 in /usr/local/lib/python3.10/dist-packages (from pandas==1.3.5) (1.26.4)\n",
            "Requirement already satisfied: six>=1.5 in /usr/local/lib/python3.10/dist-packages (from python-dateutil>=2.7.3->pandas==1.3.5) (1.16.0)\n",
            "Downloading pandas-1.3.5-cp310-cp310-manylinux_2_17_x86_64.manylinux2014_x86_64.whl (11.5 MB)\n",
            "\u001b[2K   \u001b[90m━━━━━━━━━━━━━━━━━━━━━━━━━━━━━━━━━━━━━━━━\u001b[0m \u001b[32m11.5/11.5 MB\u001b[0m \u001b[31m44.9 MB/s\u001b[0m eta \u001b[36m0:00:00\u001b[0m\n",
            "\u001b[?25hInstalling collected packages: pandas\n",
            "  Attempting uninstall: pandas\n",
            "    Found existing installation: pandas 2.1.4\n",
            "    Uninstalling pandas-2.1.4:\n",
            "      Successfully uninstalled pandas-2.1.4\n",
            "\u001b[31mERROR: pip's dependency resolver does not currently take into account all the packages that are installed. This behaviour is the source of the following dependency conflicts.\n",
            "arviz 0.18.0 requires pandas>=1.5.0, but you have pandas 1.3.5 which is incompatible.\n",
            "bigframes 1.15.0 requires pandas>=1.5.0, but you have pandas 1.3.5 which is incompatible.\n",
            "cudf-cu12 24.4.1 requires pandas<2.2.2dev0,>=2.0, but you have pandas 1.3.5 which is incompatible.\n",
            "geopandas 0.14.4 requires pandas>=1.4.0, but you have pandas 1.3.5 which is incompatible.\n",
            "google-colab 1.0.0 requires pandas==2.1.4, but you have pandas 1.3.5 which is incompatible.\n",
            "plotnine 0.12.4 requires pandas>=1.5.0, but you have pandas 1.3.5 which is incompatible.\n",
            "statsmodels 0.14.2 requires pandas!=2.1.0,>=1.4, but you have pandas 1.3.5 which is incompatible.\n",
            "xarray 2024.6.0 requires pandas>=2.0, but you have pandas 1.3.5 which is incompatible.\u001b[0m\u001b[31m\n",
            "\u001b[0mSuccessfully installed pandas-1.3.5\n"
          ]
        },
        {
          "output_type": "display_data",
          "data": {
            "application/vnd.colab-display-data+json": {
              "pip_warning": {
                "packages": [
                  "pandas"
                ]
              },
              "id": "5b11e728881143e188ecc12629fe30fe"
            }
          },
          "metadata": {}
        }
      ]
    },
    {
      "cell_type": "code",
      "source": [
        "import re\n",
        "import numpy as np\n",
        "import pandas as pd\n",
        "import pyLDAvis\n",
        "import pyLDAvis.sklearn as sklearnvis\n",
        "import matplotlib.pyplot as plt\n",
        "from sklearn.decomposition import LatentDirichletAllocation\n",
        "from sklearn.feature_extraction.text import CountVectorizer\n",
        "from sklearn.datasets import fetch_20newsgroups\n",
        "from sklearn.metrics.pairwise import cosine_similarity\n",
        "\n",
        "# Step 1: Data Collection - Fetch the 20 Newsgroups dataset\n",
        "newsgroups_data = fetch_20newsgroups(subset='all', categories=['sci.space', 'rec.sport.baseball', 'talk.politics.mideast', 'comp.graphics'])\n",
        "documents = newsgroups_data.data\n",
        "\n",
        "# Step 2: Text Preprocessing - Simple text cleaning\n",
        "def preprocess_text(text):\n",
        "    text = re.sub(r'\\s+', ' ', text)  # Replace multiple spaces with a single space\n",
        "    text = re.sub(r'\\W+', ' ', text)  # Remove special characters\n",
        "    return text.lower()\n",
        "\n",
        "processed_docs = [preprocess_text(doc) for doc in documents]\n",
        "\n",
        "# Step 3: Vectorize the text data\n",
        "vectorizer = CountVectorizer(stop_words='english', max_features=1000)\n",
        "X = vectorizer.fit_transform(processed_docs)\n",
        "\n",
        "# Step 4: Apply LDA for Topic Modeling\n",
        "lda = LatentDirichletAllocation(n_components=10, random_state=42)\n",
        "lda.fit(X)\n",
        "\n",
        "# Step 5: Prepare the data for pyLDAvis manually\n",
        "panel = pyLDAvis.prepare(\n",
        "    topic_term_dists=lda.components_ / lda.components_.sum(axis=1)[:, np.newaxis],\n",
        "    doc_topic_dists=lda.transform(X),\n",
        "    doc_lengths=[len(doc.split()) for doc in processed_docs],\n",
        "    vocab=vectorizer.get_feature_names_out(),\n",
        "    term_frequency=X.toarray().sum(axis=0)\n",
        ")\n",
        "\n",
        "# Step 6: Display the visualization in Colab\n",
        "pyLDAvis.display(panel)\n",
        "\n",
        "# Step 7: Display the top words in each topic\n",
        "def print_top_words(model, feature_names, n_words=10):\n",
        "    for topic_idx, topic in enumerate(model.components_):\n",
        "        print(f\"Topic #{topic_idx}:\")\n",
        "        print(\" \".join([feature_names[i] for i in topic.argsort()[:-n_words - 1:-1]]))\n",
        "    print()\n",
        "\n",
        "print_top_words(lda, vectorizer.get_feature_names_out())\n",
        "\n",
        "# Step 8: Compare Document Similarity using LDA-based vectors\n",
        "lda_vectors = lda.transform(X)\n",
        "cosine_similarities = cosine_similarity(lda_vectors)\n",
        "\n",
        "print(\"Cosine Similarity Matrix:\\n\", cosine_similarities)\n"
      ],
      "metadata": {
        "colab": {
          "base_uri": "https://localhost:8080/"
        },
        "id": "30RlDulyvKcc",
        "outputId": "2aacb7d6-adca-4d71-caaf-4aeeac9cc7af"
      },
      "execution_count": 4,
      "outputs": [
        {
          "output_type": "stream",
          "name": "stderr",
          "text": [
            "/usr/local/lib/python3.10/dist-packages/ipykernel/ipkernel.py:283: DeprecationWarning: `should_run_async` will not call `transform_cell` automatically in the future. Please pass the result to `transformed_cell` argument and any exception that happen during thetransform in `preprocessing_exc_tuple` in IPython 7.17 and above.\n",
            "  and should_run_async(code)\n",
            "/usr/local/lib/python3.10/dist-packages/pyLDAvis/_prepare.py:244: FutureWarning: In a future version of pandas all arguments of DataFrame.drop except for the argument 'labels' will be keyword-only\n",
            "  by='saliency', ascending=False).head(R).drop('saliency', axis=1)\n",
            "/usr/local/lib/python3.10/dist-packages/pandas/core/dtypes/cast.py:1846: DeprecationWarning: np.find_common_type is deprecated.  Please use `np.result_type` or `np.promote_types`.\n",
            "See https://numpy.org/devdocs/release/1.25.0-notes.html and the docs for more information.  (Deprecated NumPy 1.25)\n",
            "  return np.find_common_type(types, [])  # type: ignore[arg-type]\n"
          ]
        },
        {
          "output_type": "stream",
          "name": "stdout",
          "text": [
            "Topic #0:\n",
            "said people know didn went don time just like came\n",
            "Topic #1:\n",
            "turkish armenian armenians armenia turks turkey serdar argic people genocide\n",
            "Topic #2:\n",
            "image graphics jpeg edu file images software ftp gif files\n",
            "Topic #3:\n",
            "space nasa gov launch shuttle earth orbit satellite mission data\n",
            "Topic #4:\n",
            "00 ___ com game games __ 10 edu lines subject\n",
            "Topic #5:\n",
            "edu lines subject organization university posting com host nntp ca\n",
            "Topic #6:\n",
            "edu year team writes com article subject good organization lines\n",
            "Topic #7:\n",
            "israel israeli jews arab edu jewish writes people arabs article\n",
            "Topic #8:\n",
            "edu just people don think like writes article know right\n",
            "Topic #9:\n",
            "edu writes article subject organization lines com posting access henry\n",
            "\n",
            "Cosine Similarity Matrix:\n",
            " [[1.         0.00794659 0.00641357 ... 0.97363011 0.04211448 0.55808004]\n",
            " [0.00794659 1.         0.88347396 ... 0.00739302 0.31611815 0.14271723]\n",
            " [0.00641357 0.88347396 1.         ... 0.00597007 0.1344839  0.15217376]\n",
            " ...\n",
            " [0.97363011 0.00739302 0.00597007 ... 1.         0.04454618 0.48566645]\n",
            " [0.04211448 0.31611815 0.1344839  ... 0.04454618 1.         0.04784953]\n",
            " [0.55808004 0.14271723 0.15217376 ... 0.48566645 0.04784953 1.        ]]\n"
          ]
        }
      ]
    },
    {
      "cell_type": "code",
      "source": [
        "!pip install pyLDAvis scikit-learn matplotlib\n"
      ],
      "metadata": {
        "colab": {
          "base_uri": "https://localhost:8080/"
        },
        "id": "rcGgi1afwzhO",
        "outputId": "1646f4eb-d4aa-42a2-c510-cbda49064e4e"
      },
      "execution_count": 5,
      "outputs": [
        {
          "output_type": "stream",
          "name": "stderr",
          "text": [
            "/usr/local/lib/python3.10/dist-packages/ipykernel/ipkernel.py:283: DeprecationWarning: `should_run_async` will not call `transform_cell` automatically in the future. Please pass the result to `transformed_cell` argument and any exception that happen during thetransform in `preprocessing_exc_tuple` in IPython 7.17 and above.\n",
            "  and should_run_async(code)\n"
          ]
        },
        {
          "output_type": "stream",
          "name": "stdout",
          "text": [
            "Requirement already satisfied: pyLDAvis in /usr/local/lib/python3.10/dist-packages (3.4.0)\n",
            "Requirement already satisfied: scikit-learn in /usr/local/lib/python3.10/dist-packages (1.3.2)\n",
            "Requirement already satisfied: matplotlib in /usr/local/lib/python3.10/dist-packages (3.7.1)\n",
            "Requirement already satisfied: numpy>=1.22.0 in /usr/local/lib/python3.10/dist-packages (from pyLDAvis) (1.26.4)\n",
            "Requirement already satisfied: scipy in /usr/local/lib/python3.10/dist-packages (from pyLDAvis) (1.13.1)\n",
            "Requirement already satisfied: pandas>=1.3.4 in /usr/local/lib/python3.10/dist-packages (from pyLDAvis) (1.3.5)\n",
            "Requirement already satisfied: joblib>=1.2.0 in /usr/local/lib/python3.10/dist-packages (from pyLDAvis) (1.4.2)\n",
            "Requirement already satisfied: jinja2 in /usr/local/lib/python3.10/dist-packages (from pyLDAvis) (3.1.4)\n",
            "Requirement already satisfied: numexpr in /usr/local/lib/python3.10/dist-packages (from pyLDAvis) (2.10.1)\n",
            "Requirement already satisfied: funcy in /usr/local/lib/python3.10/dist-packages (from pyLDAvis) (2.0)\n",
            "Requirement already satisfied: gensim in /usr/local/lib/python3.10/dist-packages (from pyLDAvis) (4.3.3)\n",
            "Requirement already satisfied: setuptools in /usr/local/lib/python3.10/dist-packages (from pyLDAvis) (71.0.4)\n",
            "Requirement already satisfied: threadpoolctl>=2.0.0 in /usr/local/lib/python3.10/dist-packages (from scikit-learn) (3.5.0)\n",
            "Requirement already satisfied: contourpy>=1.0.1 in /usr/local/lib/python3.10/dist-packages (from matplotlib) (1.2.1)\n",
            "Requirement already satisfied: cycler>=0.10 in /usr/local/lib/python3.10/dist-packages (from matplotlib) (0.12.1)\n",
            "Requirement already satisfied: fonttools>=4.22.0 in /usr/local/lib/python3.10/dist-packages (from matplotlib) (4.53.1)\n",
            "Requirement already satisfied: kiwisolver>=1.0.1 in /usr/local/lib/python3.10/dist-packages (from matplotlib) (1.4.5)\n",
            "Requirement already satisfied: packaging>=20.0 in /usr/local/lib/python3.10/dist-packages (from matplotlib) (24.1)\n",
            "Requirement already satisfied: pillow>=6.2.0 in /usr/local/lib/python3.10/dist-packages (from matplotlib) (9.4.0)\n",
            "Requirement already satisfied: pyparsing>=2.3.1 in /usr/local/lib/python3.10/dist-packages (from matplotlib) (3.1.2)\n",
            "Requirement already satisfied: python-dateutil>=2.7 in /usr/local/lib/python3.10/dist-packages (from matplotlib) (2.8.2)\n",
            "Requirement already satisfied: pytz>=2017.3 in /usr/local/lib/python3.10/dist-packages (from pandas>=1.3.4->pyLDAvis) (2024.1)\n",
            "Requirement already satisfied: six>=1.5 in /usr/local/lib/python3.10/dist-packages (from python-dateutil>=2.7->matplotlib) (1.16.0)\n",
            "Requirement already satisfied: smart-open>=1.8.1 in /usr/local/lib/python3.10/dist-packages (from gensim->pyLDAvis) (7.0.4)\n",
            "Requirement already satisfied: MarkupSafe>=2.0 in /usr/local/lib/python3.10/dist-packages (from jinja2->pyLDAvis) (2.1.5)\n",
            "Requirement already satisfied: wrapt in /usr/local/lib/python3.10/dist-packages (from smart-open>=1.8.1->gensim->pyLDAvis) (1.16.0)\n"
          ]
        }
      ]
    },
    {
      "cell_type": "code",
      "source": [
        "import pyLDAvis\n",
        "import pyLDAvis.sklearn as sklearnvis\n",
        "import matplotlib.pyplot as plt\n",
        "from sklearn.decomposition import LatentDirichletAllocation\n",
        "from sklearn.feature_extraction.text import CountVectorizer\n",
        "from sklearn.datasets import fetch_20newsgroups\n",
        "import numpy as np\n",
        "\n",
        "# Fetch the 20 Newsgroups dataset\n",
        "newsgroups_data = fetch_20newsgroups(subset='all', categories=['sci.space', 'rec.sport.baseball', 'talk.politics.mideast', 'comp.graphics'])\n",
        "documents = newsgroups_data.data\n",
        "\n",
        "# Simple text cleaning\n",
        "def preprocess_text(text):\n",
        "    text = re.sub(r'\\s+', ' ', text)  # Replace multiple spaces with a single space\n",
        "    text = re.sub(r'\\W+', ' ', text)  # Remove special characters\n",
        "    return text.lower()\n",
        "\n",
        "processed_docs = [preprocess_text(doc) for doc in documents]\n",
        "\n",
        "# Vectorize the text data\n",
        "vectorizer = CountVectorizer(stop_words='english', max_features=1000)\n",
        "X = vectorizer.fit_transform(processed_docs)\n",
        "\n",
        "# Apply LDA for Topic Modeling\n",
        "lda = LatentDirichletAllocation(n_components=10, random_state=42)\n",
        "lda.fit(X)\n",
        "\n",
        "# Prepare data for pyLDAvis visualization\n",
        "def prepare_pylda_vis(lda, X, vectorizer):\n",
        "    # Compute topic-term distributions\n",
        "    topic_term_dists = lda.components_ / lda.components_.sum(axis=1)[:, np.newaxis]\n",
        "\n",
        "    # Compute document-topic distributions\n",
        "    doc_topic_dists = lda.transform(X)\n",
        "\n",
        "    # Compute document lengths\n",
        "    doc_lengths = [len(doc.split()) for doc in processed_docs]\n",
        "\n",
        "    # Compute term frequencies\n",
        "    term_frequency = X.toarray().sum(axis=0)\n",
        "\n",
        "    # Prepare pyLDAvis visualization\n",
        "    return pyLDAvis.prepare(\n",
        "        topic_term_dists=topic_term_dists,\n",
        "        doc_topic_dists=doc_topic_dists,\n",
        "        doc_lengths=doc_lengths,\n",
        "        vocab=vectorizer.get_feature_names_out(),\n",
        "        term_frequency=term_frequency\n",
        "    )\n",
        "\n",
        "# Create the visualization\n",
        "lda_display = prepare_pylda_vis(lda, X, vectorizer)\n",
        "\n",
        "# Display the visualization in Colab\n",
        "pyLDAvis.display(lda_display)\n"
      ],
      "metadata": {
        "colab": {
          "base_uri": "https://localhost:8080/",
          "height": 1000
        },
        "id": "VpAeqtYyw3kZ",
        "outputId": "9359bf1f-0946-486a-c91b-9ebc5c7e86f6"
      },
      "execution_count": 6,
      "outputs": [
        {
          "output_type": "stream",
          "name": "stderr",
          "text": [
            "/usr/local/lib/python3.10/dist-packages/ipykernel/ipkernel.py:283: DeprecationWarning: `should_run_async` will not call `transform_cell` automatically in the future. Please pass the result to `transformed_cell` argument and any exception that happen during thetransform in `preprocessing_exc_tuple` in IPython 7.17 and above.\n",
            "  and should_run_async(code)\n",
            "/usr/local/lib/python3.10/dist-packages/pyLDAvis/_prepare.py:244: FutureWarning: In a future version of pandas all arguments of DataFrame.drop except for the argument 'labels' will be keyword-only\n",
            "  by='saliency', ascending=False).head(R).drop('saliency', axis=1)\n",
            "/usr/local/lib/python3.10/dist-packages/pandas/core/dtypes/cast.py:1846: DeprecationWarning: np.find_common_type is deprecated.  Please use `np.result_type` or `np.promote_types`.\n",
            "See https://numpy.org/devdocs/release/1.25.0-notes.html and the docs for more information.  (Deprecated NumPy 1.25)\n",
            "  return np.find_common_type(types, [])  # type: ignore[arg-type]\n"
          ]
        },
        {
          "output_type": "execute_result",
          "data": {
            "text/plain": [
              "<IPython.core.display.HTML object>"
            ],
            "text/html": [
              "\n",
              "<link rel=\"stylesheet\" type=\"text/css\" href=\"https://cdn.jsdelivr.net/gh/bmabey/pyLDAvis@3.4.0/pyLDAvis/js/ldavis.v1.0.0.css\">\n",
              "\n",
              "\n",
              "<div id=\"ldavis_el80791391033730108488732873769\" style=\"background-color:white;\"></div>\n",
              "<script type=\"text/javascript\">\n",
              "\n",
              "var ldavis_el80791391033730108488732873769_data = {\"mdsDat\": {\"x\": [-0.12691425205841533, -0.0700247177747769, 0.1208368146725897, -0.03778872815065968, -0.1468277652260397, 0.07888404374933135, 0.22233094213678978, 0.19306944543438, -0.07743446479103994, -0.15613131799215943], \"y\": [0.17590271384841116, -0.12617705710296953, -0.007165084773999729, 0.19628398264263464, -0.03946228611774098, -0.12115259487386366, 0.10830748840527844, -0.057562673233582544, -0.09617214932288323, -0.032802339471284594], \"topics\": [1, 2, 3, 4, 5, 6, 7, 8, 9, 10], \"cluster\": [1, 1, 1, 1, 1, 1, 1, 1, 1, 1], \"Freq\": [12.796473274703407, 12.408181463093964, 11.540989819437922, 11.062624146046222, 10.603177829161087, 10.07435390438021, 9.998057497416942, 8.82660726378, 8.783529063481463, 3.906005738498783]}, \"tinfo\": {\"Term\": [\"space\", \"edu\", \"israel\", \"image\", \"turkish\", \"nasa\", \"armenian\", \"organization\", \"lines\", \"subject\", \"israeli\", \"armenians\", \"graphics\", \"com\", \"writes\", \"jews\", \"jpeg\", \"game\", \"said\", \"posting\", \"people\", \"nntp\", \"arab\", \"file\", \"host\", \"armenia\", \"images\", \"turks\", \"games\", \"00\", \"jpeg\", \"gif\", \"ftp\", \"formats\", \"tiff\", \"format\", \"amiga\", \"xv\", \"pixel\", \"tar\", \"programming\", \"color\", \"image\", \"viewer\", \"pub\", \"file\", \"bits\", \"display\", \"dos\", \"directory\", \"images\", \"colors\", \"zip\", \"video\", \"package\", \"conversion\", \"pc\", \"animation\", \"256\", \"128\", \"files\", \"windows\", \"graphics\", \"mac\", \"version\", \"software\", \"available\", \"programs\", \"bit\", \"3d\", \"code\", \"data\", \"24\", \"use\", \"program\", \"edu\", \"mail\", \"free\", \"information\", \"roger\", \"clutch\", \"batting\", \"jays\", \"sox\", \"hitter\", \"stats\", \"cubs\", \"morris\", \"pitching\", \"career\", \"players\", \"player\", \"win\", \"hitting\", \"bonds\", \"season\", \"03\", \"cornell\", \"ab\", \"hit\", \"team\", \"average\", \"teams\", \"jack\", \"pitchers\", \"fans\", \"pitcher\", \"02\", \"runs\", \"baseball\", \"year\", \"game\", \"league\", \"won\", \"play\", \"good\", \"edu\", \"better\", \"writes\", \"best\", \"article\", \"com\", \"cs\", \"think\", \"organization\", \"subject\", \"lines\", \"don\", \"time\", \"like\", \"years\", \"just\", \"israeli\", \"arab\", \"israel\", \"palestinian\", \"jake\", \"palestinians\", \"adl\", \"israelis\", \"palestine\", \"gaza\", \"cpr\", \"lebanese\", \"jew\", \"igc\", \"bony\", \"bony1\", \"apc\", \"zionism\", \"mcgill\", \"jerusalem\", \"arabs\", \"lebanon\", \"adam\", \"oac\", \"iran\", \"territories\", \"occupied\", \"jews\", \"attacks\", \"citizens\", \"jewish\", \"peace\", \"uci\", \"policy\", \"rights\", \"anti\", \"state\", \"land\", \"tim\", \"people\", \"edu\", \"writes\", \"article\", \"human\", \"subject\", \"lines\", \"organization\", \"com\", \"government\", \"research\", \"years\", \"right\", \"launch\", \"jsc\", \"satellites\", \"orbital\", \"satellite\", \"nasa\", \"missions\", \"planetary\", \"lunar\", \"flight\", \"shuttle\", \"space\", \"telescope\", \"vehicle\", \"spacecraft\", \"mars\", \"astronomy\", \"rocket\", \"propulsion\", \"mission\", \"dc\", \"orbit\", \"gov\", \"venus\", \"solar\", \"degrees\", \"cost\", \"development\", \"billion\", \"station\", \"design\", \"earth\", \"moon\", \"research\", \"data\", \"program\", \"project\", \"technology\", \"1993\", \"center\", \"science\", \"new\", \"year\", \"information\", \"appreciated\", \"thanks\", \"advance\", \"ac\", \"polygon\", \"uk\", \"hi\", \"algorithm\", \"steve\", \"peter\", \"internet\", \"wondering\", \"canada\", \"scott\", \"bitnet\", \"email\", \"washington\", \"oz\", \"computing\", \"summary\", \"keywords\", \"computer\", \"newsreader\", \"mail\", \"looking\", \"au\", \"anybody\", \"points\", \"chris\", \"institute\", \"nntp\", \"host\", \"posting\", \"organization\", \"lines\", \"university\", \"subject\", \"ca\", \"reply\", \"edu\", \"com\", \"usa\", \"science\", \"distribution\", \"know\", \"does\", \"cs\", \"help\", \"writes\", \"article\", \"world\", \"like\", \"new\", \"serbs\", \"bosnian\", \"bosnia\", \"religion\", \"nick\", \"wants\", \"muslims\", \"religious\", \"god\", \"cis\", \"words\", \"sense\", \"nation\", \"vs\", \"action\", \"freedom\", \"feel\", \"umd\", \"business\", \"word\", \"newsgroup\", \"reason\", \"talking\", \"trying\", \"care\", \"europe\", \"ethnic\", \"guess\", \"hate\", \"mr\", \"doing\", \"muslim\", \"think\", \"want\", \"just\", \"right\", \"say\", \"don\", \"people\", \"like\", \"way\", \"make\", \"did\", \"writes\", \"know\", \"world\", \"edu\", \"article\", \"war\", \"point\", \"believe\", \"does\", \"organization\", \"subject\", \"lines\", \"cs\", \"said\", \"university\", \"com\", \"things\", \"serdar\", \"argic\", \"greek\", \"turks\", \"zuma\", \"sera\", \"greece\", \"ottoman\", \"istanbul\", \"1920\", \"extermination\", \"1919\", \"azeri\", \"henrik\", \"ohanus\", \"appressian\", \"turkish\", \"roads\", \"proceeded\", \"turkey\", \"greeks\", \"republic\", \"armenia\", \"soul\", \"passes\", \"escape\", \"genocide\", \"serve\", \"armenian\", \"sdpa\", \"armenians\", \"azerbaijan\", \"soviet\", \"russian\", \"population\", \"uucp\", \"history\", \"muslim\", \"government\", \"today\", \"people\", \"000\", \"world\", \"university\", \"war\", \"apartment\", \"sumgait\", \"door\", \"jupiter\", \"father\", \"went\", \"mother\", \"told\", \"saw\", \"azerbaijani\", \"came\", \"couldn\", \"room\", \"building\", \"started\", \"face\", \"took\", \"didn\", \"later\", \"planet\", \"wife\", \"street\", \"family\", \"kill\", \"said\", \"head\", \"happened\", \"looked\", \"lived\", \"baku\", \"children\", \"says\", \"left\", \"going\", \"home\", \"people\", \"know\", \"time\", \"say\", \"don\", \"ll\", \"just\", \"like\", \"armenians\", \"did\", \"come\", \"way\", \"old\", \"got\", \"armenian\", \"ti\", \"aurora\", \"prb\", \"dseg\", \"nsmca\", \"digex\", \"alaska\", \"henry\", \"zoo\", \"pat\", \"spencer\", \"gamma\", \"uxa\", \"cso\", \"usc\", \"hst\", \"columbia\", \"toronto\", \"sky\", \"rochester\", \"uiuc\", \"caltech\", \"eng\", \"access\", \"fred\", \"net\", \"communications\", \"umd\", \"light\", \"online\", \"mit\", \"edu\", \"cc\", \"writes\", \"article\", \"organization\", \"com\", \"subject\", \"lines\", \"posting\", \"nntp\", \"host\", \"just\", \"like\", \"don\", \"university\", \"think\", \"know\", \"gant\", \"___\", \"duke\", \"__\", \"ron\", \"baalke\", \"00\", \"adobe\", \"01\", \"gary\", \"vax\", \"games\", \"phillies\", \"41\", \"jpl\", \"35\", \"netcom\", \"eric\", \"pitch\", \"game\", \"34\", \"28\", \"vms\", \"29\", \"05\", \"extra\", \"200\", \"braves\", \"rule\", \"ball\", \"10\", \"11\", \"12\", \"13\", \"23\", \"15\", \"baseball\", \"april\", \"com\", \"000\", \"time\", \"16\", \"lines\", \"subject\", \"edu\", \"organization\", \"14\"], \"Freq\": [8637.0, 32017.0, 5848.0, 4815.0, 4218.0, 4578.0, 4772.0, 14517.0, 15391.0, 15853.0, 3541.0, 4088.0, 4220.0, 11406.0, 11524.0, 3863.0, 2958.0, 2758.0, 5929.0, 7221.0, 9102.0, 6317.0, 2444.0, 2777.0, 6544.0, 2486.0, 2654.0, 2118.0, 1908.0, 1653.0, 2955.2844296882763, 2019.9106550261495, 2124.343949113572, 843.6076374195213, 758.5735627345907, 1843.8588059541332, 631.0227033226378, 570.7903363164338, 507.01479464752464, 496.38570559629113, 467.52416617917777, 1726.7086615310332, 4761.202305265012, 552.6003727950011, 1611.8697068701013, 2694.1659452700915, 526.5290906716918, 1226.3336236945265, 611.2748642982201, 732.7764692232942, 2538.435575292287, 536.0760078626968, 460.2149884018997, 781.0544987607918, 1097.8977981557184, 498.09118802241744, 931.1888170413271, 465.3346722362398, 454.21265751679755, 714.756277891443, 1987.2304205749238, 869.7531680973894, 3683.830674427197, 910.1701991551632, 1645.0887418957825, 2179.146650819784, 1897.4868824516045, 926.4163442710378, 1812.4176983865557, 1080.6220358721937, 940.6335429452726, 1918.9362401879373, 1272.700374693335, 1730.4183603067827, 1486.4982350216412, 2934.8588693896413, 1090.1124034152267, 936.3463050000764, 921.3136111725254, 783.6026732086187, 708.8240995983264, 657.659611791294, 649.7881337192125, 808.4480510821331, 781.9657599878695, 649.975097930559, 712.6508832789634, 922.6449380179932, 810.3201243813573, 568.2814015341443, 1697.8176141674078, 951.7322246845898, 1180.7297655927794, 691.4778924036727, 535.5830297103396, 1057.3003113270324, 1073.991744587596, 587.4949336717789, 469.05962875228784, 1587.822790766757, 2317.406966300356, 904.967966916751, 547.0890540692155, 466.8770091401475, 428.6449937034381, 513.327857598919, 674.4210142039809, 818.5560206335075, 1297.8003266416315, 1702.8115352262398, 3063.0300305932597, 1691.1153710078283, 908.2712652558833, 1123.7886232121643, 784.2544798017645, 1851.6112915822198, 5391.700555856638, 1446.7193999825665, 2097.258590772221, 995.6386323524371, 1905.4468030842131, 1936.9844694947476, 1371.632402854342, 1450.5030579560625, 1841.6900941584508, 1857.6171909749098, 1823.8640126642945, 1490.6350260003142, 1071.6383452593416, 1105.0895920820317, 977.563263190987, 945.4621428067934, 3537.5963421636025, 2440.6671472552002, 5834.599350673879, 1049.6339221442963, 982.0694935918116, 958.2231722133128, 954.248801435875, 874.7611579070619, 811.1708865171101, 751.555394341934, 699.8884229697173, 687.9652843628921, 604.5029376163809, 592.5801295958577, 572.7082316429118, 568.7338626146976, 560.785086905573, 525.0155430698237, 694.3826342552454, 600.0492195594849, 1488.70489077617, 627.7236923522913, 907.9422044988805, 486.94631164190633, 513.0294041786401, 457.0209844279669, 749.6153832016095, 3186.569788751214, 519.7846794119846, 464.4071148999558, 2280.7489627118816, 1118.153110611912, 757.4877940578389, 976.6706099448179, 1043.368556550494, 866.0505911948729, 1283.0876430910262, 848.0808731495985, 674.4654321177823, 1516.3522580389101, 2299.349365743127, 1594.5093954415522, 1485.51417823237, 859.3490434566261, 1423.5065334783287, 1142.2182333705086, 1033.4491840165406, 993.9715128856113, 803.4880973999894, 795.4650978699874, 806.4785043091232, 805.1896096200176, 1971.462906746592, 631.7774175746687, 617.1164647039244, 570.347823239646, 1270.8403727624168, 4458.245353882807, 622.9007091914378, 538.7289886211842, 938.9083288645496, 898.3643995309274, 1715.640847784546, 7809.115662174137, 497.14313442471416, 523.558410530434, 1105.8331592650884, 845.4819467624886, 677.3460030160438, 614.2984670871341, 596.7374866831227, 1265.8436737029228, 806.8167623665132, 1385.0729000798015, 2344.3459500749864, 646.0634176048621, 957.8741727034994, 433.0544488472586, 907.0195944263436, 765.4044731887157, 476.7371742490622, 963.4342006276725, 693.2461122774896, 1715.0790631398156, 1181.0348492703313, 1190.911989464504, 1225.8069464114212, 1112.84051761742, 772.455258418024, 794.4242414801867, 931.1129325090136, 943.6225339829466, 852.507655585604, 1052.9086964290161, 852.5472613190751, 753.4632724840222, 447.6876392352113, 1706.4323073280625, 554.6797917067078, 1515.5328415176439, 456.71611820489284, 1155.9149994270874, 522.3858279537753, 360.46807014758775, 699.6023018276844, 403.17911363693145, 771.3582493993574, 304.92640384241076, 390.73386338317454, 447.8311575177649, 367.67658557745034, 734.6188748757097, 714.8745823911245, 284.56691713227326, 380.6840420732429, 383.670607942229, 754.4833725910705, 1542.9736415538905, 302.09016000670204, 1442.8494043119313, 873.17739214578, 749.454281074543, 415.0064744511749, 543.038946010733, 259.43684153446105, 599.3524087687061, 3087.3637295162257, 3101.8343893614297, 3334.627357832886, 5998.727624759386, 6294.586793418094, 3675.681635661874, 6242.6046558038, 1728.5847435282913, 1350.1371549743742, 7438.1564564676455, 3165.0478874198084, 816.52267048736, 899.4955129097688, 1218.613980341835, 1582.4181760995086, 1299.060234759583, 1300.0156850457713, 949.4763922614072, 1636.1703957525963, 1580.9439435118322, 1007.6982452645415, 814.2570783406419, 766.2201766856125, 691.4024817072686, 681.1658343973875, 739.0433305294836, 604.5724762136756, 487.5630900710409, 423.0049469932932, 1216.4320302120743, 570.5523691549247, 447.9124184121476, 310.4534265916587, 488.32870134359547, 335.0316082011198, 351.320273817905, 377.96794938631564, 329.2714818096013, 428.47494789447194, 477.1048875752153, 345.4747940011269, 286.55651557523305, 430.713426648761, 240.32525132543356, 617.4438996967314, 477.12041597620333, 623.0644999996282, 307.719417705181, 411.0523655617659, 261.0481068207469, 411.6393148469672, 238.02094379278205, 499.10642339677156, 667.4452618449235, 799.169913148757, 2330.240464658913, 1333.195561640541, 2713.7121314628384, 1382.1022445650597, 1352.8455098323916, 2395.5559203006283, 2541.736054420488, 2117.5702319494967, 1229.7078881819812, 1096.904866624755, 1203.404476855623, 2085.7701482480197, 1534.7211694254636, 1289.01422934462, 3761.6139642956873, 1552.9724497843547, 739.8965424361971, 780.910009534204, 684.6796180368499, 948.654396042892, 1362.0935687409994, 1343.5648738877712, 1260.9232642288052, 908.1075581292854, 888.2494965039865, 857.9320589626566, 861.2877030823342, 705.3490886176928, 1765.3640872184246, 1732.830314146531, 1431.8765564226346, 2112.505266292549, 1090.288231822803, 1000.8203434147291, 1000.4546584314415, 858.4850356661487, 821.884565386726, 764.9503364184944, 760.432389630523, 655.1488763635298, 647.0154395480561, 573.8143363658185, 561.6143337495182, 553.4808894243127, 4128.721739835192, 621.4172798156795, 553.4311879915849, 1958.1560660325297, 642.0280198965887, 526.3162877786071, 2312.072312430796, 554.1888083760048, 552.1138704749318, 669.8896989900791, 1468.470416961761, 628.7914376309797, 4022.0756183399376, 699.4264580083436, 3131.8835561795504, 1080.697746959261, 1395.1924996047321, 1141.0567176602958, 928.7633143912307, 1100.9596917802253, 1036.7685830739504, 1014.39897352077, 1227.194082025782, 993.0904302944185, 1677.5776921623712, 1033.0110196881426, 1155.7228602062594, 885.2862277977542, 776.0205133144914, 760.9529507596075, 645.4382844179255, 767.5002891448711, 651.4026973127168, 634.1474700003173, 1719.6744163986966, 537.3019475687206, 1266.5007747867119, 1119.8923779849044, 611.9879197825616, 1348.0886840202797, 686.3673696913598, 446.2777954699745, 713.5557566160281, 1151.2255627948837, 647.0660356240871, 936.3681092670649, 1762.5047632763246, 802.6726166994804, 585.0614408718907, 357.1215916278838, 336.762877422044, 339.7816181269837, 540.7854963171063, 3201.424852707364, 557.5779298427499, 587.1241909621328, 406.03278995440155, 342.3857669474665, 326.2738088030851, 869.1095759525061, 893.8543155884889, 903.0547996812583, 1212.0135817125904, 877.9009687779175, 2249.3514485853048, 1768.3615868221025, 1519.7784519687605, 1165.461510928519, 1668.274464782899, 958.4844523365718, 1502.451605019132, 1467.4744426907205, 953.3582649980077, 929.7085828777748, 811.6317046741743, 846.497225994849, 753.3356867731428, 746.696726691039, 746.8917167605389, 570.5570366671705, 543.076850852395, 529.336821921176, 474.3764447069664, 450.3313093324601, 1078.567635593602, 913.9510219027035, 1477.7640826775635, 710.5911780269341, 1017.457235423074, 657.4999345915247, 617.5823434880933, 470.08134553433786, 970.7252884687366, 410.71611169216783, 595.5371381156639, 575.9651036262211, 1315.3620619877474, 755.5038290316156, 385.9593206056503, 1136.216228316659, 351.68914718840955, 367.85107916128163, 1483.1385118824453, 273.5082880974837, 1097.9127329258577, 305.7401620137045, 336.82589921096394, 476.880352270766, 309.2497802230874, 442.6871793619028, 8583.080595547333, 625.5406503024262, 3277.4746450063526, 2806.382060742164, 2653.3586070556958, 2234.584064353879, 2683.8571832485313, 2616.992745294556, 1578.9898181781482, 1440.8793334582508, 1454.5019103727952, 1426.1239731260669, 1227.2197710492303, 1063.3234844086733, 911.8832859196625, 791.4598554309446, 624.5470852350528, 540.8051288074732, 1204.9282383164714, 606.6839055962357, 933.0818131934924, 554.5697514705995, 538.4200136733438, 1350.753451804311, 468.10035249095563, 567.2376478605726, 434.22841674923984, 328.3748140222158, 1040.9702976569945, 288.65015686924056, 341.9783805730353, 521.9492307124945, 300.2171986460344, 416.25457742311323, 288.3165464122134, 223.50978685351146, 1044.3591180758287, 205.92902860897874, 344.0028013763563, 218.5675547935112, 269.96585055684466, 260.95091263567986, 188.1363908617993, 247.5585599346454, 362.6745635719487, 251.55065735612365, 304.75665282929475, 899.9592640591455, 491.74225853965345, 559.5843861462728, 446.1407397180976, 368.73487871130334, 595.9290765136204, 565.3930640049649, 369.50492910992233, 1066.7079640735021, 482.1511041336426, 606.5804092111712, 406.25110624873565, 671.7596200030908, 671.2241752698862, 771.66514259998, 608.4690496056774, 384.3178420492802], \"Total\": [8637.0, 32017.0, 5848.0, 4815.0, 4218.0, 4578.0, 4772.0, 14517.0, 15391.0, 15853.0, 3541.0, 4088.0, 4220.0, 11406.0, 11524.0, 3863.0, 2958.0, 2758.0, 5929.0, 7221.0, 9102.0, 6317.0, 2444.0, 2777.0, 6544.0, 2486.0, 2654.0, 2118.0, 1908.0, 1653.0, 2958.88018328203, 2023.5066271803923, 2130.0500878839985, 847.2034916640279, 762.1695342887285, 1853.6460490402346, 634.6185932870821, 574.3862015496875, 510.6107384783854, 499.9814760643236, 471.7066025660446, 1742.8032583109832, 4815.6927610618, 560.4997845670903, 1644.2819558874305, 2777.6024737091516, 543.6100317074558, 1267.8480472265546, 633.2095681582782, 763.0634209203247, 2654.1085365568465, 561.0774727988891, 484.43990765800874, 829.7495800362617, 1169.3963624535602, 530.9172764044305, 1013.9131637284978, 512.0549649393253, 500.00987664511916, 790.2514359091512, 2214.7223132186527, 966.5370900864101, 4220.349769932898, 1018.0127481871393, 2107.204005868777, 3075.6809867094166, 2651.095651040488, 1097.4194183277534, 2567.2358604251463, 1392.5342768767694, 1173.1773197650298, 3436.3893416257674, 2059.737400583599, 3726.105576902502, 2974.462007119782, 32017.199658206402, 2681.353719473306, 1747.827009846382, 3078.47751476762, 787.1593421243446, 712.3805704449403, 661.2161421144089, 653.3446902660987, 814.6201326728253, 794.716923150101, 663.9223539170343, 728.0747082099565, 949.7320998117827, 845.1283939551962, 593.3138007669096, 1776.9819967464214, 998.9339742787996, 1246.3751145962365, 731.4490369045033, 568.5992492962646, 1131.1051197205343, 1156.2655927720275, 644.896231535735, 517.749343671825, 1799.4114197405386, 2667.8207521226136, 1053.8325349979318, 647.8244634951959, 563.8694103374479, 524.2589447575077, 653.4647645335021, 859.6714150802788, 1045.0069798479985, 1659.6169703367414, 2304.2484681260685, 5036.023180551342, 2758.487855445213, 1284.3840230034434, 1719.5538866919742, 1086.2520733617166, 4512.280343883987, 32017.199658206402, 3315.6893271073855, 11524.10468876017, 1937.670470601729, 10700.120508718153, 11406.430482616306, 5044.076980685417, 6479.352134146152, 14517.37835261336, 15853.064560560448, 15391.309183315576, 8382.498658167648, 6501.942434741291, 8726.442276503425, 4042.012849595742, 8368.765316649795, 3541.149038633565, 2444.2199128897337, 5848.94992168782, 1053.1865937143928, 985.6221154582856, 961.775832643197, 957.8014519028876, 878.3138345936491, 814.7237414438019, 755.1080252218127, 703.4410739767138, 691.517930266976, 608.0559418863577, 596.1327902176537, 576.260879498715, 572.2864997651807, 564.3377420504016, 528.5683181842243, 699.5686593148428, 608.9958569186658, 1515.6774501805087, 640.821545446271, 938.1504059625213, 523.4019787053229, 577.2663853772481, 538.7451598936796, 883.9362241557243, 3863.359779652663, 631.292037761529, 575.8966707856406, 3141.324834359139, 1500.0987916155957, 993.2944383672349, 1480.403969385044, 1827.0805657496687, 1360.376155480132, 2967.197393970427, 1445.620043217257, 899.1434094685656, 9102.888300294582, 32017.199658206402, 11524.10468876017, 10700.120508718153, 2092.794687924451, 15853.064560560448, 15391.309183315576, 14517.37835261336, 11406.430482616306, 2985.0399150990734, 2838.7337441616096, 4042.012849595742, 4155.752626028809, 1978.0109913627662, 635.3254969986509, 622.8825647080312, 578.2765662930375, 1298.7422002524174, 4578.033770099555, 651.2777363303309, 563.7042617975343, 1013.3166517871576, 973.6259927497903, 1861.6832077069755, 8637.545940195838, 557.3846231737201, 589.2343843788534, 1248.5238950583014, 964.984349284095, 787.632720248747, 718.6648987368931, 701.8754563750249, 1543.578253246275, 994.4882786775099, 1769.7859727047608, 3007.94236073213, 835.4454315630273, 1256.0697333746002, 567.9726281548399, 1193.6403061274284, 1029.451759721255, 654.525541541453, 1336.5566580548928, 969.8039969212723, 2527.5732052530416, 1731.4591056919528, 2838.7337441616096, 3436.3893416257674, 2974.462007119782, 1335.3834971696454, 1466.6077458054644, 2477.6570199573935, 3069.6106280105987, 2127.2622437974123, 4927.282511260723, 5036.023180551342, 3078.47751476762, 490.60136708065465, 2031.5453843602043, 665.5823805611413, 1868.0257352333235, 568.2620743518037, 1452.068601993105, 666.3663902098765, 547.4777352124024, 1098.7490049412897, 640.7790182496587, 1226.409270883942, 496.5978743550629, 643.8675982465263, 738.8394164952292, 613.9832538246173, 1244.3913168650422, 1241.8863949898912, 509.7378610658854, 684.1386992167683, 690.3565997490876, 1381.9215116065534, 2828.657153666626, 559.9341906523896, 2681.353719473306, 1634.6733414152357, 1421.2225951136338, 798.2632409379604, 1045.979250365265, 504.8756710030391, 1180.8049356537922, 6317.647216888647, 6544.122721076912, 7221.283535459357, 14517.37835261336, 15391.309183315576, 8597.326793496457, 15853.064560560448, 4105.00927212219, 3146.8165222943044, 32017.199658206402, 11406.430482616306, 1830.1652029713064, 2127.2622437974123, 3418.2825242598146, 7138.4898555507, 4990.621977029758, 5044.076980685417, 2735.4654363278823, 11524.10468876017, 10700.120508718153, 5367.39445438117, 8726.442276503425, 4927.282511260723, 694.9287424542924, 686.3789617772352, 793.6902281907845, 771.0304661430471, 645.5193337774184, 599.452297516287, 1804.3324456311952, 920.5951507414666, 774.9533554339292, 538.4754247229127, 866.6441272545254, 616.9668494368254, 652.2308983782257, 728.0840053688164, 642.7090757066778, 840.6730499801212, 959.0136065802693, 699.9780020809992, 597.1459327419835, 899.9631004509391, 518.8573210028932, 1334.0033475563566, 1036.9910126057825, 1357.8761698197575, 681.5391447568727, 911.8667807079644, 590.0326325041628, 930.8569665712598, 539.2169646799139, 1180.5901911151545, 1579.1475923580863, 1950.8914920127406, 6479.352134146152, 3519.458770478788, 8368.765316649795, 4155.752626028809, 4071.2149796551507, 8382.498658167648, 9102.888300294582, 8726.442276503425, 4420.430560966502, 3736.999296015785, 4378.265369653783, 11524.10468876017, 7138.4898555507, 5367.39445438117, 32017.199658206402, 10700.120508718153, 2405.6739666503267, 2741.3365116102636, 2040.5007580771096, 4990.621977029758, 14517.37835261336, 15853.064560560448, 15391.309183315576, 5044.076980685417, 5929.542639598542, 8597.326793496457, 11406.430482616306, 2305.336700386103, 1768.9075245163654, 1736.3737463921166, 1435.4369629824039, 2118.7557534180955, 1093.831621375611, 1004.3637303589567, 1004.3789853687375, 862.0284479401697, 825.4279456466855, 768.4938330164458, 764.4168631057565, 658.6923303918884, 650.5588960521026, 577.3578792150571, 565.1577179178829, 557.0242731508673, 4218.200528743178, 640.8176101539173, 576.050132412232, 2077.0466925246783, 684.6833976961894, 563.4375305814544, 2486.7959703699507, 607.2452793102439, 611.9652970970088, 744.2108755673501, 1654.3205064642511, 725.0570535380161, 4772.029403255423, 833.4640650252799, 4088.303913026615, 1384.378535920133, 1935.5922776104214, 1656.6704484930397, 1349.970650012577, 2172.7367317113335, 1950.339075077512, 1950.8914920127406, 2985.0399150990734, 2006.529491267393, 9102.888300294582, 2836.5509179606333, 5367.39445438117, 8597.326793496457, 2405.6739666503267, 764.4217115787093, 648.9070307559667, 797.9055214146307, 711.5343857348051, 746.4786906901409, 2029.8637791831145, 648.3920835400123, 1589.6292680718946, 1415.289397853724, 814.5220796652409, 1894.0781742741256, 978.3526110594293, 636.7289269163543, 1027.356467228993, 1687.1840452271047, 987.7439401699949, 1468.178596712829, 2872.3636922153737, 1334.5692110268753, 988.5176087244351, 614.6010715789402, 598.0362205632719, 615.6403503056789, 992.199534957229, 5929.542639598542, 1036.43963537939, 1091.4067413249925, 757.7110988064711, 645.7367350999805, 623.8131806426786, 1748.9045615788884, 1834.3181677178763, 2049.9303656293237, 3164.2506627654507, 2118.33562490934, 9102.888300294582, 7138.4898555507, 6501.942434741291, 4071.2149796551507, 8382.498658167648, 2908.643868434519, 8368.765316649795, 8726.442276503425, 4088.303913026615, 4378.265369653783, 2412.8244084590087, 4420.430560966502, 1967.7309643904855, 2184.8333909305775, 4772.029403255423, 574.1636890214835, 546.6835168063732, 532.9434198530824, 477.98307374086176, 453.93791795493695, 1089.6450312503732, 928.690830196294, 1504.3978906017783, 737.6027822165963, 1056.2139808043798, 686.245671527464, 651.584222248525, 499.72932551267513, 1088.794868920859, 491.989218534883, 803.1368644694295, 788.3811390359369, 1829.359078436181, 1053.704425957747, 539.6747616983902, 1644.0779236274605, 509.15018365965625, 533.2064310735452, 2232.68665171297, 513.6297138384338, 2068.8545362450664, 627.9959580568667, 699.9780020809992, 1037.329907655806, 677.1568143313391, 972.8736810622283, 32017.199658206402, 1486.354178090793, 11524.10468876017, 10700.120508718153, 14517.37835261336, 11406.430482616306, 15853.064560560448, 15391.309183315576, 7221.283535459357, 6317.647216888647, 6544.122721076912, 8368.765316649795, 8726.442276503425, 8382.498658167648, 8597.326793496457, 6479.352134146152, 7138.4898555507, 544.3746826978056, 1287.3042067418546, 657.7884068194813, 1013.3659869705689, 615.3638136974065, 624.93985139275, 1653.3816225339374, 588.9588186441044, 741.436270739645, 581.0342105300286, 570.6074171854447, 1908.7734595036263, 544.7876818781149, 711.9114709851369, 1150.5990538008132, 695.6733907104915, 977.6204729182239, 677.4672088255475, 588.1075745337532, 2758.487855445213, 553.1431626993138, 928.2153709477244, 597.1156180718849, 740.4634034091691, 738.6176603084252, 544.229457287793, 719.4094691319291, 1069.9712044068342, 764.2708641168414, 939.0689846368587, 3340.813035444451, 1714.3349702444543, 2066.3150191209306, 1571.6917646871905, 1218.8506274262254, 2368.1781956226005, 2304.2484681260685, 1363.5228302157202, 11406.430482616306, 2836.5509179606333, 6501.942434741291, 1892.45517364367, 15391.309183315576, 15853.064560560448, 32017.199658206402, 14517.37835261336, 1786.7244869953654], \"Category\": [\"Default\", \"Default\", \"Default\", \"Default\", \"Default\", \"Default\", \"Default\", \"Default\", \"Default\", \"Default\", \"Default\", \"Default\", \"Default\", \"Default\", \"Default\", \"Default\", \"Default\", \"Default\", \"Default\", \"Default\", \"Default\", \"Default\", \"Default\", \"Default\", \"Default\", \"Default\", \"Default\", \"Default\", \"Default\", \"Default\", \"Topic1\", \"Topic1\", \"Topic1\", \"Topic1\", \"Topic1\", \"Topic1\", \"Topic1\", \"Topic1\", \"Topic1\", \"Topic1\", \"Topic1\", \"Topic1\", \"Topic1\", \"Topic1\", \"Topic1\", \"Topic1\", \"Topic1\", \"Topic1\", \"Topic1\", \"Topic1\", \"Topic1\", \"Topic1\", \"Topic1\", \"Topic1\", \"Topic1\", \"Topic1\", \"Topic1\", \"Topic1\", \"Topic1\", \"Topic1\", \"Topic1\", \"Topic1\", \"Topic1\", \"Topic1\", \"Topic1\", \"Topic1\", \"Topic1\", \"Topic1\", \"Topic1\", \"Topic1\", \"Topic1\", \"Topic1\", \"Topic1\", \"Topic1\", \"Topic1\", \"Topic1\", \"Topic1\", \"Topic1\", \"Topic1\", \"Topic2\", \"Topic2\", \"Topic2\", \"Topic2\", \"Topic2\", \"Topic2\", \"Topic2\", \"Topic2\", \"Topic2\", \"Topic2\", \"Topic2\", \"Topic2\", \"Topic2\", \"Topic2\", \"Topic2\", \"Topic2\", \"Topic2\", \"Topic2\", \"Topic2\", \"Topic2\", \"Topic2\", \"Topic2\", \"Topic2\", \"Topic2\", \"Topic2\", \"Topic2\", \"Topic2\", \"Topic2\", \"Topic2\", \"Topic2\", \"Topic2\", \"Topic2\", \"Topic2\", \"Topic2\", \"Topic2\", \"Topic2\", \"Topic2\", \"Topic2\", \"Topic2\", \"Topic2\", \"Topic2\", \"Topic2\", \"Topic2\", \"Topic2\", \"Topic2\", \"Topic2\", \"Topic2\", \"Topic2\", \"Topic2\", \"Topic2\", \"Topic2\", \"Topic2\", \"Topic2\", \"Topic3\", \"Topic3\", \"Topic3\", \"Topic3\", \"Topic3\", \"Topic3\", \"Topic3\", \"Topic3\", \"Topic3\", \"Topic3\", \"Topic3\", \"Topic3\", \"Topic3\", \"Topic3\", \"Topic3\", \"Topic3\", \"Topic3\", \"Topic3\", \"Topic3\", \"Topic3\", \"Topic3\", \"Topic3\", \"Topic3\", \"Topic3\", \"Topic3\", \"Topic3\", \"Topic3\", \"Topic3\", \"Topic3\", \"Topic3\", \"Topic3\", \"Topic3\", \"Topic3\", \"Topic3\", \"Topic3\", \"Topic3\", \"Topic3\", \"Topic3\", \"Topic3\", \"Topic3\", \"Topic3\", \"Topic3\", \"Topic3\", \"Topic3\", \"Topic3\", \"Topic3\", \"Topic3\", \"Topic3\", \"Topic3\", \"Topic3\", \"Topic3\", \"Topic3\", \"Topic4\", \"Topic4\", \"Topic4\", \"Topic4\", \"Topic4\", \"Topic4\", \"Topic4\", \"Topic4\", \"Topic4\", \"Topic4\", \"Topic4\", \"Topic4\", \"Topic4\", \"Topic4\", \"Topic4\", \"Topic4\", \"Topic4\", \"Topic4\", \"Topic4\", \"Topic4\", \"Topic4\", \"Topic4\", \"Topic4\", \"Topic4\", \"Topic4\", \"Topic4\", \"Topic4\", \"Topic4\", \"Topic4\", \"Topic4\", \"Topic4\", \"Topic4\", \"Topic4\", \"Topic4\", \"Topic4\", \"Topic4\", \"Topic4\", \"Topic4\", \"Topic4\", \"Topic4\", \"Topic4\", \"Topic4\", \"Topic4\", \"Topic4\", \"Topic5\", \"Topic5\", \"Topic5\", \"Topic5\", \"Topic5\", \"Topic5\", \"Topic5\", \"Topic5\", \"Topic5\", \"Topic5\", \"Topic5\", \"Topic5\", \"Topic5\", \"Topic5\", \"Topic5\", \"Topic5\", \"Topic5\", \"Topic5\", \"Topic5\", \"Topic5\", \"Topic5\", \"Topic5\", \"Topic5\", \"Topic5\", \"Topic5\", \"Topic5\", \"Topic5\", \"Topic5\", \"Topic5\", \"Topic5\", \"Topic5\", \"Topic5\", \"Topic5\", \"Topic5\", \"Topic5\", \"Topic5\", \"Topic5\", \"Topic5\", \"Topic5\", \"Topic5\", \"Topic5\", \"Topic5\", \"Topic5\", \"Topic5\", \"Topic5\", \"Topic5\", \"Topic5\", \"Topic5\", \"Topic5\", \"Topic5\", \"Topic5\", \"Topic5\", \"Topic5\", \"Topic6\", \"Topic6\", \"Topic6\", \"Topic6\", \"Topic6\", \"Topic6\", \"Topic6\", \"Topic6\", \"Topic6\", \"Topic6\", \"Topic6\", \"Topic6\", \"Topic6\", \"Topic6\", \"Topic6\", \"Topic6\", \"Topic6\", \"Topic6\", \"Topic6\", \"Topic6\", \"Topic6\", \"Topic6\", \"Topic6\", \"Topic6\", \"Topic6\", \"Topic6\", \"Topic6\", \"Topic6\", \"Topic6\", \"Topic6\", \"Topic6\", \"Topic6\", \"Topic6\", \"Topic6\", \"Topic6\", \"Topic6\", \"Topic6\", \"Topic6\", \"Topic6\", \"Topic6\", \"Topic6\", \"Topic6\", \"Topic6\", \"Topic6\", \"Topic6\", \"Topic6\", \"Topic6\", \"Topic6\", \"Topic6\", \"Topic6\", \"Topic6\", \"Topic6\", \"Topic6\", \"Topic6\", \"Topic6\", \"Topic6\", \"Topic6\", \"Topic6\", \"Topic6\", \"Topic6\", \"Topic7\", \"Topic7\", \"Topic7\", \"Topic7\", \"Topic7\", \"Topic7\", \"Topic7\", \"Topic7\", \"Topic7\", \"Topic7\", \"Topic7\", \"Topic7\", \"Topic7\", \"Topic7\", \"Topic7\", \"Topic7\", \"Topic7\", \"Topic7\", \"Topic7\", \"Topic7\", \"Topic7\", \"Topic7\", \"Topic7\", \"Topic7\", \"Topic7\", \"Topic7\", \"Topic7\", \"Topic7\", \"Topic7\", \"Topic7\", \"Topic7\", \"Topic7\", \"Topic7\", \"Topic7\", \"Topic7\", \"Topic7\", \"Topic7\", \"Topic7\", \"Topic7\", \"Topic7\", \"Topic7\", \"Topic7\", \"Topic7\", \"Topic7\", \"Topic7\", \"Topic8\", \"Topic8\", \"Topic8\", \"Topic8\", \"Topic8\", \"Topic8\", \"Topic8\", \"Topic8\", \"Topic8\", \"Topic8\", \"Topic8\", \"Topic8\", \"Topic8\", \"Topic8\", \"Topic8\", \"Topic8\", \"Topic8\", \"Topic8\", \"Topic8\", \"Topic8\", \"Topic8\", \"Topic8\", \"Topic8\", \"Topic8\", \"Topic8\", \"Topic8\", \"Topic8\", \"Topic8\", \"Topic8\", \"Topic8\", \"Topic8\", \"Topic8\", \"Topic8\", \"Topic8\", \"Topic8\", \"Topic8\", \"Topic8\", \"Topic8\", \"Topic8\", \"Topic8\", \"Topic8\", \"Topic8\", \"Topic8\", \"Topic8\", \"Topic8\", \"Topic8\", \"Topic8\", \"Topic8\", \"Topic8\", \"Topic8\", \"Topic9\", \"Topic9\", \"Topic9\", \"Topic9\", \"Topic9\", \"Topic9\", \"Topic9\", \"Topic9\", \"Topic9\", \"Topic9\", \"Topic9\", \"Topic9\", \"Topic9\", \"Topic9\", \"Topic9\", \"Topic9\", \"Topic9\", \"Topic9\", \"Topic9\", \"Topic9\", \"Topic9\", \"Topic9\", \"Topic9\", \"Topic9\", \"Topic9\", \"Topic9\", \"Topic9\", \"Topic9\", \"Topic9\", \"Topic9\", \"Topic9\", \"Topic9\", \"Topic9\", \"Topic9\", \"Topic9\", \"Topic9\", \"Topic9\", \"Topic9\", \"Topic9\", \"Topic9\", \"Topic9\", \"Topic9\", \"Topic9\", \"Topic9\", \"Topic9\", \"Topic9\", \"Topic9\", \"Topic9\", \"Topic10\", \"Topic10\", \"Topic10\", \"Topic10\", \"Topic10\", \"Topic10\", \"Topic10\", \"Topic10\", \"Topic10\", \"Topic10\", \"Topic10\", \"Topic10\", \"Topic10\", \"Topic10\", \"Topic10\", \"Topic10\", \"Topic10\", \"Topic10\", \"Topic10\", \"Topic10\", \"Topic10\", \"Topic10\", \"Topic10\", \"Topic10\", \"Topic10\", \"Topic10\", \"Topic10\", \"Topic10\", \"Topic10\", \"Topic10\", \"Topic10\", \"Topic10\", \"Topic10\", \"Topic10\", \"Topic10\", \"Topic10\", \"Topic10\", \"Topic10\", \"Topic10\", \"Topic10\", \"Topic10\", \"Topic10\", \"Topic10\", \"Topic10\", \"Topic10\", \"Topic10\", \"Topic10\"], \"logprob\": [30.0, 29.0, 28.0, 27.0, 26.0, 25.0, 24.0, 23.0, 22.0, 21.0, 20.0, 19.0, 18.0, 17.0, 16.0, 15.0, 14.0, 13.0, 12.0, 11.0, 10.0, 9.0, 8.0, 7.0, 6.0, 5.0, 4.0, 3.0, 2.0, 1.0, -4.05, -4.4305, -4.3801, -5.3037, -5.4099, -4.5217, -5.594, -5.6943, -5.8128, -5.834, -5.8939, -4.5874, -3.5731, -5.7267, -4.6562, -4.1425, -5.775, -4.9296, -5.6258, -5.4445, -4.202, -5.7571, -5.9096, -5.3807, -5.0402, -5.8306, -5.2049, -5.8986, -5.9228, -5.4694, -4.4468, -5.2731, -3.8296, -5.2277, -4.6358, -4.3546, -4.4931, -5.21, -4.5389, -5.056, -5.1948, -4.4818, -4.8924, -4.5852, -4.7372, -4.0569, -5.0473, -5.1994, -5.2155, -5.3466, -5.4469, -5.5218, -5.5339, -5.3154, -5.3487, -5.5336, -5.4415, -5.1833, -5.3131, -5.6679, -4.5734, -5.1522, -4.9366, -5.4717, -5.7272, -5.0471, -5.0314, -5.6347, -5.8598, -4.6404, -4.2623, -5.2026, -5.7059, -5.8645, -5.9499, -5.7696, -5.4967, -5.303, -4.8421, -4.5705, -3.9834, -4.5774, -5.199, -4.9861, -5.3458, -4.4867, -3.4179, -4.7335, -4.3621, -5.1071, -4.4581, -4.4416, -4.7868, -4.7309, -4.4921, -4.4835, -4.5018, -4.7036, -5.0336, -5.0028, -5.1255, -5.1589, -3.7669, -4.138, -3.2665, -4.9819, -5.0484, -5.073, -5.0771, -5.1641, -5.2396, -5.3159, -5.3872, -5.4043, -5.5337, -5.5536, -5.5877, -5.5947, -5.6087, -5.6746, -5.3951, -5.5411, -4.6324, -5.496, -5.1269, -5.7499, -5.6977, -5.8133, -5.3185, -3.8714, -5.6847, -5.7973, -4.2058, -4.9186, -5.3081, -5.0539, -4.9879, -5.1741, -4.781, -5.1951, -5.4242, -4.614, -4.1977, -4.5638, -4.6346, -5.1819, -4.6772, -4.8973, -4.9974, -5.0364, -5.2491, -5.2591, -5.2454, -5.247, -4.3092, -5.4472, -5.4707, -5.5495, -4.7483, -3.4932, -5.4614, -5.6065, -5.051, -5.0952, -4.4482, -2.9327, -5.6869, -5.6351, -4.8874, -5.1558, -5.3776, -5.4753, -5.5043, -4.7522, -5.2026, -4.6622, -4.136, -5.4248, -5.031, -5.8249, -5.0856, -5.2553, -5.7288, -5.0252, -5.3544, -4.4485, -4.8216, -4.8133, -4.7844, -4.8811, -5.2462, -5.2181, -5.0594, -5.046, -5.1476, -4.9364, -5.1475, -5.2711, -5.7492, -4.4112, -5.5349, -4.5298, -5.7293, -4.8007, -5.5949, -5.9659, -5.3028, -5.8539, -5.2052, -6.1333, -5.8853, -5.7489, -5.9461, -5.254, -5.2812, -6.2024, -5.9114, -5.9035, -5.2273, -4.5119, -6.1426, -4.5789, -5.0812, -5.234, -5.825, -5.5561, -6.2948, -5.4575, -3.8182, -3.8136, -3.7412, -3.154, -3.1059, -3.6438, -3.1142, -4.3983, -4.6454, -2.9389, -3.7934, -5.1483, -5.0515, -4.7479, -4.4866, -4.6839, -4.6832, -4.9974, -4.4532, -4.4875, -4.9379, -5.151, -5.2119, -5.2634, -5.2784, -5.1968, -5.3976, -5.6127, -5.7548, -4.6985, -5.4556, -5.6976, -6.0641, -5.6112, -5.9879, -5.9405, -5.8674, -6.0053, -5.7419, -5.6344, -5.9572, -6.1442, -5.7367, -6.3202, -5.3766, -5.6344, -5.3675, -6.073, -5.7834, -6.2375, -5.782, -6.3298, -5.5893, -5.2987, -5.1186, -4.0484, -4.6068, -3.8961, -4.5708, -4.5922, -4.0208, -3.9616, -4.1441, -4.6876, -4.8019, -4.7093, -4.1593, -4.4661, -4.6405, -3.5696, -4.4542, -5.1957, -5.1417, -5.2732, -4.9471, -4.5854, -4.5991, -4.6626, -4.9908, -5.0129, -5.0476, -5.0437, -5.2435, -4.3184, -4.337, -4.5278, -4.1389, -4.8004, -4.886, -4.8863, -5.0394, -5.083, -5.1547, -5.1607, -5.3097, -5.3222, -5.4423, -5.4637, -5.4783, -3.4688, -5.3626, -5.4784, -4.2148, -5.3299, -5.5287, -4.0487, -5.4771, -5.4808, -5.2874, -4.5026, -5.3508, -3.495, -5.2443, -3.7452, -4.8092, -4.5538, -4.7548, -4.9607, -4.7906, -4.8507, -4.8725, -4.6821, -4.8937, -4.3695, -4.8543, -4.7421, -5.0086, -5.1404, -5.0354, -5.2, -5.0268, -5.1908, -5.2177, -4.22, -5.3834, -4.5259, -4.649, -5.2532, -4.4635, -5.1385, -5.569, -5.0997, -4.6214, -5.1975, -4.8279, -4.1954, -4.982, -5.2982, -5.7919, -5.8506, -5.8416, -5.3769, -3.5986, -5.3463, -5.2947, -5.6635, -5.834, -5.8822, -4.9025, -4.8744, -4.8642, -4.5699, -4.8924, -3.9515, -4.1921, -4.3436, -4.6091, -4.2504, -4.8046, -4.3551, -4.3786, -4.8099, -4.8351, -4.9709, -4.9288, -5.0454, -5.0543, -5.054, -5.3184, -5.3678, -5.3934, -5.503, -5.5551, -4.6817, -4.8473, -4.3668, -5.0989, -4.74, -5.1766, -5.2392, -5.5121, -4.787, -5.6471, -5.2756, -5.309, -4.4832, -5.0377, -5.7093, -4.6296, -5.8023, -5.7574, -4.3631, -6.0537, -4.6639, -5.9423, -5.8455, -5.4978, -5.9309, -5.5722, -2.6075, -5.2264, -3.5702, -3.7254, -3.7815, -3.9532, -3.77, -3.7953, -4.3005, -4.392, -4.3826, -4.4023, -4.5525, -4.6959, -4.8495, -4.9912, -5.228, -4.5616, -3.7605, -4.4467, -4.0162, -4.5365, -4.566, -3.6463, -4.706, -4.5139, -4.7811, -5.0605, -3.9068, -5.1895, -5.0199, -4.5971, -5.1502, -4.8234, -5.1906, -5.4452, -3.9035, -5.5272, -5.014, -5.4676, -5.2564, -5.2904, -5.6175, -5.343, -4.9612, -5.327, -5.1352, -4.0523, -4.6567, -4.5275, -4.754, -4.9446, -4.4646, -4.5172, -4.9425, -3.8824, -4.6764, -4.4468, -4.8477, -4.3448, -4.3456, -4.2061, -4.4437, -4.9032], \"loglift\": [30.0, 29.0, 28.0, 27.0, 26.0, 25.0, 24.0, 23.0, 22.0, 21.0, 20.0, 19.0, 18.0, 17.0, 16.0, 15.0, 14.0, 13.0, 12.0, 11.0, 10.0, 9.0, 8.0, 7.0, 6.0, 5.0, 4.0, 3.0, 2.0, 1.0, 2.0548, 2.0542, 2.0533, 2.0517, 2.0513, 2.0507, 2.0503, 2.0497, 2.0489, 2.0488, 2.0471, 2.0467, 2.0446, 2.0418, 2.0361, 2.0255, 2.0241, 2.0227, 2.0207, 2.0155, 2.0114, 2.0104, 2.0047, 1.9955, 1.9929, 1.9922, 1.9709, 1.9603, 1.9599, 1.9556, 1.9476, 1.9505, 1.92, 1.944, 1.8084, 1.7114, 1.7216, 1.8866, 1.7078, 1.8024, 1.8351, 1.4734, 1.5746, 1.289, 1.3624, -0.3336, 1.156, 1.4319, 0.8496, 2.0823, 2.0818, 2.0814, 2.0814, 2.0792, 2.0706, 2.0656, 2.0654, 2.0579, 2.0448, 2.0437, 2.0412, 2.0384, 2.0327, 2.0306, 2.027, 2.0193, 2.013, 1.9936, 1.9881, 1.9617, 1.946, 1.9345, 1.9178, 1.8981, 1.8855, 1.8454, 1.8441, 1.8426, 1.8409, 1.7843, 1.5896, 1.5975, 1.7403, 1.6615, 1.7611, 1.1961, 0.3054, 1.2574, 0.383, 1.421, 0.3613, 0.3138, 0.7846, 0.5901, 0.0222, -0.0573, -0.046, 0.3599, 0.2839, 0.0204, 0.6674, -0.0938, 2.1583, 2.1578, 2.1568, 2.1559, 2.1557, 2.1556, 2.1555, 2.1552, 2.1549, 2.1545, 2.1542, 2.1541, 2.1534, 2.1533, 2.1531, 2.153, 2.1529, 2.1525, 2.1518, 2.1445, 2.1413, 2.1386, 2.1265, 2.0871, 2.0413, 1.9948, 1.9944, 1.9667, 1.9649, 1.9441, 1.8391, 1.8654, 1.8882, 1.7433, 1.599, 1.7077, 1.3209, 1.6259, 1.8717, 0.367, -0.4744, 0.1814, 0.1848, 1.2692, -0.251, -0.4416, -0.4832, -0.281, 0.8469, 0.8871, 0.5474, 0.5181, 2.1983, 2.196, 2.1923, 2.1878, 2.1799, 2.1751, 2.157, 2.1563, 2.1253, 2.1211, 2.1199, 2.1008, 2.0872, 2.0834, 2.0802, 2.0694, 2.0507, 2.0447, 2.0393, 2.0032, 1.9925, 1.9565, 1.9523, 1.9445, 1.9306, 1.9304, 1.927, 1.9052, 1.8847, 1.8743, 1.8659, 1.8138, 1.819, 1.333, 1.1708, 1.2185, 1.6542, 1.5885, 1.2229, 1.022, 1.2872, 0.6584, 0.4255, 0.7941, 2.1525, 2.0696, 2.0617, 2.0349, 2.0255, 2.0159, 2.0006, 1.8261, 1.7926, 1.7807, 1.7803, 1.7563, 1.7445, 1.7434, 1.7313, 1.717, 1.6917, 1.6611, 1.6578, 1.6566, 1.6388, 1.6379, 1.6269, 1.6243, 1.617, 1.6041, 1.5899, 1.5885, 1.5782, 1.5659, 1.528, 1.4974, 1.4713, 1.3602, 1.3499, 1.3943, 1.3121, 1.3791, 1.3978, 0.7844, 0.962, 1.4369, 1.3833, 1.2126, 0.7375, 0.8981, 0.8882, 1.1859, 0.2919, 0.3318, 0.5713, -0.1278, 0.3829, 2.2901, 2.2876, 2.2238, 2.052, 2.0145, 1.9465, 1.9009, 1.8168, 1.747, 1.7445, 1.7215, 1.6846, 1.6765, 1.6396, 1.6264, 1.6212, 1.597, 1.589, 1.561, 1.5583, 1.5255, 1.5248, 1.5189, 1.5162, 1.5, 1.4984, 1.4797, 1.4792, 1.4774, 1.4342, 1.434, 1.4027, 1.2725, 1.3244, 1.169, 1.1943, 1.1934, 1.0426, 1.0194, 0.8791, 1.0157, 1.0694, 1.0037, 0.5859, 0.758, 0.8687, 0.1538, 0.3651, 1.1161, 1.0394, 1.2032, 0.6349, -0.0711, -0.1729, -0.2068, 0.5806, 0.3967, -0.0095, -0.2883, 1.1109, 2.3008, 2.3007, 2.3003, 2.2998, 2.2995, 2.2992, 2.2989, 2.2987, 2.2985, 2.2982, 2.2976, 2.2974, 2.2973, 2.2966, 2.2965, 2.2964, 2.2813, 2.272, 2.2627, 2.2438, 2.2385, 2.2346, 2.2299, 2.2114, 2.1999, 2.1976, 2.1836, 2.1603, 2.1318, 2.1274, 2.0363, 2.0551, 1.9754, 1.9299, 1.9288, 1.623, 1.6709, 1.6488, 1.4139, 1.5994, 0.6115, 1.2927, 0.7672, 0.0295, 1.1714, 2.4229, 2.422, 2.3885, 2.3391, 2.2643, 2.2616, 2.2395, 2.2002, 2.1933, 2.1415, 2.0874, 2.0729, 2.072, 2.0629, 2.0452, 2.0044, 1.9776, 1.939, 1.919, 1.9029, 1.8845, 1.8531, 1.833, 1.8205, 1.811, 1.8075, 1.8074, 1.8035, 1.7929, 1.7793, 1.7281, 1.7085, 1.6076, 1.4678, 1.5465, 1.0294, 1.032, 0.9739, 1.1766, 0.813, 1.3173, 0.71, 0.6446, 0.9715, 0.8779, 1.3379, 0.7745, 1.4673, 1.3538, 0.5728, 2.426, 2.4257, 2.4255, 2.4247, 2.4243, 2.4221, 2.4163, 2.4144, 2.395, 2.3949, 2.3895, 2.3787, 2.3711, 2.3175, 2.2517, 2.1332, 2.1184, 2.1024, 2.0996, 2.0971, 2.0628, 2.0623, 2.0611, 2.0232, 1.8021, 1.7987, 1.7125, 1.7008, 1.6552, 1.6485, 1.6449, 1.1158, 1.5668, 1.1749, 1.0939, 0.7328, 0.8022, 0.6562, 0.6605, 0.912, 0.9542, 0.9284, 0.6627, 0.4707, 0.3675, 0.1886, 0.3298, -0.0039, 3.2361, 3.1765, 3.1618, 3.1601, 3.1386, 3.0936, 3.0405, 3.013, 2.9748, 2.9514, 2.6901, 2.6363, 2.6075, 2.5094, 2.4522, 2.4023, 2.3888, 2.3884, 2.2752, 2.2714, 2.2546, 2.25, 2.2376, 2.2337, 2.2022, 2.1805, 2.1759, 2.1608, 2.1314, 2.1173, 1.931, 1.9938, 1.9363, 1.9834, 2.0471, 1.8629, 1.8377, 1.937, 0.8731, 1.4706, 0.8706, 1.704, 0.111, 0.0806, -0.4828, 0.0705, 1.706]}, \"token.table\": {\"Topic\": [1, 2, 3, 4, 5, 8, 10, 1, 2, 3, 4, 5, 6, 7, 8, 10, 1, 2, 4, 10, 1, 2, 3, 4, 6, 8, 10, 1, 2, 1, 2, 3, 10, 1, 2, 3, 4, 5, 6, 7, 8, 9, 10, 1, 2, 3, 4, 5, 6, 7, 8, 9, 10, 1, 2, 3, 4, 5, 6, 7, 8, 9, 10, 1, 2, 3, 4, 10, 1, 2, 3, 4, 5, 6, 7, 8, 9, 10, 1, 2, 3, 4, 5, 6, 7, 8, 9, 10, 1, 2, 3, 4, 5, 6, 7, 8, 9, 10, 1, 2, 3, 4, 5, 7, 8, 9, 10, 7, 7, 1, 2, 3, 4, 5, 6, 7, 8, 9, 10, 1, 2, 3, 4, 6, 7, 8, 9, 10, 1, 2, 3, 4, 5, 7, 8, 9, 10, 1, 2, 3, 4, 5, 6, 7, 8, 9, 10, 1, 2, 10, 1, 2, 3, 4, 5, 6, 7, 8, 9, 10, 1, 2, 3, 4, 5, 7, 8, 9, 10, 1, 2, 3, 4, 5, 6, 7, 8, 9, 10, 1, 2, 3, 4, 5, 7, 8, 9, 10, 1, 5, 1, 2, 3, 4, 5, 6, 7, 8, 9, 10, 5, 10, 5, 10, 2, 5, 10, 1, 3, 4, 5, 9, 1, 3, 4, 5, 9, 3, 4, 5, 6, 7, 9, 10, 3, 6, 9, 3, 1, 10, 1, 2, 3, 5, 7, 8, 1, 2, 9, 1, 5, 1, 1, 5, 1, 2, 3, 5, 6, 7, 8, 9, 10, 1, 2, 3, 4, 5, 6, 7, 9, 10, 8, 3, 1, 5, 7, 9, 7, 1, 2, 3, 4, 5, 7, 8, 10, 3, 3, 6, 7, 7, 8, 7, 8, 7, 8, 1, 2, 3, 4, 5, 6, 7, 9, 10, 1, 3, 4, 5, 8, 9, 3, 6, 7, 8, 1, 3, 4, 5, 6, 7, 8, 9, 9, 1, 2, 3, 4, 5, 6, 7, 8, 9, 10, 1, 2, 3, 4, 8, 9, 10, 7, 8, 7, 8, 7, 4, 10, 7, 8, 2, 4, 5, 6, 10, 2, 5, 6, 10, 2, 1, 2, 3, 4, 5, 6, 7, 8, 9, 10, 1, 2, 3, 4, 5, 6, 7, 8, 9, 1, 2, 3, 4, 5, 6, 7, 8, 9, 10, 4, 7, 8, 9, 1, 2, 3, 4, 5, 6, 8, 9, 1, 2, 3, 4, 5, 6, 9, 1, 3, 10, 1, 2, 10, 3, 3, 3, 6, 7, 6, 7, 2, 10, 1, 2, 3, 4, 5, 7, 8, 9, 1, 2, 3, 4, 6, 8, 9, 10, 1, 2, 3, 4, 5, 6, 9, 10, 1, 2, 4, 9, 2, 3, 4, 5, 6, 7, 8, 9, 10, 1, 2, 3, 4, 5, 6, 7, 1, 2, 3, 4, 5, 6, 7, 8, 9, 10, 2, 5, 7, 1, 2, 3, 5, 6, 7, 9, 1, 2, 3, 4, 5, 6, 7, 8, 9, 10, 3, 6, 7, 8, 1, 2, 3, 5, 6, 9, 1, 2, 6, 7, 9, 3, 4, 6, 7, 8, 2, 1, 5, 9, 1, 7, 8, 1, 3, 8, 1, 3, 4, 7, 9, 1, 2, 3, 4, 5, 6, 7, 9, 10, 1, 2, 3, 4, 5, 6, 7, 8, 9, 10, 1, 2, 3, 4, 7, 9, 10, 1, 2, 3, 4, 5, 6, 9, 1, 2, 4, 5, 6, 9, 10, 1, 3, 4, 9, 1, 2, 8, 1, 3, 4, 8, 9, 10, 1, 2, 3, 5, 6, 7, 8, 9, 10, 3, 1, 2, 3, 4, 5, 6, 7, 9, 10, 1, 2, 3, 6, 7, 9, 2, 6, 10, 1, 2, 3, 4, 5, 8, 9, 10, 4, 5, 6, 9, 2, 4, 8, 9, 1, 2, 4, 5, 9, 1, 2, 3, 4, 5, 6, 9, 10, 1, 2, 3, 4, 5, 6, 7, 8, 9, 10, 1, 2, 3, 4, 5, 6, 8, 9, 10, 1, 9, 1, 5, 1, 4, 7, 9, 1, 2, 3, 4, 5, 6, 7, 9, 10, 1, 2, 3, 4, 5, 6, 7, 8, 9, 10, 1, 2, 3, 4, 5, 6, 7, 8, 9, 10, 1, 2, 3, 4, 5, 6, 7, 8, 9, 10, 4, 8, 9, 1, 4, 5, 9, 2, 7, 10, 3, 4, 5, 6, 8, 9, 1, 2, 3, 4, 5, 6, 7, 9, 10, 1, 2, 3, 4, 5, 9, 10, 1, 3, 5, 6, 7, 9, 1, 2, 3, 4, 6, 9, 10, 1, 3, 7, 8, 9, 3, 6, 7, 3, 4, 6, 7, 3, 7, 1, 2, 4, 5, 8, 9, 10, 1, 2, 3, 5, 6, 7, 8, 9, 10, 1, 3, 4, 7, 8, 10, 1, 2, 5, 6, 10, 3, 6, 7, 8, 1, 2, 3, 4, 5, 6, 7, 8, 9, 10, 1, 3, 5, 7, 1, 3, 5, 7, 4, 7, 8, 9, 1, 5, 1, 1, 2, 4, 6, 7, 9, 1, 2, 3, 4, 6, 7, 8, 9, 10, 1, 3, 4, 6, 7, 8, 9, 1, 4, 1, 2, 6, 8, 10, 2, 6, 10, 1, 8, 9, 10, 2, 6, 8, 9, 10, 3, 6, 7, 1, 1, 2, 3, 5, 6, 8, 9, 1, 2, 3, 4, 5, 6, 7, 8, 9, 10, 1, 2, 3, 4, 5, 6, 7, 8, 9, 10, 1, 2, 3, 4, 5, 6, 7, 8, 9, 10, 1, 3, 4, 5, 9, 10, 3, 4, 6, 7, 8, 9, 1, 5, 6, 7, 7, 6, 7, 2, 3, 4, 5, 6, 8, 9, 10, 2, 3, 4, 5, 6, 7, 8, 9, 10, 2, 3, 6, 7, 9, 10, 1, 2, 3, 4, 5, 6, 7, 8, 9, 10, 1, 2, 3, 4, 5, 6, 7, 8, 9, 10, 7, 4, 9, 10, 1, 2, 5, 9, 2, 3, 4, 5, 6, 7, 8, 9, 1, 2, 7, 8, 10, 2, 10, 2, 6, 8, 9, 10, 1, 2, 3, 5, 6, 7, 8, 9, 10, 1, 2, 3, 4, 5, 6, 9, 10, 4, 9, 1, 3, 4, 5, 6, 7, 8, 9, 3, 1, 3, 6, 7, 8, 1, 4, 8, 1, 2, 3, 4, 5, 7, 8, 9, 10, 1, 2, 3, 4, 5, 6, 7, 8, 9, 1, 2, 4, 5, 6, 9, 10, 3, 7, 10, 1, 3, 3, 3, 7, 1, 2, 3, 9, 3, 2, 3, 8, 3, 3, 6, 7, 3, 6, 7, 8, 1, 1, 4, 8, 10, 4, 5, 8, 9, 1, 2, 3, 4, 5, 6, 7, 8, 9, 10, 1, 2, 3, 4, 5, 6, 7, 8, 9, 10, 3, 5, 6, 7, 8, 1, 2, 3, 4, 5, 6, 7, 8, 9, 10, 1, 3, 4, 6, 7, 8, 9, 1, 2, 3, 4, 5, 6, 7, 8, 9, 10, 3, 4, 9, 2, 3, 7, 10, 3, 3, 7, 8, 1, 2, 3, 4, 6, 7, 8, 9, 10, 1, 2, 3, 4, 6, 7, 8, 9, 1, 2, 3, 4, 5, 6, 7, 8, 9, 10, 1, 2, 3, 4, 5, 6, 7, 8, 9, 10, 3, 6, 7, 8, 10, 1, 2, 3, 4, 5, 6, 7, 8, 9, 10, 1, 2, 3, 4, 5, 6, 7, 8, 9, 10, 1, 2, 3, 4, 5, 6, 8, 9, 10, 4, 9, 1, 4, 5, 6, 1, 2, 3, 4, 5, 6, 9, 10, 1, 2, 3, 4, 5, 6, 7, 8, 9, 10, 4, 8, 9, 10, 3, 6, 4, 7, 8, 9, 4, 8, 9, 1, 2, 4, 5, 6, 9, 4, 8, 9, 2, 4, 6, 3, 6, 7, 8, 3, 4, 5, 6, 7, 9, 10, 3, 6, 7, 8, 3, 6, 7, 8, 1, 4, 9, 10, 3, 4, 6, 7, 8, 1, 2, 4, 5, 6, 7, 9, 10, 2, 10, 1, 2, 3, 4, 5, 6, 7, 8, 9, 10, 1, 3, 5, 6, 7, 9, 1, 2, 4, 5, 10, 1, 4, 5, 6, 9, 10, 1, 2, 3, 4, 5, 6, 9, 10, 9, 3, 9, 3, 7, 10, 7, 1, 2, 3, 4, 5, 6, 7, 8, 9, 10, 1, 2, 4, 9, 10, 4, 6, 8, 9, 4, 9, 1, 2, 3, 4, 5, 6, 7, 8, 9, 10, 7, 1, 5, 6, 9, 1, 3, 4, 5, 8, 9, 3, 3, 3, 3, 5, 7, 8, 10, 1, 2, 4, 9, 1, 4, 5, 9, 3, 6, 7, 8, 1, 2, 3, 4, 5, 6, 7, 8, 9, 10, 1, 4, 5, 6, 7, 9, 2, 5, 10, 2, 4, 8, 10, 2, 10, 2, 10, 2, 10, 1, 4, 5, 6, 8, 9, 1, 4, 8, 9, 1, 2, 4, 5, 6, 10, 1, 2, 6, 8, 10, 2, 4, 6, 10, 1, 2, 3, 4, 5, 6, 7, 8, 9, 10, 1, 2, 3, 4, 5, 6, 7, 8, 9, 3, 4, 6, 7, 10, 1, 5, 9, 2, 3, 6, 7, 8, 9, 1, 2, 3, 4, 5, 6, 7, 9, 10, 9, 7, 10, 1, 4, 5, 7, 9, 1, 4, 1, 4, 1, 2, 4, 5, 6, 8, 9, 10, 4, 9, 10, 1, 4, 1, 2, 3, 4, 6, 7, 8, 9, 10, 3, 6, 7, 3, 6, 7, 1, 2, 3, 4, 5, 6, 7, 9, 10, 4, 7, 8, 1, 2, 3, 4, 5, 6, 7, 9, 10, 1, 2, 3, 4, 5, 6, 7, 8, 9, 10, 3, 4, 6, 7, 8, 9, 7, 8, 2, 6, 7, 9, 2, 3, 4, 7, 8, 9, 2, 1, 4, 10, 1, 3, 4, 5, 6, 8, 9, 1, 2, 3, 5, 6, 7, 9, 10, 1, 2, 4, 7, 8, 10, 4, 7, 8, 9, 1, 2, 3, 4, 5, 6, 7, 8, 9, 10, 1, 4, 9, 4, 9, 1, 2, 3, 4, 5, 6, 7, 8, 9, 10, 1, 2, 3, 4, 5, 6, 7, 8, 9, 10, 2, 3, 4, 5, 6, 7, 8, 9, 10, 1, 2, 3, 4, 5, 6, 7, 8, 9, 10, 1, 2, 4, 5, 6, 7, 9, 10, 7, 8, 2, 10, 2, 3, 4, 6, 7, 8, 9, 10, 7, 6, 7, 3, 4, 6, 7, 8, 4, 9, 4, 6, 8, 9, 1, 2, 3, 4, 5, 6, 9, 10, 4, 8, 9, 1, 7, 8, 3, 4, 7, 8, 2, 10, 1, 4, 8, 9, 4, 8, 9, 10, 1, 4, 9, 10, 1, 2, 3, 4, 5, 6, 7, 8, 9, 10, 1, 2, 3, 4, 5, 6, 7, 8, 9, 10, 1, 4, 5, 6, 8, 9, 1, 2, 5, 9, 1, 2, 3, 5, 6, 9, 10, 1, 3, 4, 5, 7, 8, 1, 2, 3, 4, 5, 6, 7, 8, 9, 10, 8, 1, 2, 4, 5, 6, 7, 8, 9, 1, 2, 3, 4, 5, 6, 8, 9, 1, 2, 4, 6, 7, 10, 2, 4, 6, 10, 1, 2, 4, 5, 9, 1, 4, 9, 3, 6, 7, 1, 2, 3, 4, 5, 6, 7, 8, 9, 10, 1, 2, 3, 4, 5, 6, 7, 8, 9, 1, 2, 3, 4, 5, 6, 7, 8, 9, 10, 9, 1, 1, 2, 3, 5, 9, 1, 2, 3, 4, 5, 6, 7, 8, 9, 10, 1, 2, 3, 4, 5, 6, 7, 8, 9, 10, 2, 3, 4, 6, 7, 8, 9, 10, 2, 3, 4, 5, 6, 7, 8, 9, 10, 1, 2, 5, 6, 7, 9, 10, 1, 2, 3, 4, 5, 6, 7, 8, 9, 10, 6, 7, 8, 7, 8, 6, 7, 1, 3, 9, 1, 2, 3, 6, 7, 9, 10, 1, 5, 9, 3, 6, 9, 1, 2, 3, 4, 5, 6, 7, 9, 10, 1, 2, 3, 4, 5, 6, 7, 9, 10, 2, 3, 4, 9, 1, 2, 3, 4, 5, 6, 7, 8, 9, 10, 1, 3, 4, 5, 6, 7, 9, 10, 6, 7, 9, 1, 4, 5, 6, 9, 10, 3, 4, 7, 8, 9, 4, 6, 8, 9, 1, 2, 3, 4, 5, 6, 7, 10, 1, 4, 7, 8, 1, 5, 10, 1, 3, 4, 5, 6, 8, 9, 10, 1, 2, 5, 6, 9, 10, 1, 2, 3, 4, 5, 6, 7, 8, 9, 10, 1, 3, 4, 5, 6, 8, 9, 3, 6, 7, 8, 1, 2, 3, 4, 5, 6, 7, 9, 1, 2, 3, 4, 5, 6, 7, 8, 9, 10, 2, 3, 4, 6, 7, 8, 10, 2, 3, 4, 6, 7, 8, 9, 1, 2, 6, 9, 10, 1, 5, 8, 1, 2, 3, 4, 5, 6, 7, 8, 9, 10, 1, 2, 5, 6, 9, 1, 2, 3, 4, 5, 6, 7, 8, 9, 10, 1, 2, 3, 4, 5, 6, 7, 8, 9, 10, 1, 2, 3, 4, 5, 6, 7, 8, 9, 10, 1, 2, 3, 4, 5, 6, 7, 9, 10, 1, 2, 3, 4, 5, 6, 7, 8, 9, 10, 1, 2, 3, 4, 6, 7, 8, 9, 10, 3, 1, 2, 7, 10, 1, 8, 9, 7], \"Freq\": [0.09193279877336973, 0.0006048210445616429, 0.06229656758984922, 0.015120526114041072, 0.011491599846671216, 0.0006048210445616429, 0.8171132312027796, 0.0035254082472771543, 0.008813520618192886, 0.1893144228787832, 0.17909073896167946, 0.0028203265978217237, 0.06275226680153335, 0.36417467194373004, 0.01938974536002435, 0.16992467751875884, 0.00539493434278534, 0.12273475629836648, 0.10385248609861779, 0.764731943089822, 0.012440108296588521, 0.7837268226850769, 0.011483176889158635, 0.06315747289037249, 0.013397039704018407, 0.0057415884445793175, 0.10909018044700704, 0.06832340293946276, 0.9288523386959875, 0.0555090978773505, 0.5442599352852415, 0.043324173953054046, 0.35336279380459706, 0.12032999025535687, 0.12990849694235046, 0.04699454843306226, 0.19306677540971437, 0.06495424847117523, 0.005687238345402439, 0.06465492013720668, 0.03232746006860334, 0.07243745682038896, 0.2693955005716945, 0.1230797969255172, 0.03558231095950971, 0.009916381742814182, 0.1271630129372642, 0.13591276153386495, 0.03733226067882986, 0.08399758652736719, 0.019832763485628364, 0.1411626106918254, 0.28699175396850457, 0.13163530124061942, 0.11760065515246515, 0.05662253766600174, 0.10937344882492644, 0.12244018828631145, 0.014034646088154277, 0.10646972894461866, 0.04597556477153988, 0.025649525609385403, 0.2710138554953929, 0.9047753253082323, 0.006327100176980646, 0.0050616801415845165, 0.04049344113267613, 0.04049344113267613, 0.07698710568995207, 0.0489917945299695, 0.027995311159982567, 0.1329777280099172, 0.22841628878258505, 0.01018011314908457, 0.09861984613175677, 0.022268997513622497, 0.06998827789995642, 0.28377065403073237, 0.12424971035871624, 0.051490870959467985, 0.051490870959467985, 0.21603778467776785, 0.1455176787984965, 0.005596833799942173, 0.08339282361913837, 0.045894037159525815, 0.06212485517935812, 0.21491841791777944, 0.10472184925036865, 0.05869490744274694, 0.03335897617249647, 0.20691010537371224, 0.10852223894090622, 0.0033781241693667304, 0.10303278716568529, 0.07643005933192228, 0.053627721188696846, 0.25167025061782144, 0.26949119170842134, 0.0697506613833561, 0.036460572995845236, 0.07239273189030142, 0.15429691760560593, 0.0671085908764108, 0.0465004409222374, 0.06869383318057798, 0.21453612516395892, 0.9943944536447059, 0.9954536616087964, 0.04358956834221437, 0.12471459831244668, 0.14449134691215504, 0.3757582233944591, 0.13076870502664312, 0.0020180355713988133, 0.026234462428184575, 0.0008072142285595254, 0.02502364108534529, 0.12632902676956573, 0.14039292549467136, 0.06533136136880746, 0.011120231722350207, 0.20433425789818505, 0.027800579305875518, 0.1723635916964282, 0.025020521375287968, 0.008340173791762655, 0.3447271833928564, 0.08942851367289266, 0.10255563494597783, 0.10829875050295258, 0.1747548019479462, 0.11404186605992735, 0.043483589217094595, 0.004922670477406936, 0.05907204572888323, 0.30274423436052655, 0.6180399499661037, 0.053404866061485784, 0.025245936683611463, 0.04272389284918863, 0.05437586362624007, 0.0033984914766400044, 0.04175289528443434, 0.01941995129508574, 0.042238394066811485, 0.09952725038731441, 0.9079820643667513, 0.043999130872397645, 0.04199917037819775, 0.04848012800526477, 0.08187754952000272, 0.05602148125052818, 0.09696025601052954, 0.08941890276526612, 0.008618689423158181, 0.1378990307705309, 0.04740279182737, 0.06356283449579159, 0.3706036451958018, 0.06752528182999308, 0.0702262931031928, 0.10939095656458878, 0.16611219330178295, 0.09453539456199031, 0.04996870855419488, 0.04996870855419488, 0.024309101458797507, 0.3646365218819626, 0.07954541060452049, 0.09039251205059146, 0.047004106266307556, 0.1970556762702894, 0.056043357471366705, 0.047004106266307556, 0.05965905795339036, 0.03977270530226024, 0.012654951687082805, 0.3724171496484368, 0.11499649270514137, 0.13080851045209832, 0.03306149165272815, 0.1624325459460122, 0.06899789562308482, 0.005749824635257069, 0.02012438622339974, 0.03306149165272815, 0.43123684764428016, 0.7762825073322499, 0.22189758997748862, 0.08849414929755402, 0.047758747239949786, 0.02107003554703667, 0.0870894802610849, 0.09411282544343046, 0.06321010664111001, 0.06742411375051735, 0.04494940916701156, 0.0070233451823455565, 0.4803968104724361, 0.07598439358537135, 0.9206940157811879, 0.061368555766587354, 0.9360646797308577, 0.9058437364186699, 0.011588619229236714, 0.07532602499003864, 0.17344514793824892, 0.0016059735920208233, 0.011777139674819371, 0.8115519885011894, 0.0010706490613472156, 0.17422955420168343, 0.010301490351256345, 0.1366067198753559, 0.013884617429954206, 0.6642221822136157, 0.25050214177071595, 0.052901073417418266, 0.009335483544250282, 0.5118956810097238, 0.07623978227804398, 0.0015559139240417137, 0.09491074936654455, 0.9678618633314051, 0.0021318543245185135, 0.026648179056481418, 0.9960310647939244, 0.2003535667768054, 0.7946226207758045, 0.004507330854327529, 0.027043985125965175, 0.03756109045272941, 0.8338562080505929, 0.01652687979920094, 0.07962951175978634, 0.008614276936824141, 0.004307138468412071, 0.9841811400321582, 0.336086726757234, 0.6575609871337187, 0.9942980030440973, 0.9081056367749487, 0.08397535995983396, 0.02719835969702159, 0.0066158172235998465, 0.6365886350708297, 0.008085998828844258, 0.017642179262932923, 0.11761452841955283, 0.1705410662083516, 0.013966725249821899, 0.0022052724078666154, 0.027559830982759485, 0.11023932393103794, 0.09896484761990905, 0.0037581587703762933, 0.5198786299020539, 0.12276651983229225, 0.043845185654390086, 0.07015229704702414, 0.0012527195901254312, 0.9955237906944812, 0.9940855594058362, 0.0631877570673455, 0.9131650053603478, 0.010191573720539597, 0.008153258976431677, 0.992775407922345, 0.022735226219201297, 0.05647136835091935, 0.07260604502261059, 0.3329610549521738, 0.040336691679228105, 0.17381447141776477, 0.030069170160879136, 0.27135592584208, 0.9986826419043747, 0.9823989924918843, 0.015834503572736885, 0.9980570160087212, 0.9297103693054694, 0.06916530429089132, 0.8428280004427966, 0.1565371746222698, 0.7660878610370595, 0.2331040011393096, 0.027663239844712743, 0.17803537805465464, 0.13887694057176736, 0.01140174074680728, 0.14775534525165826, 0.14513855229337463, 0.06205537586786913, 0.2622400371765674, 0.026728670931040015, 0.06094211015616623, 0.012696272949201299, 0.8595376786609279, 0.01650515483396169, 0.0063481364746006495, 0.04189770073236428, 0.8237075218687145, 0.004752158780011815, 0.1584052926670605, 0.00950431756002363, 0.11539360587416454, 0.034477357852646724, 0.030959260112580732, 0.5270110414618857, 0.026033923276488343, 0.0035180977400659924, 0.0035180977400659924, 0.2582283741208438, 0.9932620671867123, 0.7155532088234823, 0.010938873513906686, 0.009807265909019789, 0.20180335620483025, 0.02489536730751177, 0.0037720253496229955, 0.003394822814660696, 0.0030176202796983963, 0.009430063374057489, 0.01697411407330348, 0.012335925840461467, 0.8587702219705867, 0.05029262073418905, 0.05788395971293457, 0.0009489173723431898, 0.0066424216064023284, 0.012335925840461467, 0.7808557933769964, 0.21742608122708224, 0.24431504678398244, 0.7513608473959661, 0.994529479077606, 0.13281278160614177, 0.8608828494470394, 0.4712949471460491, 0.5225923563592245, 0.6463848875114634, 0.013843498414578293, 0.002129768986858199, 0.011713729427720095, 0.3247897704958753, 0.73906960276075, 0.0030378668346008513, 0.011717486362031855, 0.24519925164992584, 0.9951360199644788, 0.01862287962872886, 0.22690508600267006, 0.1377112940966529, 0.03577553191834755, 0.012741970272288168, 0.33570190909682285, 0.006370985136144084, 0.11173727777237316, 0.08968386768572056, 0.024503788985169552, 0.12540832080933667, 0.5140192902308615, 0.06038178409338433, 0.04593144260095047, 0.11611881556420063, 0.062446118592303444, 0.005676919872027586, 0.039738439104193106, 0.03148110110851662, 0.1305912458263242, 0.43641000626025656, 0.048557022120180586, 0.09500286936557072, 0.019905363105167197, 0.13752796327206426, 0.006333524624371381, 0.04523946160265272, 0.07751027754587833, 0.003015964106843515, 0.7287721711770513, 0.03972343071405311, 0.001527824258232812, 0.227645814476689, 0.7058175012014378, 0.0763467054279701, 0.053364788998121956, 0.023371440437133705, 0.014801912276851346, 0.030772396575559375, 0.01363334025499466, 0.08102099351539684, 0.0944651171488914, 0.02768805157812334, 0.08632157256709042, 0.1807866897159818, 0.5993648812205523, 0.0016287089163601965, 0.011400962414521376, 0.969444949985039, 0.009197769923956727, 0.016555985863122107, 0.026380618719713356, 0.9426674422510907, 0.028139326634360914, 0.9943413137786629, 0.9942572474337081, 0.042837871492386825, 0.9310937362609959, 0.022678873143028317, 0.992163277028032, 0.002913842223283501, 0.6579616321453065, 0.3392614665749237, 0.07202952661561991, 0.0009733719812921609, 0.038934879251686434, 0.13335196143702605, 0.0019467439625843218, 0.05353545897106885, 0.6949875946426028, 0.004866859906460804, 0.008373162615444647, 0.03014338541560073, 0.18086031249360437, 0.23109928818627226, 0.48061953412652275, 0.020095590277067154, 0.04019118055413431, 0.006698530092355717, 0.10060878614934018, 0.1369059027020077, 0.0840436591320154, 0.08672331203187676, 0.42119271489639026, 0.10401925347643645, 0.04506688967948652, 0.02119361838981258, 0.058921711044797806, 0.16694484796026046, 0.07856228139306375, 0.691348076258961, 0.11562352756845855, 0.03431748535136898, 0.009503303635763717, 0.014254955453645576, 0.0200625298977234, 0.07444254514681578, 0.7116918500560828, 0.008447381009567748, 0.01108718757505767, 0.16618323439694424, 0.04969965888506744, 0.04969965888506744, 0.043487201524434006, 0.6072677070019177, 0.037274744163800576, 0.04659343020475072, 0.049887083172792536, 0.04255074741208775, 0.16580118819192813, 0.03961621310780584, 0.004401801456422871, 0.4519182828594147, 0.030812610194960094, 0.10711050210628985, 0.09097056343273933, 0.01907447297783244, 0.9573348863043649, 0.026967179895897603, 0.010112692460961602, 0.10495479630593861, 0.13455743116145977, 0.0053822972464583905, 0.2852617540622947, 0.03498493210197954, 0.014128530271953276, 0.4211647595353691, 0.06710948878018047, 0.04463106778099381, 0.2576874059471978, 0.3075308612062639, 0.1609324633854813, 0.004886613260692753, 0.07167032782349371, 0.08372397386653582, 0.0006515484347590337, 0.0013030968695180675, 0.11607265739917462, 0.06404008684092392, 0.32134400718392186, 0.49688245950681154, 0.13864799597281177, 0.26343119234834234, 0.025748913537807897, 0.5129975850994035, 0.0019806856567544536, 0.051497827075615794, 0.0687125137029965, 0.22656558572339386, 0.5756994391332139, 0.0687125137029965, 0.05571284894837554, 0.805700090898267, 0.03299202958419628, 0.03125560697450174, 0.1180767374592288, 0.008682113048472705, 0.9952545442910818, 0.8020952878533899, 0.18837732052667286, 0.0076714745915839625, 0.9909322763567135, 0.002868941159110346, 0.005164094086398623, 0.9553047947660559, 0.014258280518896356, 0.024951990908068624, 0.03297897262204143, 0.019026330358870053, 0.030442128574192085, 0.18518961549300186, 0.7306110857806101, 0.07136325437134404, 0.169816491053186, 0.08714382659105156, 0.017796978670003488, 0.27747506152985735, 0.07548373711760101, 0.011397079936455437, 0.19594210506136847, 0.09354372532459962, 0.04724753264279519, 0.15003163874291103, 0.06382561427184613, 0.014505821425419575, 0.020722602036313677, 0.27809731932732956, 0.04351746427625872, 0.33653505706973413, 0.04476082039843755, 0.0012433561221788206, 0.00955420162028604, 0.0875801815192887, 0.01273893549371472, 0.3407665244568688, 0.01751603630385774, 0.48726428263458804, 0.041401540354572844, 0.2722139722736964, 0.013433936294026576, 0.006009918868380311, 0.03888771032481377, 0.5454885184653423, 0.07353312497782968, 0.049493449504308444, 0.19001994792697688, 0.19148163983410746, 0.0014616919071305913, 0.5569046166167553, 0.0511592167495707, 0.0014616919071305913, 0.005846767628522365, 0.9379992366657222, 0.03955418467867503, 0.00941766301873215, 0.00941766301873215, 0.07598121620793626, 0.910223957429767, 0.007753185327340434, 0.054455265682910724, 0.007539959863787638, 0.7598603996061543, 0.034348706046143686, 0.12482822441159534, 0.017593239682171156, 0.019420400973249777, 0.03168591737740753, 0.03168591737740753, 0.0132876427711709, 0.019420400973249777, 0.02964166464338124, 0.7011786877710182, 0.10016838396728832, 0.052128444717670454, 0.9951082271081206, 0.10249645316272457, 0.27200219291926137, 0.031125615370498565, 0.06522501564900654, 0.2577280253608161, 0.18001311309817003, 0.02339377460967408, 0.06443200634020403, 0.003766794216811928, 0.00918446650094093, 0.010102913151035023, 0.04316699255442237, 0.03030873945310507, 0.014695146401505488, 0.8918116972413642, 0.9792951079882735, 0.00549394169979396, 0.01236136882453641, 0.5584349761404261, 0.057327613496437696, 0.0005820062283902305, 0.3567698180032113, 0.00029100311419511524, 0.00029100311419511524, 0.007566080969072996, 0.018624199308487376, 0.8114726108920706, 0.04022169075053633, 0.062343620663331316, 0.08346000830736289, 0.033452316288066344, 0.7623606817227752, 0.1514157474091424, 0.04929815031925567, 0.11754952584429738, 0.005155680958083219, 0.7145773807903341, 0.0329963581317326, 0.1278608877604638, 0.0592548406702583, 0.16805061370417518, 0.0009713908306599722, 0.7431139854548787, 0.0019427816613199443, 0.014570862459899582, 0.0009713908306599722, 0.009713908306599722, 0.010963245931298052, 0.15028782964154414, 0.1404665884947563, 0.007994033491571496, 0.021012888034987937, 0.27476635115315745, 0.09729880764027023, 0.21241288991889978, 0.04362458276829017, 0.0411121722423677, 0.00591847057741089, 0.17163564674491583, 0.025762754278141523, 0.0076591972178258584, 0.022977591653477576, 0.10026585448790215, 0.6137802134103176, 0.04108114871379324, 0.0107925051705728, 0.007341840480674665, 0.9902307348309953, 0.9606016746497094, 0.03538369060783377, 0.9669928527175649, 0.00946485663345088, 0.010253594686238453, 0.011042332739026026, 0.045636953321691806, 0.10151296668350678, 0.012871961193297688, 0.09332171865140824, 0.356611833968861, 0.04768476532971644, 0.14129902855369963, 0.15592625718244701, 0.04505186417654191, 0.12643714609206863, 0.12182850209822145, 0.13304954834411026, 0.040075165163888635, 0.26028819773945666, 0.19015665870265158, 0.020438334233583204, 0.014827811110638795, 0.09257363152858275, 0.0004007516516388863, 0.06902458043027764, 0.09118843653174293, 0.05256000161204627, 0.01836433791264267, 0.08295614712262725, 0.42237977199078147, 0.00823228940911568, 0.15957976393055012, 0.09435470168909511, 0.001266506062940874, 0.09352819868764245, 0.1778705921470343, 0.05594990457207182, 0.009662989915432447, 0.02493289990525162, 0.2858336276219277, 0.005010439215409417, 0.19898601455483114, 0.12681183061857643, 0.021354014751387755, 0.006266406066642263, 0.9625199718362516, 0.028825467906554412, 0.964925406571357, 0.028426607722233103, 0.0015792559845685058, 0.9916669146677333, 0.0015202457045954485, 0.07297179382058153, 0.9227891426894373, 0.001978182071881648, 0.6785164506554053, 0.0011869092431289888, 0.06528000837209438, 0.10721746829598533, 0.14519856407611298, 0.09166947863436031, 0.16840948170237505, 0.07180515549587542, 0.006652674258643525, 0.23231263444033118, 0.11749934535688705, 0.019458291376220262, 0.26807466273210034, 0.02411204003602254, 0.3021557567174653, 0.0040180286797535285, 0.009643268831408468, 0.0851822080107748, 0.5906502159237687, 0.0016072114719014113, 0.006428845887605645, 0.016879016222440552, 0.0075017849877513565, 0.06564061864282437, 0.19129551718765958, 0.028131693704067588, 0.6901642188731248, 0.17565425816888997, 0.15794122373169098, 0.11661081004489333, 0.004428258609299747, 0.10037386181079426, 0.019189120640298905, 0.4251128264927757, 0.05509191191104752, 0.016124462022745617, 0.9002824629366303, 0.022842987865556292, 0.0026874103371242694, 0.14575465027248852, 0.4423484153618547, 0.4067571635511308, 0.11624505052997176, 0.09760197638837252, 0.4507237336586641, 0.3322853802885042, 0.0013081867345744972, 0.9942219182766178, 0.0845231719525884, 0.19477078754292113, 0.15067174130678804, 0.016537142338549908, 0.0018374602598388785, 0.20395808884211553, 0.34544252884970916, 0.024297795232101856, 0.0860546914470274, 0.06479412061893827, 0.005062040673354553, 0.07998024263900194, 0.07188097756163465, 0.6550280631320792, 0.010124081346709106, 0.002024816269341821, 0.06984597416113086, 0.2436487470737123, 0.02436487470737123, 0.09908382380997634, 0.5522704933670812, 0.008121624902457077, 0.0183636527190056, 0.7850461537374893, 0.0045909131797514, 0.0275454790785084, 0.160681961291299, 0.14066041175659616, 0.0026792459382208793, 0.004018868907331319, 0.8493209624160187, 0.04275226098845586, 0.08967547426846838, 0.1626671393707101, 0.01147011880178084, 0.015641071093337507, 0.49738606076813274, 0.05630785593601503, 0.08550452197691172, 0.03336761833245335, 0.006256428437335003, 0.9699012099461769, 0.0028801817667295526, 0.00036002272084119407, 0.025921635900565974, 0.897177938805473, 0.06185877081849512, 0.02347924147855289, 0.016254859485152002, 0.9223254172413767, 0.044164802830043655, 0.0030812653137239757, 0.02670429938560779, 0.9947961753295732, 0.0037763412295591177, 0.9962187459145905, 0.0506201243804569, 0.013628495025507626, 0.04283241293730968, 0.33487159205533024, 0.023363134329441645, 0.5334582338555842, 0.535522105292483, 0.04634325911184949, 0.09440293522784156, 0.07151737517260724, 0.12701485830655046, 0.054353205131181505, 0.036044757086994055, 0.01659203104004488, 0.018880587045568314, 0.005947615425661893, 0.2712112634101823, 0.09278280064032553, 0.509115880436658, 0.07375043127820748, 0.013084753936456164, 0.033306646383706597, 0.9971596499451294, 0.0014084175846682619, 0.0047127269291174145, 0.6130170182413498, 0.0007250349121719099, 0.0021751047365157297, 0.37846822415373693, 0.45264669607501873, 0.0005238966389757161, 0.5453764011737204, 0.041437467449452384, 0.006138884066585538, 0.9484575882874656, 0.9938008088820711, 0.15661728406144684, 0.006884276222481179, 0.0034421381112405896, 0.08261131466977416, 0.746943970139208, 0.9958839992186552, 0.11061943516079756, 0.8873733924374361, 0.9982670542644684, 0.011613602208303903, 0.04129280785174721, 0.036131206870278806, 0.014194402699038104, 0.5780993099244609, 0.28259765373539497, 0.03484080662491171, 0.0205419882706739, 0.11155879783919825, 0.07426718836320563, 0.031287028289180244, 0.01200916237362474, 0.16686415087562798, 0.01611756002775952, 0.38302907360087335, 0.1415817037732601, 0.04266412948524579, 0.1123600400155091, 0.4104354913387039, 0.02703732718321915, 0.05496112411015041, 0.09241447078198678, 0.15047823899512955, 0.00642690564191275, 0.06958787488140011, 0.0720256666766084, 0.0046539661544885425, 0.027462048250024428, 0.21740788197936003, 0.01464642573334636, 0.006865512062506107, 0.17850331362515878, 0.11442520104176844, 0.015104126537513436, 0.3419025007128041, 0.07826683751256962, 0.005492409650004885, 0.11004200224083913, 0.01662265894876724, 0.7792702515182083, 0.010638501727211034, 0.005984157221556207, 0.07679668434330465, 0.2690081281453647, 0.09346608686495236, 0.15644681923273387, 0.4110497798684464, 0.028475331123731004, 0.04087047525994333, 0.8729134315468299, 0.12629284989534753, 0.000995640106540929, 0.995640106540929, 0.9976056329389325, 0.05842116244470261, 0.9376596572374768, 0.26427260990066187, 0.06338245522007745, 0.027931251452915484, 0.001074278902035211, 0.4426029076385069, 0.03867404047326759, 0.1364334205584718, 0.02578269364884506, 0.11911233005779043, 0.12094482744329489, 0.005497492156513404, 0.001832497385504468, 0.10811734574476362, 0.07696489019118766, 0.5378379826455614, 0.02473871470431032, 0.0045812434637611706, 0.12239970980731003, 0.352362800960438, 0.4413807717293907, 0.027818115865297734, 0.04265444432678986, 0.011127246346119094, 0.057890491594367606, 0.05596080854122202, 0.11867550776845359, 0.04534755174892129, 0.033769453430047766, 0.019296830531455866, 0.08394121281183302, 0.5383815718276187, 0.046312393275494086, 0.0009648415265727934, 0.17912856565198687, 0.07786609078341471, 0.07092028925813358, 0.016450582559876345, 0.3469245077627256, 0.12648670146038257, 0.04204037765301733, 0.11040168740183681, 0.021202973077173958, 0.00804250702927288, 0.9941840592534699, 0.007311895389324071, 0.9824528532200888, 0.007976613151989895, 0.14406488894159888, 0.058526361132524546, 0.7833528336199439, 0.010504731485324919, 0.1194664061123525, 0.06819327044181495, 0.06255322551805581, 0.0005127313567053755, 0.20252888589862333, 0.5317024169034744, 0.012305552560929012, 0.0025636567835268776, 0.0050016354799491776, 0.8825107935732549, 0.0050016354799491776, 0.10169992142563328, 0.0055573727554990866, 0.9839981724565602, 0.012583096834482867, 0.9447001296553977, 0.013671492469687376, 0.027342984939374752, 0.008202895481812425, 0.002734298493937475, 0.020771023950410646, 0.24311539396503368, 0.11235235682267576, 0.04673480388842395, 0.030212398473324575, 0.016994474141245074, 0.4144763415559215, 0.03776549809165572, 0.07647513363560283, 0.02551908133723357, 0.08496173187725668, 0.045842661084850723, 0.02551908133723357, 0.4740131156173565, 0.07732128836311489, 0.22233690626152602, 0.044467381252305205, 0.2540040297300598, 0.7420902045054689, 0.07024100397817268, 0.4104559348112267, 0.10225561123353029, 0.0009556599180703765, 0.06211789467457447, 0.1505164370960843, 0.12853625898046564, 0.07454147360948937, 0.9947448114429172, 0.9886428051423818, 0.005191361085603769, 0.00020765444342415077, 0.0035301255382105628, 0.002076544434241508, 0.9562532824269978, 0.04031485469648888, 0.0022606460577470396, 0.29917385966989013, 0.03345809722692582, 0.14585131703776402, 0.24460142924150624, 0.20464661410643947, 0.03898030744884562, 0.017541138351980526, 0.004547702535698655, 0.010719584548432545, 0.0025406397868238495, 0.03218143729976876, 0.019478238365649513, 0.27523597690591706, 0.5072810774358286, 0.003387519715765133, 0.03726271687341646, 0.014396958792001814, 0.10840063090448425, 0.2951706323445242, 0.012230827307093543, 0.05544641712549073, 0.6286645235846081, 0.0008153884871395695, 0.003261553948558278, 0.003261553948558278, 0.8886711802294716, 0.09700893975214504, 0.010393814973444111, 0.001880679463370367, 0.9976149698878265, 0.9991107297097046, 0.9962270495315809, 0.9958470685845269, 0.02837536441358788, 0.8282059488215961, 0.07271187130981893, 0.06739149048227121, 0.9963250464843705, 0.9948806651130256, 0.9852283774734, 0.009852283774734, 0.9949742422105484, 0.7261267523342094, 0.20723740279244646, 0.06589576402156132, 0.8249296420139594, 0.026660732076384627, 0.14650460539061844, 0.0015530523539641532, 0.9986886311571677, 0.06605254866927503, 0.47801186536975343, 0.0008691124824904608, 0.4536767158600205, 0.9947656799320018, 0.05621653823334455, 0.9149241597476825, 0.023892028749171432, 0.03094841236433232, 0.11291988295094225, 0.06548158291758344, 0.0156534440916121, 0.07097821214059227, 0.32430112415752094, 0.012307669781954552, 0.17947689332520134, 0.1703955059132737, 0.017326331246440875, 0.06874485938753332, 0.028221573853829465, 0.0007236300988161401, 0.09624280314254664, 0.5456170945073697, 0.03762876513843929, 0.008683561185793682, 0.0021708902964484205, 0.062232188498188054, 0.14906780035612488, 0.2640597891545012, 0.010078617906660349, 0.11691196771726005, 0.06147956923062813, 0.5452532287503249, 0.04902997792002874, 0.09525824281605585, 0.0713035964608418, 0.007564625164804435, 0.22161550019852994, 0.21503147459212607, 0.0026616273728015606, 0.2476714313217452, 0.08755353200005134, 0.002381456070401396, 0.006225702280642371, 0.5865995037760812, 0.12382230091499827, 0.031820256101061005, 0.12174706682145081, 0.04288817126664744, 0.0871598319289932, 0.08467151727039537, 0.05994443700558964, 0.11614234669832993, 0.03971318951620314, 0.008991665550838447, 0.017983331101676894, 0.04046249497877301, 0.6016922864436061, 0.023977774802235858, 0.0059944437005589645, 0.0005055583636120456, 0.9964555346793418, 0.0015166750908361367, 0.7069536709719455, 0.09265141723090475, 0.011678750071122448, 0.18686000113795917, 0.994912741791644, 0.9799920187806076, 0.0078024842259602515, 0.0078024842259602515, 0.023415429521316505, 0.23756904535169035, 0.13024832671232306, 0.021951965176234222, 0.043903930352468444, 0.0790270746344432, 0.4405027678697667, 0.0014634643450822816, 0.02146414372787346, 0.030848430922342445, 0.028920403989696045, 0.029884417456019247, 0.014460201994848022, 0.022172309725433634, 0.00674809426426241, 0.40584966932206784, 0.4598344234361671, 0.08090353177502313, 0.12662663259405177, 0.06233926527707164, 0.03609718485712788, 0.09327970944032411, 0.2427105953250694, 0.04068095436279492, 0.16810974662033842, 0.14060712958633623, 0.008594567823125687, 0.023324851429088418, 0.11850843734444923, 0.07419771680228127, 0.03131637434211871, 0.4089970466465504, 0.08192935279131057, 0.04145196437815713, 0.0065621448310248754, 0.17003102002764453, 0.043661003232165506, 0.13318121043041556, 0.05265303668179219, 0.27255689576457137, 0.529627604269792, 0.007743093629675323, 0.11448634314218269, 0.22415944663274207, 0.02062816993552841, 0.02750422658070455, 0.06601014379369091, 0.10142183551634802, 0.002062816993552841, 0.32936311330393697, 0.09110775054858382, 0.022690986929081253, 0.02771504869478448, 0.24679590980593796, 0.0013197642235611656, 0.0013197642235611656, 0.09766255254352625, 0.0013197642235611656, 0.052790568942446624, 0.5358242747658333, 0.019796463353417483, 0.01583717068273399, 0.07096218985229905, 0.07096218985229905, 0.006117430159680952, 0.05505687143712856, 0.5340516529401471, 0.009176145239521427, 0.19759299415769474, 0.022022748574851425, 0.03364586587824524, 0.926659991567209, 0.07006694291935234, 0.8938984326281899, 0.06777911192455506, 0.020628425368342845, 0.015716895518737405, 0.40651108135561725, 0.013799000009319119, 0.001491783784791256, 0.016409621632703816, 0.5381610003634456, 0.017901405417495072, 0.000745891892395628, 0.004475351354373768, 0.08482741763905888, 0.1594862489365271, 0.0979395421321626, 0.07733477507157102, 0.03906877910190093, 0.29355103201907756, 0.04549104415974766, 0.05592722487874859, 0.127910112402114, 0.018464012041309343, 0.8756618701918749, 0.08808433013764422, 0.002072572473826923, 0.031088587107403844, 0.9920398673658469, 0.0028589045169044583, 0.8201722182451686, 0.0012956907081282285, 0.011013371019089942, 0.16584841064041325, 0.9565811408053595, 0.0015354432436683137, 0.038386081091707845, 0.36284258364824745, 0.06372872573991882, 0.02466918415738793, 0.09045367524375574, 0.0010278826732244971, 0.45535202423845217, 0.6820836808201891, 0.054289471631750866, 0.2622065970299457, 0.9718530101098188, 0.010529285049943866, 0.014740999069921414, 0.09870570851294262, 0.057064237734044954, 0.012338213564117828, 0.8282025854914092, 0.11858475621228029, 0.0643745819438093, 0.06606864988969902, 0.42266995249948475, 0.2913796866930316, 0.026258053161290637, 0.009317373702393451, 0.051258617103727123, 0.40955635065877977, 0.5197623774317931, 0.017940515986304494, 0.00166266477514377, 0.6739334555249414, 0.2998338811175932, 0.02327730685201278, 0.004368687738964642, 0.9737804970152186, 0.012232325669100997, 0.009174244251825748, 0.1487203385199794, 0.07512676894308237, 0.5381529775310594, 0.21004831316739359, 0.02453118985896567, 0.14645785611874845, 0.10295552261813011, 0.059453189117511754, 0.037702022367202576, 0.09087154109018056, 0.02223452601142716, 0.530728468707544, 0.009667185222359634, 0.5707736442285775, 0.4255230035825954, 0.07732456970536385, 0.10736141043080702, 0.11690013687740046, 0.2137080627289977, 0.15546094591682075, 0.0712360209096659, 0.1516048650128787, 0.019280404519710144, 0.04505526108816476, 0.04201098669031579, 0.19080389924660612, 0.0539647391808583, 0.1387664721793499, 0.4625549072644997, 0.017345809022418737, 0.13298453583854367, 0.2732463967269741, 0.07858066311102523, 0.0910821322423247, 0.5393490968074913, 0.014287393292913678, 0.15181574721632024, 0.02168796388804575, 0.02788452499891596, 0.7559804555261661, 0.03408108610978618, 0.00464742083315266, 0.005698323879776481, 0.0889571672342884, 0.04305400264720008, 0.022318435195791218, 0.48863127269083323, 0.08025139464018544, 0.22809124196549746, 0.04273742909832361, 0.9913249856441209, 0.9304512015881825, 0.06304905472774132, 0.8484775026799575, 0.1255746703966337, 0.022626066738132198, 0.9944126784121141, 0.11688589759588586, 0.12095149403400363, 0.04878715725741323, 0.03557396883353048, 0.004065596438117769, 0.06911513944800207, 0.1204432944792389, 0.382674264737835, 0.08232832787188482, 0.019311583081059402, 0.3869118562422101, 0.08269871736474718, 0.029535256201695424, 0.4563197083161943, 0.04134935868237359, 0.782580504852407, 0.011300801514114181, 0.008475601135585636, 0.19606890626988105, 0.9856875295049681, 0.008646381837762878, 0.013432177302515292, 0.1268824132883752, 0.07115609822306819, 0.03609467131547699, 0.41322888019379095, 0.09381859223602988, 0.007714891578880578, 0.013087762499886694, 0.1827464942747337, 0.041880839999637424, 0.9953267807462784, 0.14713445032937428, 0.5591109112516223, 0.013732548697408265, 0.2766127666192236, 0.9389459684107787, 0.0034205681909317983, 0.029929971670653237, 0.0025654261431988486, 0.009406562525062445, 0.013682272763727193, 0.9954294428229096, 0.9969743312975964, 0.9960741032213088, 0.001634079587100312, 0.016340795871003122, 0.9020119320793722, 0.01797487545810343, 0.05882686513561124, 0.0009467778482144602, 0.021775890508932586, 0.011361334178573523, 0.9628730716341061, 0.9182245909269011, 0.025643221658538592, 0.03649227697561261, 0.01676672185365985, 0.7452842481100341, 0.13865753453209936, 0.11065937852081008, 0.003999736573041328, 0.0373507823872778, 0.02241046943236668, 0.16654054735033277, 0.01010668229302811, 0.010216537535343632, 0.2792520259660593, 0.18433709660544748, 0.24706443996761107, 0.041854847322214235, 0.0007689866962086605, 0.0265302070071472, 0.017166604534036425, 0.6289219661106071, 0.03277260865588772, 0.04369681154118362, 0.24657486512525045, 0.4570587924117357, 0.009177887397826018, 0.5304818915943438, 0.5815262628969449, 0.023805168656600085, 0.011902584328300042, 0.38088269850560136, 0.7840204852420966, 0.21170879571819223, 0.8182979123006302, 0.17548579937449413, 0.9584342518764569, 0.0378640692099341, 0.9929285888323749, 0.3510306715201183, 0.015174236521042576, 0.017197468057181586, 0.5917952243206605, 0.02225554689752911, 0.0017739798468282117, 0.956175137440406, 0.0035479596936564234, 0.03547959693656423, 0.008285369686013058, 0.7217477593149153, 0.013808949476688431, 0.026697302321597633, 0.06260057096098756, 0.16478679708848196, 0.011011738796792521, 0.9530159395042255, 0.005005335816723873, 0.005005335816723873, 0.02402561192027459, 0.9555527310400251, 0.002813759514252135, 0.002251007611401708, 0.03826712939382904, 0.09010203561434053, 0.1247566646967792, 0.08864289333718521, 0.05617697767047952, 0.1466437988541089, 0.2848975296145747, 0.03684334249817163, 0.05763611994763483, 0.09119639232220701, 0.023346276434484996, 0.07839543659337878, 0.144362328360978, 0.06979105940630062, 0.10707669388363932, 0.5191307569537156, 0.06309876603857316, 0.013384586735454914, 0.002868125729026053, 0.000956041909675351, 0.6599549989087392, 0.026344160652447112, 0.14725710313419155, 0.14725710313419155, 0.017562773768298075, 0.18301414909419936, 0.8042064051543183, 0.008798757167990353, 0.0037037842266818303, 0.26667246432109176, 0.027408003277445542, 0.688163109317484, 0.004444541072018197, 0.008148325298700026, 0.018833217021902857, 0.09015017853866734, 0.050129592367123776, 0.028526784606705796, 0.46182925564739724, 0.09610479862647486, 0.0005539181477030252, 0.21865918880576918, 0.0351738023791421, 0.9926006782217716, 0.9599858916519841, 0.03298324040033942, 0.4995861424496449, 0.3741853139612751, 0.10892726120705581, 0.010758248020449957, 0.0057153192608640395, 0.9921421439812779, 0.0021199618461138414, 0.8437977172037268, 0.15308641089657246, 0.17523056147987798, 0.010483879746659366, 0.5781110831729308, 0.12356001129991395, 0.04867515596663277, 0.005241939873329683, 0.054665944393295265, 0.0037442427666640596, 0.8505782537023377, 0.0014247541938062608, 0.14390017357443236, 0.9803671409445056, 0.017636877845775847, 0.02023982926988821, 0.14842541464584685, 0.13643144174517238, 0.007496233062921559, 0.4625175799822602, 0.006746609756629403, 0.05472250135932738, 0.1206893523130371, 0.04272852845865289, 0.09597545525039083, 0.7846641949525197, 0.11672690503425913, 0.24766587116645578, 0.6202509317370449, 0.12926420468775543, 0.043536062248750056, 0.08675434302123186, 0.05116281767918802, 0.0003177814762682486, 0.42900499296213557, 0.016524636765948925, 0.16715305651709875, 0.19511782642870462, 0.010804570193120451, 0.03194675367369373, 0.9335551351312722, 0.030171934025155184, 0.06763579021628363, 0.004931776369937349, 0.2800544438642994, 0.4195532611853844, 0.18564615335407017, 0.01197717118413356, 0.003170427666388295, 0.02430661210897693, 0.0024658881849686743, 0.03537265406013148, 0.14606259193537285, 0.1937073912816724, 0.013234666485083207, 0.008903321089965067, 0.33255107422518165, 0.025988072370708843, 0.17156940370662413, 0.06785774452351753, 0.004571975694846926, 0.5708560528484671, 0.00547321239547907, 0.18882582764402794, 0.18171065152990515, 0.027366061977395353, 0.025176777019203726, 0.9690744919616717, 0.024968102852474635, 0.020382646698878994, 0.2334739530962503, 0.02594155034402781, 0.715245602342481, 0.002782938200425746, 0.059833171309153534, 0.854362027530704, 0.00974028370149011, 0.03339525840510895, 0.03756966570574757, 0.9959864007764702, 0.008125274656560575, 0.08612791135954209, 0.9019054868782238, 0.03298106794315428, 0.026698959763505847, 0.06910318997613278, 0.072244244065957, 0.072244244065957, 0.7004550620308004, 0.023557905673681632, 0.04579528233153896, 0.14785334009896864, 0.10467493104351762, 0.0013084366380439704, 0.09159056466307793, 0.19626549570659554, 0.08243150819677013, 0.3297260327870805, 0.17534166328809905, 0.7821081750788749, 0.021089203488259337, 0.0030127433554656196, 0.010243327408583107, 0.007833132724210611, 0.20885264194501243, 0.6887308221365873, 0.09356115462854604, 0.0072434442293067905, 0.005059412137397352, 0.05582218058261745, 0.11839024401509805, 0.02209276633330177, 0.002023764854958941, 0.14975859926696164, 0.08550406512201525, 0.5398392750602975, 0.019394413193356518, 0.002023764854958941, 0.0007699757502340686, 0.9786391785475012, 0.019249393755851715, 0.9905559008369602, 0.004816317183972254, 0.01059853908518455, 0.014131385446912732, 0.0028262770893825464, 0.0028262770893825464, 0.03250218652789928, 0.0289693401661711, 0.0501664183365402, 0.7913575850271131, 0.03815474070666438, 0.029675909438516737, 0.019404526755472794, 0.18741334068893345, 0.0923557222792123, 0.0012281346047767591, 0.011053211442990832, 0.332333224052591, 0.006140673023883795, 0.2861553629129849, 0.060424222555016546, 0.0034387768933749254, 0.11502911747448409, 0.10358072189645487, 0.010358072189645486, 0.07523231379847774, 0.103035560202263, 0.04088712706439008, 0.4873745546075297, 0.06378391822044852, 0.0010903233883837354, 0.03196596949824674, 0.009401755734778453, 0.002350438933694613, 0.400984882088301, 0.42260892027829144, 0.06111141227605994, 0.014102633602167678, 0.007051316801083839, 0.04606860310041442, 0.004700877867389226, 0.02842295569396655, 0.19354679353510557, 0.009474318564655517, 0.6063563881379531, 0.001353474080665074, 0.010827792645320591, 0.023009059371306255, 0.1245196154211868, 0.8386684313483852, 0.157175342641829, 0.9344843211930262, 0.06277047001391188, 0.0826624640311767, 0.1410124386414191, 0.038899983073494925, 0.5429789304008666, 0.0713166356347407, 0.07455830089086526, 0.04862497884186865, 0.0016208326280622884, 0.9966508842789907, 0.9943465535179662, 0.99779099559349, 0.02758403618364546, 0.0358592470387391, 0.06482248503156683, 0.8675179379756497, 0.0013792018091822729, 0.9217465103064378, 0.07681220919220315, 0.23156398890345392, 0.000949032741407598, 0.049349702553195096, 0.7174687525041441, 0.7084609910507168, 0.00032513124876122846, 0.013980643696732825, 0.07965715594650098, 0.052996393548080244, 0.01268011870168791, 0.054947181040647615, 0.07673097470764992, 0.7626965084384322, 0.027864694984702638, 0.20779101117163964, 0.03458240140434426, 0.9123166846669867, 0.04775664955838017, 0.023248697838139026, 0.14569183978567124, 0.7207096329823098, 0.10901056097438522, 0.9918733500348141, 0.0036826980818124287, 0.025585971007291604, 0.9040762334657925, 0.0026627933627498047, 0.06726447581554942, 0.8858460814226979, 0.03924634537948662, 0.06327472010162127, 0.010412295712925021, 0.016029245001306758, 0.013114836819250983, 0.9573830878053217, 0.010200428637195209, 0.01659569984626724, 0.08534931349508866, 0.05571413519818288, 0.0011854071318762314, 0.0005927035659381157, 0.12150423101731372, 0.030227881862843902, 0.6822018043947712, 0.0023708142637524627, 0.0035562213956286943, 0.013143716046411673, 0.04145325830022143, 0.4323945560909276, 0.03403885437660459, 0.18704518989124302, 0.07818825955814124, 0.13784050930724037, 0.01449178948706928, 0.051563809105153485, 0.00909949572443885, 0.000748191252479571, 0.7205081761378269, 0.09352390655994638, 0.029179458846703272, 0.14963825049591423, 0.005237338767356998, 0.010543401587099958, 0.9790301473735675, 0.0015062002267285655, 0.004518600680185696, 0.056427809919439145, 0.2420935070737228, 0.004550629832212835, 0.6370881765097968, 0.007281007731540535, 0.021843023194621603, 0.030034156892604708, 0.09865623179885279, 0.013377116176115632, 0.08862339466676607, 0.21403385881785011, 0.02006567426417345, 0.563511018918871, 0.023339335974225005, 0.11720131416245963, 0.08982490385755786, 0.03273814965033183, 0.39380398510023434, 0.08477856094421192, 0.039172236864847915, 0.007569514370018921, 0.16930480474275653, 0.04232620118568913, 0.993979059293879, 0.09125718508796404, 0.11008803280452804, 0.014485267474280005, 0.5562342710123522, 0.0014485267474280007, 0.07097781062397203, 0.15499236197479607, 0.0014485267474280007, 0.010607613630477727, 0.1002901652336076, 0.05207373964052703, 0.0038573140474464462, 0.019286570237232233, 0.45998470015798876, 0.18418674576556782, 0.16972181808764364, 0.9920367528499968, 0.8684991291699459, 0.0918352553502964, 0.002998702215519882, 0.004872891100219809, 0.031111535486018776, 0.8443645320968284, 0.0478524689122517, 0.0015436280294274744, 0.10342307797164077, 0.06682086623385326, 0.02250090393588936, 0.5413853856089743, 0.2986483613308952, 0.06886640295529775, 0.005382279803339659, 0.8916643540866034, 0.09688103646011385, 0.848267481586634, 0.022273982011027586, 0.12436306622823737, 0.036425472238861584, 0.019197208342102725, 0.0039378888906877385, 0.010336958338055313, 0.8397548059391602, 0.010829194449391281, 0.013290375006071118, 0.015751555562750954, 0.020673916676110626, 0.02904193056882207, 0.07504326807057102, 0.0763445964186156, 0.0381722982093078, 0.04077495490539697, 0.0247252386128471, 0.30581216179047727, 0.004337761160148614, 0.2450835055483967, 0.18912638658247957, 0.006019120305943893, 0.22394214266473303, 0.09692327056750678, 0.012655586284292288, 0.05262871857248378, 0.3596038541756223, 0.003086728362022509, 0.11359160372242834, 0.12208010671799023, 0.009260185086067527, 0.9944899179763959, 0.995841431405827, 0.004448678551026894, 0.14124554399510392, 0.7496023358480317, 0.07673970500521393, 0.025579901668404643, 0.08597430777195773, 0.16487380667538226, 0.07382409254121594, 0.09873972377387633, 0.03798864762016737, 0.10412273052167333, 0.05152306458605696, 0.2337762930471838, 0.055983270177088755, 0.09335671702607932, 0.010964204660707001, 0.09469085843337866, 0.10116970664197825, 0.0832282808335486, 0.06827709265985724, 0.11362903012005439, 0.49488432854918424, 0.01445281523456832, 0.012459323478076139, 0.005980475269476547, 0.010694317437058624, 0.09247439195574222, 0.025163099851902643, 0.022017712370414815, 0.04026095976304423, 0.7970411878090162, 0.006919852459273228, 0.005661697466678095, 0.04086696273487211, 0.077647229196257, 0.020433481367436054, 0.003405580227906009, 0.057894863874402146, 0.12532535238694112, 0.6375246186640048, 0.029969106005572878, 0.006811160455812018, 0.020225662876218523, 0.22357557071279396, 0.004373116297560762, 0.015852546578657763, 0.014212627967072476, 0.7188309914115503, 0.002186558148780381, 0.025039102059293897, 0.07953597124716885, 0.08616396885109959, 0.037558653088940845, 0.09352841063324485, 0.45880472302764996, 0.029457767128581055, 0.11193951508860801, 0.051551092475016845, 0.026511990415722952, 0.04525656565079032, 0.942684633449441, 0.010591962173589224, 0.9788534167270241, 0.02038784060027224, 0.001415925358626275, 0.9972834275924396, 0.012081009956851718, 0.7621103781113959, 0.22249193337201914, 0.054741930845604816, 0.1678752545931881, 0.019463797633992825, 0.045010032028608406, 0.007298924112747309, 0.6909648160067453, 0.013989604549432343, 0.18594162812238954, 0.7961056374425272, 0.01583947202524059, 0.02142924485541797, 0.49287263167461326, 0.481443701085057, 0.023030414541154735, 0.10503264813466022, 0.07572121144591784, 0.045362937732577505, 0.42757476693578184, 0.09979846301167052, 0.10293897408546433, 0.10607948515925816, 0.01442308789446054, 0.06228945879580648, 0.07321743402314096, 0.06993904145494062, 0.03496952072747031, 0.44640778803661313, 0.08687740305730904, 0.0027319938068336175, 0.20326033922842116, 0.021309551693302217, 0.06707464057499511, 0.030488472988634142, 0.06300951084317723, 0.8353841598885755, 0.46429172880231234, 0.04025650827765714, 0.06736255718461294, 0.15243797801139503, 0.03784111778099771, 0.07165658473422971, 0.03274196006582781, 0.015834226589211808, 0.1172806274489078, 0.0002683767218510476, 0.05292863986766655, 0.1357734674866229, 0.011045977015860844, 0.19514559394687492, 0.0032217432962927464, 0.5067341956026162, 0.0810038314496462, 0.01334722222749852, 0.03201733255014704, 0.022011916128226092, 0.9405091436605694, 0.10339858582810059, 0.09638851221263614, 0.043812960096652795, 0.043812960096652795, 0.1331913986938245, 0.5748260364680846, 0.013576940199159067, 0.8892895830449189, 0.0016971175248948834, 0.059399113371320915, 0.033942350497897664, 0.7732402088684648, 0.02633325788716134, 0.1795449401397364, 0.017954494013973643, 0.7806553116919425, 0.027524624971509218, 0.007592999992140474, 0.0626422499351589, 0.06786243742975549, 0.016609687482807285, 0.018507937480842406, 0.018033374981333627, 0.9412478400602128, 0.0012051828938030894, 0.009641463150424716, 0.04579694996451739, 0.986619469313654, 0.001784122005992141, 0.007136488023968564, 0.22273743304431293, 0.09210946479276098, 0.16747175416865634, 0.07703700691758192, 0.06028983150071628, 0.003349435083373127, 0.01004830525011938, 0.3667631416293574, 0.06455299066237803, 0.3598485862455967, 0.006867339432167875, 0.5191708610718914, 0.009614275205035026, 0.03708363293370653, 0.15229614408214318, 0.04119951658938575, 0.055122111850626446, 0.012217787678231635, 0.07018124550053986, 0.3787514180251807, 0.013354326066904346, 0.1571264322340022, 0.10370912796638482, 0.015627402844249766, 0.01000913671506444, 0.1584779979885203, 0.0016681894525107399, 0.01501370507259666, 0.705644138412043, 0.06172300974289738, 0.04670930467030072, 0.30926884121207393, 0.3076061055066327, 0.322570726855604, 0.059442801469524964, 0.0040261331633645115, 0.01368885275543934, 0.039456105000972214, 0.16346100643259917, 0.5757370423611252, 0.08293834316530894, 0.09823764918609408, 0.022546345714841265, 0.042303571432895336, 0.12216004584900257, 0.1178618220135747, 0.04343468296853425, 0.03099245607650621, 0.27825343776717254, 0.03099245607650621, 0.19138407183010403, 0.11627826586368023, 0.026241787626822773, 0.0674922137164955, 0.005419082853149274, 0.0004926438957408431, 0.046801170095380096, 0.026602770370005527, 0.8473475006742501, 0.004926438957408431, 0.011389501782052964, 0.09599722930587498, 0.0976243009890254, 0.0276602186135572, 0.18223202851284742, 0.5808645908847011, 0.003254143366300847, 0.009627920085589483, 0.947547801756765, 0.008023266737991237, 0.023267473540174586, 0.009627920085589483, 0.9001206564377374, 0.004138485776725229, 0.09311592997631767, 0.019772570236463, 0.6536579101701298, 0.02268030115358991, 0.0098862851182315, 0.025006485887291444, 0.06687781109391898, 0.004070823283977677, 0.11456459813480033, 0.011049377485082265, 0.07211172674474742, 0.028191824256561616, 0.002013701732611544, 0.614179028446521, 0.20741127845898902, 0.1429728230154196, 0.08111443676237651, 0.031112386703377293, 0.11667145013766485, 0.11444913680170932, 0.031112386703377293, 0.47890852389841476, 0.0477797367230437, 0.08555906343428756, 0.008889253343822083, 0.004444626671911042, 0.04500117034606762, 0.05884768429870381, 0.061155436624143175, 0.05192442732238571, 0.02307752325439365, 0.5630915674072051, 0.05538605581054476, 0.10269497848205174, 0.03461628488159048, 0.0034616284881590475, 0.030182242310841614, 0.05552042104093087, 0.08942886610619738, 0.11122715221958299, 0.1878006188230145, 0.2401537675226842, 0.21537451920575867, 0.01937625432300943, 0.030182242310841614, 0.020680425287058143, 0.0039916332975407, 0.18196641358571408, 0.13840554586037862, 0.0013883941904489392, 0.14196330597340404, 0.18101189257978045, 0.036358572862381595, 0.28436048513132334, 0.03054467218987666, 0.9941046606959716, 0.6082180105582167, 0.02978540698130346, 0.169379681033679, 0.0013899856591274948, 0.029388268221552747, 0.06493218721924154, 0.03891959845556985, 0.03633819651719022, 0.02204120116616456, 0.007174643198598542, 0.24195865683549564, 0.1994056006231181, 0.18208749635063884, 0.0497276994109761, 0.12023712394892729, 0.1556155369627063, 0.03834723088906117, 0.005442832771350618, 0.993249088033724, 0.9495501768709317, 0.01857815563443127, 0.01857815563443127, 0.008256958059747231, 0.0257591219258995, 0.006778716296289342, 0.9639334573323445, 0.996497064721175], \"Term\": [\"00\", \"00\", \"00\", \"00\", \"00\", \"00\", \"00\", \"000\", \"000\", \"000\", \"000\", \"000\", \"000\", \"000\", \"000\", \"000\", \"01\", \"01\", \"01\", \"01\", \"02\", \"02\", \"02\", \"02\", \"02\", \"02\", \"02\", \"03\", \"03\", \"05\", \"05\", \"05\", \"05\", \"10\", \"10\", \"10\", \"10\", \"10\", \"10\", \"10\", \"10\", \"10\", \"10\", \"11\", \"11\", \"11\", \"11\", \"11\", \"11\", \"11\", \"11\", \"11\", \"11\", \"12\", \"12\", \"12\", \"12\", \"12\", \"12\", \"12\", \"12\", \"12\", \"12\", \"128\", \"128\", \"128\", \"128\", \"128\", \"13\", \"13\", \"13\", \"13\", \"13\", \"13\", \"13\", \"13\", \"13\", \"13\", \"14\", \"14\", \"14\", \"14\", \"14\", \"14\", \"14\", \"14\", \"14\", \"14\", \"15\", \"15\", \"15\", \"15\", \"15\", \"15\", \"15\", \"15\", \"15\", \"15\", \"16\", \"16\", \"16\", \"16\", \"16\", \"16\", \"16\", \"16\", \"16\", \"1919\", \"1920\", \"1993\", \"1993\", \"1993\", \"1993\", \"1993\", \"1993\", \"1993\", \"1993\", \"1993\", \"1993\", \"200\", \"200\", \"200\", \"200\", \"200\", \"200\", \"200\", \"200\", \"200\", \"23\", \"23\", \"23\", \"23\", \"23\", \"23\", \"23\", \"23\", \"23\", \"24\", \"24\", \"24\", \"24\", \"24\", \"24\", \"24\", \"24\", \"24\", \"24\", \"256\", \"256\", \"256\", \"28\", \"28\", \"28\", \"28\", \"28\", \"28\", \"28\", \"28\", \"28\", \"28\", \"29\", \"29\", \"29\", \"29\", \"29\", \"29\", \"29\", \"29\", \"29\", \"34\", \"34\", \"34\", \"34\", \"34\", \"34\", \"34\", \"34\", \"34\", \"34\", \"35\", \"35\", \"35\", \"35\", \"35\", \"35\", \"35\", \"35\", \"35\", \"3d\", \"3d\", \"41\", \"41\", \"41\", \"41\", \"41\", \"41\", \"41\", \"41\", \"41\", \"41\", \"__\", \"__\", \"___\", \"___\", \"ab\", \"ab\", \"ab\", \"ac\", \"ac\", \"ac\", \"ac\", \"ac\", \"access\", \"access\", \"access\", \"access\", \"access\", \"action\", \"action\", \"action\", \"action\", \"action\", \"action\", \"action\", \"adam\", \"adam\", \"adam\", \"adl\", \"adobe\", \"adobe\", \"advance\", \"advance\", \"advance\", \"advance\", \"advance\", \"advance\", \"alaska\", \"alaska\", \"alaska\", \"algorithm\", \"algorithm\", \"amiga\", \"animation\", \"animation\", \"anti\", \"anti\", \"anti\", \"anti\", \"anti\", \"anti\", \"anti\", \"anti\", \"anti\", \"anybody\", \"anybody\", \"anybody\", \"anybody\", \"anybody\", \"anybody\", \"anybody\", \"anybody\", \"anybody\", \"apartment\", \"apc\", \"appreciated\", \"appreciated\", \"appreciated\", \"appreciated\", \"appressian\", \"april\", \"april\", \"april\", \"april\", \"april\", \"april\", \"april\", \"april\", \"arab\", \"arabs\", \"arabs\", \"argic\", \"armenia\", \"armenia\", \"armenian\", \"armenian\", \"armenians\", \"armenians\", \"article\", \"article\", \"article\", \"article\", \"article\", \"article\", \"article\", \"article\", \"article\", \"astronomy\", \"astronomy\", \"astronomy\", \"astronomy\", \"astronomy\", \"astronomy\", \"attacks\", \"attacks\", \"attacks\", \"attacks\", \"au\", \"au\", \"au\", \"au\", \"au\", \"au\", \"au\", \"au\", \"aurora\", \"available\", \"available\", \"available\", \"available\", \"available\", \"available\", \"available\", \"available\", \"available\", \"available\", \"average\", \"average\", \"average\", \"average\", \"average\", \"average\", \"average\", \"azerbaijan\", \"azerbaijan\", \"azerbaijani\", \"azerbaijani\", \"azeri\", \"baalke\", \"baalke\", \"baku\", \"baku\", \"ball\", \"ball\", \"ball\", \"ball\", \"ball\", \"baseball\", \"baseball\", \"baseball\", \"baseball\", \"batting\", \"believe\", \"believe\", \"believe\", \"believe\", \"believe\", \"believe\", \"believe\", \"believe\", \"believe\", \"believe\", \"best\", \"best\", \"best\", \"best\", \"best\", \"best\", \"best\", \"best\", \"best\", \"better\", \"better\", \"better\", \"better\", \"better\", \"better\", \"better\", \"better\", \"better\", \"better\", \"billion\", \"billion\", \"billion\", \"billion\", \"bit\", \"bit\", \"bit\", \"bit\", \"bit\", \"bit\", \"bit\", \"bit\", \"bitnet\", \"bitnet\", \"bitnet\", \"bitnet\", \"bitnet\", \"bitnet\", \"bitnet\", \"bits\", \"bits\", \"bits\", \"bonds\", \"bonds\", \"bonds\", \"bony\", \"bony1\", \"bosnia\", \"bosnia\", \"bosnia\", \"bosnian\", \"bosnian\", \"braves\", \"braves\", \"building\", \"building\", \"building\", \"building\", \"building\", \"building\", \"building\", \"building\", \"business\", \"business\", \"business\", \"business\", \"business\", \"business\", \"business\", \"business\", \"ca\", \"ca\", \"ca\", \"ca\", \"ca\", \"ca\", \"ca\", \"ca\", \"caltech\", \"caltech\", \"caltech\", \"caltech\", \"came\", \"came\", \"came\", \"came\", \"came\", \"came\", \"came\", \"came\", \"came\", \"canada\", \"canada\", \"canada\", \"canada\", \"canada\", \"canada\", \"canada\", \"care\", \"care\", \"care\", \"care\", \"care\", \"care\", \"care\", \"care\", \"care\", \"care\", \"career\", \"career\", \"career\", \"cc\", \"cc\", \"cc\", \"cc\", \"cc\", \"cc\", \"cc\", \"center\", \"center\", \"center\", \"center\", \"center\", \"center\", \"center\", \"center\", \"center\", \"center\", \"children\", \"children\", \"children\", \"children\", \"chris\", \"chris\", \"chris\", \"chris\", \"chris\", \"chris\", \"cis\", \"cis\", \"cis\", \"cis\", \"cis\", \"citizens\", \"citizens\", \"citizens\", \"citizens\", \"citizens\", \"clutch\", \"code\", \"code\", \"code\", \"color\", \"color\", \"color\", \"colors\", \"colors\", \"colors\", \"columbia\", \"columbia\", \"columbia\", \"columbia\", \"columbia\", \"com\", \"com\", \"com\", \"com\", \"com\", \"com\", \"com\", \"com\", \"com\", \"come\", \"come\", \"come\", \"come\", \"come\", \"come\", \"come\", \"come\", \"come\", \"come\", \"communications\", \"communications\", \"communications\", \"communications\", \"communications\", \"communications\", \"communications\", \"computer\", \"computer\", \"computer\", \"computer\", \"computer\", \"computer\", \"computer\", \"computing\", \"computing\", \"computing\", \"computing\", \"computing\", \"computing\", \"computing\", \"conversion\", \"conversion\", \"conversion\", \"conversion\", \"cornell\", \"cornell\", \"cornell\", \"cost\", \"cost\", \"cost\", \"cost\", \"cost\", \"cost\", \"couldn\", \"couldn\", \"couldn\", \"couldn\", \"couldn\", \"couldn\", \"couldn\", \"couldn\", \"couldn\", \"cpr\", \"cs\", \"cs\", \"cs\", \"cs\", \"cs\", \"cs\", \"cs\", \"cs\", \"cs\", \"cso\", \"cso\", \"cso\", \"cso\", \"cso\", \"cso\", \"cubs\", \"cubs\", \"cubs\", \"data\", \"data\", \"data\", \"data\", \"data\", \"data\", \"data\", \"data\", \"dc\", \"dc\", \"dc\", \"dc\", \"degrees\", \"degrees\", \"degrees\", \"degrees\", \"design\", \"design\", \"design\", \"design\", \"design\", \"development\", \"development\", \"development\", \"development\", \"development\", \"development\", \"development\", \"development\", \"did\", \"did\", \"did\", \"did\", \"did\", \"did\", \"did\", \"did\", \"did\", \"did\", \"didn\", \"didn\", \"didn\", \"didn\", \"didn\", \"didn\", \"didn\", \"didn\", \"didn\", \"digex\", \"digex\", \"directory\", \"directory\", \"display\", \"display\", \"display\", \"display\", \"distribution\", \"distribution\", \"distribution\", \"distribution\", \"distribution\", \"distribution\", \"distribution\", \"distribution\", \"distribution\", \"does\", \"does\", \"does\", \"does\", \"does\", \"does\", \"does\", \"does\", \"does\", \"does\", \"doing\", \"doing\", \"doing\", \"doing\", \"doing\", \"doing\", \"doing\", \"doing\", \"doing\", \"doing\", \"don\", \"don\", \"don\", \"don\", \"don\", \"don\", \"don\", \"don\", \"don\", \"don\", \"door\", \"door\", \"door\", \"dos\", \"dos\", \"dos\", \"dseg\", \"duke\", \"duke\", \"duke\", \"earth\", \"earth\", \"earth\", \"earth\", \"earth\", \"earth\", \"edu\", \"edu\", \"edu\", \"edu\", \"edu\", \"edu\", \"edu\", \"edu\", \"edu\", \"email\", \"email\", \"email\", \"email\", \"email\", \"email\", \"email\", \"eng\", \"eng\", \"eng\", \"eng\", \"eng\", \"eng\", \"eric\", \"eric\", \"eric\", \"eric\", \"eric\", \"eric\", \"eric\", \"escape\", \"escape\", \"escape\", \"escape\", \"escape\", \"ethnic\", \"ethnic\", \"ethnic\", \"europe\", \"europe\", \"europe\", \"europe\", \"extermination\", \"extermination\", \"extra\", \"extra\", \"extra\", \"extra\", \"extra\", \"extra\", \"extra\", \"face\", \"face\", \"face\", \"face\", \"face\", \"face\", \"face\", \"face\", \"face\", \"family\", \"family\", \"family\", \"family\", \"family\", \"family\", \"fans\", \"fans\", \"fans\", \"fans\", \"fans\", \"father\", \"father\", \"father\", \"father\", \"feel\", \"feel\", \"feel\", \"feel\", \"feel\", \"feel\", \"feel\", \"feel\", \"feel\", \"feel\", \"file\", \"file\", \"file\", \"file\", \"files\", \"files\", \"files\", \"files\", \"flight\", \"flight\", \"flight\", \"flight\", \"format\", \"format\", \"formats\", \"fred\", \"fred\", \"fred\", \"fred\", \"fred\", \"fred\", \"free\", \"free\", \"free\", \"free\", \"free\", \"free\", \"free\", \"free\", \"free\", \"freedom\", \"freedom\", \"freedom\", \"freedom\", \"freedom\", \"freedom\", \"freedom\", \"ftp\", \"ftp\", \"game\", \"game\", \"game\", \"game\", \"game\", \"games\", \"games\", \"games\", \"gamma\", \"gamma\", \"gamma\", \"gant\", \"gary\", \"gary\", \"gary\", \"gary\", \"gary\", \"gaza\", \"genocide\", \"genocide\", \"gif\", \"god\", \"god\", \"god\", \"god\", \"god\", \"god\", \"god\", \"going\", \"going\", \"going\", \"going\", \"going\", \"going\", \"going\", \"going\", \"going\", \"going\", \"good\", \"good\", \"good\", \"good\", \"good\", \"good\", \"good\", \"good\", \"good\", \"good\", \"got\", \"got\", \"got\", \"got\", \"got\", \"got\", \"got\", \"got\", \"got\", \"got\", \"gov\", \"gov\", \"gov\", \"gov\", \"gov\", \"gov\", \"government\", \"government\", \"government\", \"government\", \"government\", \"government\", \"graphics\", \"graphics\", \"greece\", \"greece\", \"greek\", \"greeks\", \"greeks\", \"guess\", \"guess\", \"guess\", \"guess\", \"guess\", \"guess\", \"guess\", \"guess\", \"happened\", \"happened\", \"happened\", \"happened\", \"happened\", \"happened\", \"happened\", \"happened\", \"happened\", \"hate\", \"hate\", \"hate\", \"hate\", \"hate\", \"hate\", \"head\", \"head\", \"head\", \"head\", \"head\", \"head\", \"head\", \"head\", \"head\", \"head\", \"help\", \"help\", \"help\", \"help\", \"help\", \"help\", \"help\", \"help\", \"help\", \"help\", \"henrik\", \"henry\", \"henry\", \"henry\", \"hi\", \"hi\", \"hi\", \"hi\", \"history\", \"history\", \"history\", \"history\", \"history\", \"history\", \"history\", \"history\", \"hit\", \"hit\", \"hit\", \"hit\", \"hit\", \"hitter\", \"hitter\", \"hitting\", \"hitting\", \"hitting\", \"hitting\", \"hitting\", \"home\", \"home\", \"home\", \"home\", \"home\", \"home\", \"home\", \"home\", \"home\", \"host\", \"host\", \"host\", \"host\", \"host\", \"host\", \"host\", \"host\", \"hst\", \"hst\", \"human\", \"human\", \"human\", \"human\", \"human\", \"human\", \"human\", \"human\", \"igc\", \"image\", \"image\", \"image\", \"image\", \"image\", \"images\", \"images\", \"images\", \"information\", \"information\", \"information\", \"information\", \"information\", \"information\", \"information\", \"information\", \"information\", \"institute\", \"institute\", \"institute\", \"institute\", \"institute\", \"institute\", \"institute\", \"institute\", \"institute\", \"internet\", \"internet\", \"internet\", \"internet\", \"internet\", \"internet\", \"internet\", \"iran\", \"iran\", \"iran\", \"israel\", \"israel\", \"israeli\", \"israelis\", \"istanbul\", \"jack\", \"jack\", \"jack\", \"jack\", \"jake\", \"jays\", \"jerusalem\", \"jerusalem\", \"jew\", \"jewish\", \"jewish\", \"jewish\", \"jews\", \"jews\", \"jews\", \"jews\", \"jpeg\", \"jpl\", \"jpl\", \"jpl\", \"jpl\", \"jsc\", \"jupiter\", \"jupiter\", \"jupiter\", \"just\", \"just\", \"just\", \"just\", \"just\", \"just\", \"just\", \"just\", \"just\", \"just\", \"keywords\", \"keywords\", \"keywords\", \"keywords\", \"keywords\", \"keywords\", \"keywords\", \"keywords\", \"keywords\", \"keywords\", \"kill\", \"kill\", \"kill\", \"kill\", \"kill\", \"know\", \"know\", \"know\", \"know\", \"know\", \"know\", \"know\", \"know\", \"know\", \"know\", \"land\", \"land\", \"land\", \"land\", \"land\", \"land\", \"land\", \"later\", \"later\", \"later\", \"later\", \"later\", \"later\", \"later\", \"later\", \"later\", \"later\", \"launch\", \"launch\", \"launch\", \"league\", \"league\", \"league\", \"league\", \"lebanese\", \"lebanon\", \"lebanon\", \"lebanon\", \"left\", \"left\", \"left\", \"left\", \"left\", \"left\", \"left\", \"left\", \"left\", \"light\", \"light\", \"light\", \"light\", \"light\", \"light\", \"light\", \"light\", \"like\", \"like\", \"like\", \"like\", \"like\", \"like\", \"like\", \"like\", \"like\", \"like\", \"lines\", \"lines\", \"lines\", \"lines\", \"lines\", \"lines\", \"lines\", \"lines\", \"lines\", \"lines\", \"lived\", \"lived\", \"lived\", \"lived\", \"lived\", \"ll\", \"ll\", \"ll\", \"ll\", \"ll\", \"ll\", \"ll\", \"ll\", \"ll\", \"ll\", \"looked\", \"looked\", \"looked\", \"looked\", \"looked\", \"looked\", \"looked\", \"looked\", \"looked\", \"looked\", \"looking\", \"looking\", \"looking\", \"looking\", \"looking\", \"looking\", \"looking\", \"looking\", \"looking\", \"lunar\", \"lunar\", \"mac\", \"mac\", \"mac\", \"mac\", \"mail\", \"mail\", \"mail\", \"mail\", \"mail\", \"mail\", \"mail\", \"mail\", \"make\", \"make\", \"make\", \"make\", \"make\", \"make\", \"make\", \"make\", \"make\", \"make\", \"mars\", \"mars\", \"mars\", \"mars\", \"mcgill\", \"mcgill\", \"mission\", \"mission\", \"mission\", \"mission\", \"missions\", \"missions\", \"missions\", \"mit\", \"mit\", \"mit\", \"mit\", \"mit\", \"mit\", \"moon\", \"moon\", \"moon\", \"morris\", \"morris\", \"morris\", \"mother\", \"mother\", \"mother\", \"mother\", \"mr\", \"mr\", \"mr\", \"mr\", \"mr\", \"mr\", \"mr\", \"muslim\", \"muslim\", \"muslim\", \"muslim\", \"muslims\", \"muslims\", \"muslims\", \"muslims\", \"nasa\", \"nasa\", \"nasa\", \"nasa\", \"nation\", \"nation\", \"nation\", \"nation\", \"nation\", \"net\", \"net\", \"net\", \"net\", \"net\", \"net\", \"net\", \"net\", \"netcom\", \"netcom\", \"new\", \"new\", \"new\", \"new\", \"new\", \"new\", \"new\", \"new\", \"new\", \"new\", \"newsgroup\", \"newsgroup\", \"newsgroup\", \"newsgroup\", \"newsgroup\", \"newsgroup\", \"newsreader\", \"newsreader\", \"newsreader\", \"newsreader\", \"newsreader\", \"nick\", \"nick\", \"nick\", \"nick\", \"nick\", \"nick\", \"nntp\", \"nntp\", \"nntp\", \"nntp\", \"nntp\", \"nntp\", \"nntp\", \"nntp\", \"nsmca\", \"oac\", \"oac\", \"occupied\", \"occupied\", \"occupied\", \"ohanus\", \"old\", \"old\", \"old\", \"old\", \"old\", \"old\", \"old\", \"old\", \"old\", \"old\", \"online\", \"online\", \"online\", \"online\", \"online\", \"orbit\", \"orbit\", \"orbit\", \"orbit\", \"orbital\", \"orbital\", \"organization\", \"organization\", \"organization\", \"organization\", \"organization\", \"organization\", \"organization\", \"organization\", \"organization\", \"organization\", \"ottoman\", \"oz\", \"oz\", \"oz\", \"oz\", \"package\", \"package\", \"package\", \"package\", \"package\", \"package\", \"palestine\", \"palestinian\", \"palestinians\", \"passes\", \"passes\", \"passes\", \"passes\", \"passes\", \"pat\", \"pat\", \"pat\", \"pat\", \"pc\", \"pc\", \"pc\", \"pc\", \"peace\", \"peace\", \"peace\", \"peace\", \"people\", \"people\", \"people\", \"people\", \"people\", \"people\", \"people\", \"people\", \"people\", \"people\", \"peter\", \"peter\", \"peter\", \"peter\", \"peter\", \"peter\", \"phillies\", \"phillies\", \"phillies\", \"pitch\", \"pitch\", \"pitch\", \"pitch\", \"pitcher\", \"pitcher\", \"pitchers\", \"pitchers\", \"pitching\", \"pitching\", \"pixel\", \"planet\", \"planet\", \"planet\", \"planet\", \"planet\", \"planetary\", \"planetary\", \"planetary\", \"planetary\", \"play\", \"play\", \"play\", \"play\", \"play\", \"play\", \"player\", \"player\", \"player\", \"player\", \"player\", \"players\", \"players\", \"players\", \"players\", \"point\", \"point\", \"point\", \"point\", \"point\", \"point\", \"point\", \"point\", \"point\", \"point\", \"points\", \"points\", \"points\", \"points\", \"points\", \"points\", \"points\", \"points\", \"points\", \"policy\", \"policy\", \"policy\", \"policy\", \"policy\", \"polygon\", \"polygon\", \"polygon\", \"population\", \"population\", \"population\", \"population\", \"population\", \"population\", \"posting\", \"posting\", \"posting\", \"posting\", \"posting\", \"posting\", \"posting\", \"posting\", \"posting\", \"prb\", \"proceeded\", \"proceeded\", \"program\", \"program\", \"program\", \"program\", \"program\", \"programming\", \"programming\", \"programs\", \"programs\", \"project\", \"project\", \"project\", \"project\", \"project\", \"project\", \"project\", \"project\", \"propulsion\", \"propulsion\", \"propulsion\", \"pub\", \"pub\", \"reason\", \"reason\", \"reason\", \"reason\", \"reason\", \"reason\", \"reason\", \"reason\", \"reason\", \"religion\", \"religion\", \"religion\", \"religious\", \"religious\", \"religious\", \"reply\", \"reply\", \"reply\", \"reply\", \"reply\", \"reply\", \"reply\", \"reply\", \"reply\", \"republic\", \"republic\", \"republic\", \"research\", \"research\", \"research\", \"research\", \"research\", \"research\", \"research\", \"research\", \"research\", \"right\", \"right\", \"right\", \"right\", \"right\", \"right\", \"right\", \"right\", \"right\", \"right\", \"rights\", \"rights\", \"rights\", \"rights\", \"rights\", \"rights\", \"roads\", \"roads\", \"rochester\", \"rochester\", \"rochester\", \"rochester\", \"rocket\", \"rocket\", \"rocket\", \"rocket\", \"rocket\", \"rocket\", \"roger\", \"ron\", \"ron\", \"ron\", \"room\", \"room\", \"room\", \"room\", \"room\", \"room\", \"room\", \"rule\", \"rule\", \"rule\", \"rule\", \"rule\", \"rule\", \"rule\", \"rule\", \"runs\", \"runs\", \"runs\", \"runs\", \"runs\", \"runs\", \"russian\", \"russian\", \"russian\", \"russian\", \"said\", \"said\", \"said\", \"said\", \"said\", \"said\", \"said\", \"said\", \"said\", \"said\", \"satellite\", \"satellite\", \"satellite\", \"satellites\", \"satellites\", \"saw\", \"saw\", \"saw\", \"saw\", \"saw\", \"saw\", \"saw\", \"saw\", \"saw\", \"saw\", \"say\", \"say\", \"say\", \"say\", \"say\", \"say\", \"say\", \"say\", \"say\", \"say\", \"says\", \"says\", \"says\", \"says\", \"says\", \"says\", \"says\", \"says\", \"says\", \"science\", \"science\", \"science\", \"science\", \"science\", \"science\", \"science\", \"science\", \"science\", \"science\", \"scott\", \"scott\", \"scott\", \"scott\", \"scott\", \"scott\", \"scott\", \"scott\", \"sdpa\", \"sdpa\", \"season\", \"season\", \"sense\", \"sense\", \"sense\", \"sense\", \"sense\", \"sense\", \"sense\", \"sense\", \"sera\", \"serbs\", \"serdar\", \"serve\", \"serve\", \"serve\", \"serve\", \"serve\", \"shuttle\", \"shuttle\", \"sky\", \"sky\", \"sky\", \"sky\", \"software\", \"software\", \"software\", \"software\", \"software\", \"software\", \"software\", \"software\", \"solar\", \"solar\", \"solar\", \"soul\", \"soul\", \"soul\", \"soviet\", \"soviet\", \"soviet\", \"soviet\", \"sox\", \"sox\", \"space\", \"space\", \"space\", \"space\", \"spacecraft\", \"spacecraft\", \"spacecraft\", \"spacecraft\", \"spencer\", \"spencer\", \"spencer\", \"spencer\", \"started\", \"started\", \"started\", \"started\", \"started\", \"started\", \"started\", \"started\", \"started\", \"started\", \"state\", \"state\", \"state\", \"state\", \"state\", \"state\", \"state\", \"state\", \"state\", \"state\", \"station\", \"station\", \"station\", \"station\", \"station\", \"station\", \"stats\", \"stats\", \"stats\", \"stats\", \"steve\", \"steve\", \"steve\", \"steve\", \"steve\", \"steve\", \"steve\", \"street\", \"street\", \"street\", \"street\", \"street\", \"street\", \"subject\", \"subject\", \"subject\", \"subject\", \"subject\", \"subject\", \"subject\", \"subject\", \"subject\", \"subject\", \"sumgait\", \"summary\", \"summary\", \"summary\", \"summary\", \"summary\", \"summary\", \"summary\", \"summary\", \"talking\", \"talking\", \"talking\", \"talking\", \"talking\", \"talking\", \"talking\", \"talking\", \"tar\", \"team\", \"team\", \"team\", \"team\", \"team\", \"teams\", \"teams\", \"teams\", \"teams\", \"technology\", \"technology\", \"technology\", \"technology\", \"technology\", \"telescope\", \"telescope\", \"telescope\", \"territories\", \"territories\", \"territories\", \"thanks\", \"thanks\", \"thanks\", \"thanks\", \"thanks\", \"thanks\", \"thanks\", \"thanks\", \"thanks\", \"thanks\", \"things\", \"things\", \"things\", \"things\", \"things\", \"things\", \"things\", \"things\", \"things\", \"think\", \"think\", \"think\", \"think\", \"think\", \"think\", \"think\", \"think\", \"think\", \"think\", \"ti\", \"tiff\", \"tim\", \"tim\", \"tim\", \"tim\", \"tim\", \"time\", \"time\", \"time\", \"time\", \"time\", \"time\", \"time\", \"time\", \"time\", \"time\", \"today\", \"today\", \"today\", \"today\", \"today\", \"today\", \"today\", \"today\", \"today\", \"today\", \"told\", \"told\", \"told\", \"told\", \"told\", \"told\", \"told\", \"told\", \"took\", \"took\", \"took\", \"took\", \"took\", \"took\", \"took\", \"took\", \"took\", \"toronto\", \"toronto\", \"toronto\", \"toronto\", \"toronto\", \"toronto\", \"toronto\", \"trying\", \"trying\", \"trying\", \"trying\", \"trying\", \"trying\", \"trying\", \"trying\", \"trying\", \"trying\", \"turkey\", \"turkey\", \"turkey\", \"turkish\", \"turkish\", \"turks\", \"turks\", \"uci\", \"uci\", \"uci\", \"uiuc\", \"uiuc\", \"uiuc\", \"uiuc\", \"uiuc\", \"uiuc\", \"uiuc\", \"uk\", \"uk\", \"uk\", \"umd\", \"umd\", \"umd\", \"university\", \"university\", \"university\", \"university\", \"university\", \"university\", \"university\", \"university\", \"university\", \"usa\", \"usa\", \"usa\", \"usa\", \"usa\", \"usa\", \"usa\", \"usa\", \"usa\", \"usc\", \"usc\", \"usc\", \"usc\", \"use\", \"use\", \"use\", \"use\", \"use\", \"use\", \"use\", \"use\", \"use\", \"use\", \"uucp\", \"uucp\", \"uucp\", \"uucp\", \"uucp\", \"uucp\", \"uucp\", \"uucp\", \"uxa\", \"uxa\", \"uxa\", \"vax\", \"vax\", \"vax\", \"vax\", \"vax\", \"vax\", \"vehicle\", \"vehicle\", \"vehicle\", \"vehicle\", \"vehicle\", \"venus\", \"venus\", \"venus\", \"venus\", \"version\", \"version\", \"version\", \"version\", \"version\", \"version\", \"version\", \"version\", \"video\", \"video\", \"video\", \"video\", \"viewer\", \"viewer\", \"viewer\", \"vms\", \"vms\", \"vms\", \"vms\", \"vms\", \"vms\", \"vms\", \"vms\", \"vs\", \"vs\", \"vs\", \"vs\", \"vs\", \"vs\", \"want\", \"want\", \"want\", \"want\", \"want\", \"want\", \"want\", \"want\", \"want\", \"want\", \"wants\", \"wants\", \"wants\", \"wants\", \"wants\", \"wants\", \"wants\", \"war\", \"war\", \"war\", \"war\", \"washington\", \"washington\", \"washington\", \"washington\", \"washington\", \"washington\", \"washington\", \"washington\", \"way\", \"way\", \"way\", \"way\", \"way\", \"way\", \"way\", \"way\", \"way\", \"way\", \"went\", \"went\", \"went\", \"went\", \"went\", \"went\", \"went\", \"wife\", \"wife\", \"wife\", \"wife\", \"wife\", \"wife\", \"wife\", \"win\", \"win\", \"win\", \"win\", \"win\", \"windows\", \"windows\", \"windows\", \"won\", \"won\", \"won\", \"won\", \"won\", \"won\", \"won\", \"won\", \"won\", \"won\", \"wondering\", \"wondering\", \"wondering\", \"wondering\", \"wondering\", \"word\", \"word\", \"word\", \"word\", \"word\", \"word\", \"word\", \"word\", \"word\", \"word\", \"words\", \"words\", \"words\", \"words\", \"words\", \"words\", \"words\", \"words\", \"words\", \"words\", \"world\", \"world\", \"world\", \"world\", \"world\", \"world\", \"world\", \"world\", \"world\", \"world\", \"writes\", \"writes\", \"writes\", \"writes\", \"writes\", \"writes\", \"writes\", \"writes\", \"writes\", \"xv\", \"year\", \"year\", \"year\", \"year\", \"year\", \"year\", \"year\", \"year\", \"year\", \"years\", \"years\", \"years\", \"years\", \"years\", \"years\", \"years\", \"years\", \"years\", \"zionism\", \"zip\", \"zip\", \"zip\", \"zip\", \"zoo\", \"zoo\", \"zoo\", \"zuma\"]}, \"R\": 30, \"lambda.step\": 0.01, \"plot.opts\": {\"xlab\": \"PC1\", \"ylab\": \"PC2\"}, \"topic.order\": [3, 7, 8, 4, 6, 9, 2, 1, 10, 5]};\n",
              "\n",
              "function LDAvis_load_lib(url, callback){\n",
              "  var s = document.createElement('script');\n",
              "  s.src = url;\n",
              "  s.async = true;\n",
              "  s.onreadystatechange = s.onload = callback;\n",
              "  s.onerror = function(){console.warn(\"failed to load library \" + url);};\n",
              "  document.getElementsByTagName(\"head\")[0].appendChild(s);\n",
              "}\n",
              "\n",
              "if(typeof(LDAvis) !== \"undefined\"){\n",
              "   // already loaded: just create the visualization\n",
              "   !function(LDAvis){\n",
              "       new LDAvis(\"#\" + \"ldavis_el80791391033730108488732873769\", ldavis_el80791391033730108488732873769_data);\n",
              "   }(LDAvis);\n",
              "}else if(typeof define === \"function\" && define.amd){\n",
              "   // require.js is available: use it to load d3/LDAvis\n",
              "   require.config({paths: {d3: \"https://d3js.org/d3.v5\"}});\n",
              "   require([\"d3\"], function(d3){\n",
              "      window.d3 = d3;\n",
              "      LDAvis_load_lib(\"https://cdn.jsdelivr.net/gh/bmabey/pyLDAvis@3.4.0/pyLDAvis/js/ldavis.v3.0.0.js\", function(){\n",
              "        new LDAvis(\"#\" + \"ldavis_el80791391033730108488732873769\", ldavis_el80791391033730108488732873769_data);\n",
              "      });\n",
              "    });\n",
              "}else{\n",
              "    // require.js not available: dynamically load d3 & LDAvis\n",
              "    LDAvis_load_lib(\"https://d3js.org/d3.v5.js\", function(){\n",
              "         LDAvis_load_lib(\"https://cdn.jsdelivr.net/gh/bmabey/pyLDAvis@3.4.0/pyLDAvis/js/ldavis.v3.0.0.js\", function(){\n",
              "                 new LDAvis(\"#\" + \"ldavis_el80791391033730108488732873769\", ldavis_el80791391033730108488732873769_data);\n",
              "            })\n",
              "         });\n",
              "}\n",
              "</script>"
            ]
          },
          "metadata": {},
          "execution_count": 6
        }
      ]
    }
  ]
}